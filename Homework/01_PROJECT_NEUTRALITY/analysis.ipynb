{
 "cells": [
  {
   "cell_type": "markdown",
   "id": "579b567a-2b80-4bf1-8cc1-c514da76ca50",
   "metadata": {},
   "source": [
    "# (ADA) Homework 1: Scoring the Language Model Olympics\n",
    "\n",
    "---\n",
    "\n",
    "By the end of this homework, we expect you to be able to:\n",
    "\n",
    "- Load data and handle data using pandas;\n",
    "- Navigate the documentation of Python packages by yourself;\n",
    "- Filter and tidy up noisy real-world datasets;\n",
    "- Aggregate your data in different (and hopefully helpful) ways;\n",
    "- Create meaningful visualizations to analyze the data;\n",
    "- Communicate your findings in a clear and concise manner\n",
    "\n",
    "---\n",
    "\n",
    "**Important Dates.**\n",
    "\n",
    "- Homework release: Fri 04 Oct 2024\n",
    "- Homework due: Sat 18 Oct 2024, 23:59\n",
    "- Grade release: Mon 04 Nov 2024\n",
    "\n",
    "**Some rules**\n",
    "\n",
    "- You are allowed to use any built-in Python library that comes with Anaconda. If you want to use an external library, you may do so, but must justify your choice.\n",
    "- Make sure you use the data folder provided in the repository in read-only mode. (Or alternatively, be sure you don’t change any of the files.)\n",
    "- **Be sure to provide a concise textual description of your thought process, the assumptions you made, the solution you implemented, and explanations for your answers.** A notebook that only has code cells will not suffice. To avoid confusion: use short comments for longer code answers.\n",
    "- For questions containing the /Discuss:/ prefix, answer not with code, but with a textual explanation (in markdown).\n",
    "- Back up any hypotheses and claims with data, since this is an important aspect of the course.\n",
    "- Please write all your comments in English, and use meaningful variable names in your code. Your repo should have a single notebook (plus the required data files) in the master/main branch. If there are multiple notebooks present, we will not grade anything.\n",
    "- We will not run your notebook for you! Rather, we will grade it as is, which means that only the results contained in your evaluated code cells will be considered, and we will not see the results in unevaluated code cells. Thus, be sure to hand in a fully-run and evaluated notebook. In order to check whether everything looks as intended, you can check the rendered notebook on the GitHub website once you have pushed your solution there.\n",
    "- In continuation to the previous point, interactive plots, such as those generated using the ‘plotly’ package, should be strictly avoided! Make sure to print results and/or dataframes that confirm you have properly addressed the task.\n",
    "\n",
    "**A Note on using Language Models (LMs)**\n",
    "\n",
    "If you try hard enough, you will likely get away with cheating. Fortunately, our job is not to police, but rather to educate! So, please consider the following:\n",
    "- Presumably, you are taking this course to learn something! LMs are not always right ([they often fail in silly ways](https://community.openai.com/t/why-9-11-is-larger-than-9-9-incredible/869824/4)). This course should prepare you to detect when they are wrong!\n",
    "- Some of the TAs on this course literally published many works on detecting machine-generated text.\n",
    "---"
   ]
  },
  {
   "cell_type": "markdown",
   "id": "4f85896e-c0ae-4ae3-af41-46149faa2278",
   "metadata": {},
   "source": [
    "## Context\n",
    "\n",
    "Context\n",
    "AI is booming! Newspapers, influencers, and your relatives all agree that AI is important. But while almost everyone agrees that AI is the future, much is unclear about what that future looks like…\n",
    "\n",
    "Freshly graduated from the EPFL, you are hired by the Swiss government to **advise on a large-scale “AI integration” initiative code-named **\"NEUTRALITY\"**** (Navigating Efficient Upgrades Through Robust Artificial Learning Integration Techniques Yearly). Convinced by the stunning progress in language modeling, the government would like to battle the growing shortages in the education sector by using LMs. Your job description: investigate which LMs might be best suited!\n",
    "\n",
    "You are given the results of three LMs on the [“Massive Multitask Language Understanding (MMLU)”](https://arxiv.org/abs/2009.03300) dataset to compare. This famous dataset consists of 57 subjects with multiple-choice questions, covering diverse subjects like mathematics, computer science, history, and law. Most providers of state-of-the-art LMs use this dataset to showcase the versatility of their latest models. Unfortunately, Horta-Ribeiro, the intern responsible for collecting the results, didn’t take EPFL’s famous ADA course. As a result, the collected datasets are slightly corrupted.\n",
    "\n",
    "### A very brief primer on Language Models\n",
    "Language models (LMs) are sophisticated statistical models designed to understand and generate human-like text. At their core, LMs are trained to predict the most likely continuation of a given input text. For example, given the input \"The cat sat on the,\" an LM might predict \"mat\" as a likely continuation.\n",
    "LMs are trained on vast text samples from various sources, including books, websites, and social media. This extensive training allows them to **capture patterns and relationships in language**, enabling them to generate coherent and contextually appropriate text across a wide range of topics and styles.\n",
    "\n",
    "While LMs can produce text that appears to be written by intelligent humans, it's important to note that their capabilities can diverge from human intelligence in unexpected ways. They may sometimes generate factually incorrect information or struggle with complex reasoning tasks.\n",
    "\n",
    "Two key concepts in understanding LMs are:\n",
    "1. **Tokens**: LMs process text using \"tokens\" rather than individual characters. Tokens can be words, parts of words, or punctuation marks. For example, the sentence \"I love AI!\" might be tokenized as [\"I\", \"love\", \"AI\", \"!\"]. **Tokenization** is the first step in both training and using an LM.\n",
    "2. **Context**: The input text provided to an LM is called the \"context.\" This context informs the model's predictions or generations. A longer or more specific context often leads to more accurate and relevant outputs.\n",
    "\n",
    "[See: Wikipedia entry on language models](https://en.wikipedia.org/wiki/Large_language_model)\n",
    "\n",
    "###  Files for this assignment\n",
    "This assignment is divided into three tasks, each of which should bring you a step closer to providing a recommendation toward project NEUTRALITY’s objectives:\n",
    "\n",
    "- **Task 1**: Inspecting the results and getting your first model ranking\n",
    "- **Task 2**: Inspecting the underlying data used to generate the results for possible biases\n",
    "- **Task 3**: Learning about tokens and providing a final recommendation\n",
    "\n",
    "\n",
    "```\n",
    "📁 PROJECT_NEUTRALITY\n",
    "│\n",
    "├── 📄 analysis.ipynb (the file you're currently reading!)\n",
    "├── 📄 requirements.txt (install into your environment)\n",
    "│\n",
    "├── 📁 task_1\n",
    "├── 📁 task_2\n",
    "└── 📁 task_2.5\n",
    "```   \n",
    " "
   ]
  },
  {
   "cell_type": "code",
   "execution_count": 1,
   "id": "2dc6519807d41fb8",
   "metadata": {
    "ExecuteTime": {
     "end_time": "2024-10-09T17:55:19.720869Z",
     "start_time": "2024-10-09T17:55:19.716640Z"
    }
   },
   "outputs": [],
   "source": [
    "# please make sure you install the packages listed in the requirements.txt file in your environment!\n",
    "# using pip\n",
    "# pip install -r requirements.txt\n",
    "#\n",
    "# using Conda:\n",
    "# conda create --name <env_name> --file requirements.txt\n",
    "#\n",
    "# some basic imports"
   ]
  },
  {
   "cell_type": "code",
   "execution_count": 2,
   "id": "95ce4c12-9681-401e-9489-aa0765b19d5d",
   "metadata": {
    "ExecuteTime": {
     "end_time": "2024-10-09T17:55:22.251256Z",
     "start_time": "2024-10-09T17:55:20.212299Z"
    }
   },
   "outputs": [],
   "source": [
    "import os\n",
    "import pandas as pd\n",
    "import numpy as np\n",
    "import matplotlib.pyplot as plt\n",
    "import warnings\n",
    "from scipy.stats import ttest_ind\n",
    "import plot_config"
   ]
  },
  {
   "cell_type": "markdown",
   "id": "e62594ad-4f5f-4a46-80bc-deacf66b62e9",
   "metadata": {},
   "source": [
    "## Task 1 (18 points): What's in an average anyway?\n",
    "\n",
    "The files needed to complete task 1 can be found in the folder \"`data/task_1/`:\n",
    "```\n",
    "task_1/\n",
    "│\n",
    "├── mmlu_data/\n",
    "│   └── test.csv\n",
    "│\n",
    "└── lm_scores/\n",
    "    ├── lm_X.csv\n",
    "    ├── lm_Y.csv\n",
    "    └── lm_Z.csv\n",
    "```\n",
    "\n",
    "We will start by loading, (manually) inspecting, and cleaning the data. Although it doesn't seem \"glamorous\" (nor is it particularly fun...) - manually inspecting data is extremely important! In fact, it's one of the few things most AI and Data Science researchers agree on :). Next, we will take a first pass on ordering our Olympic podium between three LMs."
   ]
  },
  {
   "cell_type": "markdown",
   "id": "f8605646-79fa-4cb3-8137-b6951bd1e064",
   "metadata": {},
   "source": [
    "### 1.1 (1 pt)\n",
    " \n",
    "Load the subfiles contained in the `mmlu_data` and `lm_scores` folders into separate dataframes:\n",
    "- `df_test`\n",
    "- `df_x`\n",
    "- `df_y`\n",
    "- `df_z`\n",
    "\n",
    "for each, print their sizes."
   ]
  },
  {
   "cell_type": "code",
   "execution_count": 3,
   "id": "e6ce5e96-7de6-463d-a00b-6a4b2cfc8cb3",
   "metadata": {
    "ExecuteTime": {
     "end_time": "2024-10-09T17:55:23.566715Z",
     "start_time": "2024-10-09T17:55:23.372815Z"
    }
   },
   "outputs": [
    {
     "name": "stdout",
     "output_type": "stream",
     "text": [
      "Shape of df_test: (14042, 8)\n",
      "Shape of df_x: (13882, 2)\n",
      "Shape of df_y: (13978, 2)\n",
      "Shape of df_z: (13923, 2)\n"
     ]
    }
   ],
   "source": [
    "df_test = pd.read_csv(filepath_or_buffer=f\"task_1/mmlu_data/test.csv\", sep=\",\")\n",
    "df_x = pd.read_csv(filepath_or_buffer=\"task_1/lm_scores/lm_X.csv\", sep=\",\")\n",
    "df_y = pd.read_csv(filepath_or_buffer=\"task_1/lm_scores/lm_Y.csv\", sep=\",\")\n",
    "df_z = pd.read_csv(filepath_or_buffer=\"task_1/lm_scores/lm_Z.csv\", sep=\",\")\n",
    "\n",
    "# Instead of printing the size, let's print the shape to get additional information\n",
    "print(f\"Shape of df_test: {df_test.shape}\")\n",
    "print(f\"Shape of df_x: {df_x.shape}\")\n",
    "print(f\"Shape of df_y: {df_y.shape}\")\n",
    "print(f\"Shape of df_z: {df_z.shape}\")"
   ]
  },
  {
   "cell_type": "code",
   "execution_count": 4,
   "id": "bf8cb11f604f5fd6",
   "metadata": {
    "ExecuteTime": {
     "end_time": "2024-10-09T17:55:23.730169Z",
     "start_time": "2024-10-09T17:55:23.702264Z"
    }
   },
   "outputs": [
    {
     "data": {
      "text/plain": "                                            question           A  \\\n0  Find the degree for the given field extension ...           0   \n1  Let p = (1, 2, 5, 4)(2, 3) in S_5 . Find the i...           8   \n2  Find all zeros in the indicated finite field o...           0   \n3  Statement 1 | A factor group of a non-Abelian ...  True, True   \n4  Find the product of the given polynomials in t...    2x^2 + 5   \n\n               B            C            D answer           subject  \\\n0              4            2            6      B  abstract algebra   \n1              2           24          120      C  abstract algebra   \n2              1          0,1          0,4      D  abstract algebra   \n3   False, False  True, False  False, True      B  abstract algebra   \n4  6x^2 + 4x + 6            0      x^2 + 1      B  abstract algebra   \n\n   question_id  \n0            0  \n1            1  \n2            2  \n3            3  \n4            4  ",
      "text/html": "<div>\n<style scoped>\n    .dataframe tbody tr th:only-of-type {\n        vertical-align: middle;\n    }\n\n    .dataframe tbody tr th {\n        vertical-align: top;\n    }\n\n    .dataframe thead th {\n        text-align: right;\n    }\n</style>\n<table border=\"1\" class=\"dataframe\">\n  <thead>\n    <tr style=\"text-align: right;\">\n      <th></th>\n      <th>question</th>\n      <th>A</th>\n      <th>B</th>\n      <th>C</th>\n      <th>D</th>\n      <th>answer</th>\n      <th>subject</th>\n      <th>question_id</th>\n    </tr>\n  </thead>\n  <tbody>\n    <tr>\n      <th>0</th>\n      <td>Find the degree for the given field extension ...</td>\n      <td>0</td>\n      <td>4</td>\n      <td>2</td>\n      <td>6</td>\n      <td>B</td>\n      <td>abstract algebra</td>\n      <td>0</td>\n    </tr>\n    <tr>\n      <th>1</th>\n      <td>Let p = (1, 2, 5, 4)(2, 3) in S_5 . Find the i...</td>\n      <td>8</td>\n      <td>2</td>\n      <td>24</td>\n      <td>120</td>\n      <td>C</td>\n      <td>abstract algebra</td>\n      <td>1</td>\n    </tr>\n    <tr>\n      <th>2</th>\n      <td>Find all zeros in the indicated finite field o...</td>\n      <td>0</td>\n      <td>1</td>\n      <td>0,1</td>\n      <td>0,4</td>\n      <td>D</td>\n      <td>abstract algebra</td>\n      <td>2</td>\n    </tr>\n    <tr>\n      <th>3</th>\n      <td>Statement 1 | A factor group of a non-Abelian ...</td>\n      <td>True, True</td>\n      <td>False, False</td>\n      <td>True, False</td>\n      <td>False, True</td>\n      <td>B</td>\n      <td>abstract algebra</td>\n      <td>3</td>\n    </tr>\n    <tr>\n      <th>4</th>\n      <td>Find the product of the given polynomials in t...</td>\n      <td>2x^2 + 5</td>\n      <td>6x^2 + 4x + 6</td>\n      <td>0</td>\n      <td>x^2 + 1</td>\n      <td>B</td>\n      <td>abstract algebra</td>\n      <td>4</td>\n    </tr>\n  </tbody>\n</table>\n</div>"
     },
     "execution_count": 4,
     "metadata": {},
     "output_type": "execute_result"
    }
   ],
   "source": [
    "# Have a look at the different DataFrames\n",
    "df_test.head()"
   ]
  },
  {
   "cell_type": "code",
   "execution_count": 5,
   "id": "7fb8a2338bbe82fc",
   "metadata": {
    "ExecuteTime": {
     "end_time": "2024-10-09T17:55:24.223598Z",
     "start_time": "2024-10-09T17:55:24.213010Z"
    }
   },
   "outputs": [
    {
     "data": {
      "text/plain": "   question_id     result\n0            0          B\n1            1          C\n2            2         D \n3            3         B \n4            4  Answer: B",
      "text/html": "<div>\n<style scoped>\n    .dataframe tbody tr th:only-of-type {\n        vertical-align: middle;\n    }\n\n    .dataframe tbody tr th {\n        vertical-align: top;\n    }\n\n    .dataframe thead th {\n        text-align: right;\n    }\n</style>\n<table border=\"1\" class=\"dataframe\">\n  <thead>\n    <tr style=\"text-align: right;\">\n      <th></th>\n      <th>question_id</th>\n      <th>result</th>\n    </tr>\n  </thead>\n  <tbody>\n    <tr>\n      <th>0</th>\n      <td>0</td>\n      <td>B</td>\n    </tr>\n    <tr>\n      <th>1</th>\n      <td>1</td>\n      <td>C</td>\n    </tr>\n    <tr>\n      <th>2</th>\n      <td>2</td>\n      <td>D</td>\n    </tr>\n    <tr>\n      <th>3</th>\n      <td>3</td>\n      <td>B</td>\n    </tr>\n    <tr>\n      <th>4</th>\n      <td>4</td>\n      <td>Answer: B</td>\n    </tr>\n  </tbody>\n</table>\n</div>"
     },
     "execution_count": 5,
     "metadata": {},
     "output_type": "execute_result"
    }
   ],
   "source": [
    "df_x.head()"
   ]
  },
  {
   "cell_type": "code",
   "execution_count": 6,
   "id": "cf38b39dd6d829e5",
   "metadata": {
    "ExecuteTime": {
     "end_time": "2024-10-09T17:55:25.212763Z",
     "start_time": "2024-10-09T17:55:25.205391Z"
    }
   },
   "outputs": [
    {
     "data": {
      "text/plain": "   question_id     result\n0            0  Answer: D\n1            1          D\n2            2  Answer: D\n3            3        NaN\n4            4          D",
      "text/html": "<div>\n<style scoped>\n    .dataframe tbody tr th:only-of-type {\n        vertical-align: middle;\n    }\n\n    .dataframe tbody tr th {\n        vertical-align: top;\n    }\n\n    .dataframe thead th {\n        text-align: right;\n    }\n</style>\n<table border=\"1\" class=\"dataframe\">\n  <thead>\n    <tr style=\"text-align: right;\">\n      <th></th>\n      <th>question_id</th>\n      <th>result</th>\n    </tr>\n  </thead>\n  <tbody>\n    <tr>\n      <th>0</th>\n      <td>0</td>\n      <td>Answer: D</td>\n    </tr>\n    <tr>\n      <th>1</th>\n      <td>1</td>\n      <td>D</td>\n    </tr>\n    <tr>\n      <th>2</th>\n      <td>2</td>\n      <td>Answer: D</td>\n    </tr>\n    <tr>\n      <th>3</th>\n      <td>3</td>\n      <td>NaN</td>\n    </tr>\n    <tr>\n      <th>4</th>\n      <td>4</td>\n      <td>D</td>\n    </tr>\n  </tbody>\n</table>\n</div>"
     },
     "execution_count": 6,
     "metadata": {},
     "output_type": "execute_result"
    }
   ],
   "source": [
    "df_y.head()"
   ]
  },
  {
   "cell_type": "code",
   "execution_count": 7,
   "id": "f772b02bc73f7b93",
   "metadata": {
    "ExecuteTime": {
     "end_time": "2024-10-09T17:55:25.979703Z",
     "start_time": "2024-10-09T17:55:25.972510Z"
    }
   },
   "outputs": [
    {
     "data": {
      "text/plain": "   question_id     result\n0            0          B\n1            1  Answer: B\n2            2          C\n3            3         B \n4            4          B",
      "text/html": "<div>\n<style scoped>\n    .dataframe tbody tr th:only-of-type {\n        vertical-align: middle;\n    }\n\n    .dataframe tbody tr th {\n        vertical-align: top;\n    }\n\n    .dataframe thead th {\n        text-align: right;\n    }\n</style>\n<table border=\"1\" class=\"dataframe\">\n  <thead>\n    <tr style=\"text-align: right;\">\n      <th></th>\n      <th>question_id</th>\n      <th>result</th>\n    </tr>\n  </thead>\n  <tbody>\n    <tr>\n      <th>0</th>\n      <td>0</td>\n      <td>B</td>\n    </tr>\n    <tr>\n      <th>1</th>\n      <td>1</td>\n      <td>Answer: B</td>\n    </tr>\n    <tr>\n      <th>2</th>\n      <td>2</td>\n      <td>C</td>\n    </tr>\n    <tr>\n      <th>3</th>\n      <td>3</td>\n      <td>B</td>\n    </tr>\n    <tr>\n      <th>4</th>\n      <td>4</td>\n      <td>B</td>\n    </tr>\n  </tbody>\n</table>\n</div>"
     },
     "execution_count": 7,
     "metadata": {},
     "output_type": "execute_result"
    }
   ],
   "source": [
    "df_z.head()"
   ]
  },
  {
   "cell_type": "markdown",
   "id": "acbda57d-7df2-4e33-b31c-52bc0af6753e",
   "metadata": {},
   "source": [
    "### 1.2 (4 pt)\n",
    "Unfortunately, LMs don't always output the format we want. In the column `result`, the value should be one of A, B, C, or D. \n",
    "\n",
    "A. For each of the LM score dataframes, use a `value_counts()` operation and print the results. \n",
    "\n",
    "B. /Discuss:/ Inspect the results and describe the types of answer formats you see. Besides the \"expected\" case, you should be able to find at least four unexpected formats."
   ]
  },
  {
   "cell_type": "code",
   "execution_count": 8,
   "id": "79936f23",
   "metadata": {
    "ExecuteTime": {
     "end_time": "2024-10-09T17:55:27.263785Z",
     "start_time": "2024-10-09T17:55:27.254966Z"
    }
   },
   "outputs": [
    {
     "name": "stdout",
     "output_type": "stream",
     "text": [
      "Results for LM X:\n"
     ]
    },
    {
     "data": {
      "text/plain": "result\nA                                                                                                                 2733\nA                                                                                                                 1657\nB                                                                                                                 1412\nAnswer: A                                                                                                         1398\nC                                                                                                                 1134\n                                                                                                                  ... \njudicial activism, so the answer is A                                                                                1\ncreating insurmountable obstacles to the founding of factions, so the answer is A                                    1\nA congressperson who retires to take a position teaching political science at a university, so the answer is A       1\nDavid Hume, so the answer is D                                                                                       1\nBrahminic orthodoxy, so the answer is A                                                                              1\nName: count, Length: 145, dtype: int64"
     },
     "execution_count": 8,
     "metadata": {},
     "output_type": "execute_result"
    }
   ],
   "source": [
    "print(\"Results for LM X:\")\n",
    "df_x[\"result\"].value_counts()"
   ]
  },
  {
   "cell_type": "code",
   "execution_count": 9,
   "id": "c5bcf46eb4253c5c",
   "metadata": {
    "ExecuteTime": {
     "end_time": "2024-10-09T17:55:27.913707Z",
     "start_time": "2024-10-09T17:55:27.905218Z"
    }
   },
   "outputs": [
    {
     "name": "stdout",
     "output_type": "stream",
     "text": [
      "Results for LM Y:\n"
     ]
    },
    {
     "data": {
      "text/plain": "result\nD                                                                                                2894\nAnswer: D                                                                                        1718\nC                                                                                                1701\nB                                                                                                1240\nD                                                                                                1145\n                                                                                                 ... \nWhere the energy of interaction between the atoms is at its minimum value, so the answer is A       1\nleaves more viable offspring than others of its species., so the answer is D                        1\nA and C only, so the answer is D                                                                    1\nADP + P → ATP, so the answer is D                                                                   1\nMonoclonal antibodies, so the answer is C                                                           1\nName: count, Length: 141, dtype: int64"
     },
     "execution_count": 9,
     "metadata": {},
     "output_type": "execute_result"
    }
   ],
   "source": [
    "print(\"Results for LM Y:\")\n",
    "df_y[\"result\"].value_counts()"
   ]
  },
  {
   "cell_type": "code",
   "execution_count": 10,
   "id": "695ac7315cdf7607",
   "metadata": {
    "ExecuteTime": {
     "end_time": "2024-10-09T17:55:28.661415Z",
     "start_time": "2024-10-09T17:55:28.653567Z"
    }
   },
   "outputs": [
    {
     "name": "stdout",
     "output_type": "stream",
     "text": [
      "Results for LM Z:\n"
     ]
    },
    {
     "data": {
      "text/plain": "result\nD                                                                                   2257\nC                                                                                   2191\nB                                                                                   2127\nA                                                                                   2060\nAnswer: D                                                                            777\n                                                                                    ... \nomission of a universal suffrage clause, so the answer is D                            1\ndeclare war, so the answer is D                                                        1\nstate and local governments, by means of federal funding, so the answer is B           1\nless clearly identified with consistent political ideologies, so the answer is B       1\nRahit, so the answer is B                                                              1\nName: count, Length: 560, dtype: int64"
     },
     "execution_count": 10,
     "metadata": {},
     "output_type": "execute_result"
    }
   ],
   "source": [
    "print(\"Results for LM Z:\")\n",
    "df_z[\"result\"].value_counts()"
   ]
  },
  {
   "cell_type": "markdown",
   "source": [
    "**B**. From the above, we see that most responses are in the format of A, B, C, or D. However, we also see the following (more or less) unexpected formats:\n",
    "- Letters with spaces, e.g., `\"A \"` or `\"B \"`\n",
    "- Answers with the word \"Answer: \" followed by the letter, e.g., `\"Answer: A\"`\n",
    "- Missing values, e.g., `nan`\n",
    "- Responses such as `\"None of the above\"` or `\"Not Sure\"`\n",
    "- Other responses are in an \"un-extracted format, i.e. they contain the explanation of the LM, e.g. `\"By comparing the maximum altitude of the Sun in two cities at different latitudes at the same time on the same day., so the answer is C\"`. "
   ],
   "metadata": {
    "collapsed": false
   },
   "id": "20881e93185848cb"
  },
  {
   "cell_type": "markdown",
   "id": "88c5551d-1968-427b-bdd6-51d996898e7c",
   "metadata": {},
   "source": [
    "### 1.3 (5 pt)\n",
    "Oh oh... That doesn't look great. Simply dropping all invalid answers seems overly wasteful, yet fixing all of these looks like a mess! Instead, let's focus for now on fixing just those answers of length < 10 characters that require only a single `str.replace()` operation. \n",
    "\n",
    "For example, if the answer looks like `--A--`, we could fix this by using the following simple function:\n",
    "\n",
    "```\n",
    "def clean_answer(s, pattern='-'):\n",
    "    return str(s).replace(pattern, '')\n",
    "\n",
    "dirty_answer = '--A--'\n",
    "clean_answer = clean_answer(dirty_answer)\n",
    "```\n",
    "\n",
    "A. Filter the three score dataframes to include only answers with less than 10 characters. Make a deep copy of the dataframes as you filter them.\n",
    "\n",
    "B. Modify the `clean_answer()` example function to clean the answers in the filtered data frames using the `apply()` functionality. Finally, make sure **all remaining answers are one of `A, B, C, or D`.**\n",
    "\n",
    "C. /Discuss:/ Compare the sizes of the original and filtered data frames. What do you see? Why might this be a problem?"
   ]
  },
  {
   "cell_type": "code",
   "execution_count": 11,
   "id": "aef1f933-20bf-426a-ac9d-a35e273b9bd2",
   "metadata": {
    "ExecuteTime": {
     "end_time": "2024-10-09T17:55:30.412503Z",
     "start_time": "2024-10-09T17:55:30.383475Z"
    }
   },
   "outputs": [],
   "source": [
    "# Let us first filter by the length and look at what we get, \n",
    "# We will then apply the cleaning function\n",
    "\n",
    "# Let us first drop rows with None values\n",
    "df_x_filtered = df_x.copy().dropna()\n",
    "df_y_filtered = df_y.copy().dropna()\n",
    "df_z_filtered = df_z.copy().dropna()\n",
    "\n",
    "# Filtering by length and dropping rows with None results\n",
    "cond = \"result.str.len() < 10\"\n",
    "df_x_filtered = df_x_filtered.query(cond)\n",
    "df_y_filtered = df_y_filtered.query(cond)\n",
    "df_z_filtered = df_z_filtered.query(cond)"
   ]
  },
  {
   "cell_type": "code",
   "outputs": [
    {
     "data": {
      "text/plain": "<Figure size 1500x500 with 3 Axes>",
      "image/png": "[encoded data removed]"
     },
     "metadata": {},
     "output_type": "display_data"
    }
   ],
   "source": [
    "# Let's visualize the remaining result formats\n",
    "fig, ax = plt.subplots(1, 3, figsize=(15, 5), sharey=True)\n",
    "df_x_filtered[\"result\"].value_counts().plot(kind=\"bar\", ax=ax[0], title=\"LM X\", ylabel=\"Count\", xlabel=\"\")\n",
    "df_y_filtered[\"result\"].value_counts().plot(kind=\"bar\", ax=ax[1], title=\"LM Y\", xlabel=\"\")\n",
    "df_z_filtered[\"result\"].value_counts().plot(kind=\"bar\", ax=ax[2], title=\"LM Z\", xlabel=\"\")\n",
    "plt.tight_layout()\n",
    "plt.show()"
   ],
   "metadata": {
    "collapsed": false,
    "ExecuteTime": {
     "end_time": "2024-10-09T17:55:32.528011Z",
     "start_time": "2024-10-09T17:55:31.067323Z"
    }
   },
   "id": "dcb1175286afa430",
   "execution_count": 12
  },
  {
   "cell_type": "code",
   "outputs": [
    {
     "data": {
      "text/plain": "<Figure size 1500x500 with 3 Axes>",
      "image/png": "[encoded data removed]"
     },
     "metadata": {},
     "output_type": "display_data"
    }
   ],
   "source": [
    "def clean_answer(s):\n",
    "    s = str(s)\n",
    "    if s in {\"A\", \"B\", \"C\", \"D\"}:\n",
    "        return s\n",
    "    elif \"Answer:\" in s:\n",
    "        return s.replace(\"Answer: \", \"\").strip()\n",
    "    elif \"Not Sure\" in s: \n",
    "        return np.nan\n",
    "    elif \" \" in s:\n",
    "        return s.replace(\" \", \"\")\n",
    "\n",
    "# Clean the answers \n",
    "df_x_filtered[\"result\"] = df_x_filtered[\"result\"].apply(clean_answer)\n",
    "df_y_filtered[\"result\"] = df_y_filtered[\"result\"].apply(clean_answer)\n",
    "df_z_filtered[\"result\"] = df_z_filtered[\"result\"].apply(clean_answer)\n",
    "\n",
    "# Drop the rows with None values due to the uncertainty of the language model\n",
    "df_x_filtered = df_x_filtered.dropna()\n",
    "df_y_filtered = df_y_filtered.dropna()\n",
    "df_z_filtered = df_z_filtered.dropna()\n",
    "\n",
    "# Let's visualize the remaining result formats\n",
    "fig, ax = plt.subplots(1, 3, figsize=(15, 5), sharey=True)\n",
    "df_x_filtered[\"result\"].value_counts().plot(kind=\"bar\", ax=ax[0], title=\"LM X\", xlabel=\"\", ylabel=\"Count\")\n",
    "df_y_filtered[\"result\"].value_counts().plot(kind=\"bar\", ax=ax[1], title=\"LM Y\", xlabel=\"\")\n",
    "df_z_filtered[\"result\"].value_counts().plot(kind=\"bar\", ax=ax[2], title=\"LM Z\", xlabel=\"\")\n",
    "for axis in ax: \n",
    "    axis.grid(True, alpha=0.5)\n",
    "plt.tight_layout()\n",
    "plt.show()"
   ],
   "metadata": {
    "collapsed": false,
    "ExecuteTime": {
     "end_time": "2024-10-09T17:55:33.219831Z",
     "start_time": "2024-10-09T17:55:32.530019Z"
    }
   },
   "id": "68582a3e385df026",
   "execution_count": 13
  },
  {
   "cell_type": "code",
   "outputs": [
    {
     "name": "stdout",
     "output_type": "stream",
     "text": [
      "Shape of df_x: (13882, 2), Shape of df_x_filtered: (13436, 2), Difference: 446\n",
      "Shape of df_y: (13978, 2), Shape of df_y_filtered: (13551, 2), Difference: 427\n",
      "Shape of df_z: (13923, 2), Shape of df_z_filtered: (12753, 2), Difference: 1170\n"
     ]
    }
   ],
   "source": [
    "# Let's compare the sizes of the original and filtered dataframes\n",
    "print(f\"Shape of df_x: {df_x.shape}, Shape of df_x_filtered: {df_x_filtered.shape}, Difference: {df_x.shape[0] - df_x_filtered.shape[0]}\")\n",
    "print(f\"Shape of df_y: {df_y.shape}, Shape of df_y_filtered: {df_y_filtered.shape}, Difference: {df_y.shape[0] - df_y_filtered.shape[0]}\")\n",
    "print(f\"Shape of df_z: {df_z.shape}, Shape of df_z_filtered: {df_z_filtered.shape}, Difference: {df_z.shape[0] - df_z_filtered.shape[0]}\")"
   ],
   "metadata": {
    "collapsed": false,
    "ExecuteTime": {
     "end_time": "2024-10-09T17:55:33.228834Z",
     "start_time": "2024-10-09T17:55:33.221827Z"
    }
   },
   "id": "329daa1cb7256504",
   "execution_count": 14
  },
  {
   "cell_type": "markdown",
   "id": "2415cd9b",
   "metadata": {},
   "source": [
    "**C**. In each case, the percentage of discarded data is the following:\n",
    "- LM X: $\\approx 3.2\\%$ \n",
    "- LM Y: $\\approx 3.1\\%$ \n",
    "- LM Z: $\\approx 8.4\\%$\n",
    "\n",
    "For the last case, the higher percentage might indicate that the model has more difficulty in providing a short answer. This might be a problem since we are discarding a significant amount of data, which might lead to a biased analysis.\n",
    "\n",
    "Importantly, since our goal here is to look for a great educational model, short answers might not be correlated with better performance. Indeed, most language models perform better when they use **chain-of-thought reasoning** (which requires more words). A possible trick would be to input the longer answers into another language model trained to only return the answer.  "
   ]
  },
  {
   "cell_type": "markdown",
   "id": "da1cf129-09dd-47b1-9737-2c4d57eb8853",
   "metadata": {},
   "source": [
    "### 1.4 (3 pt)\n",
    "\n",
    "Now that our answer columns are nicely formatted, let's take a look at model performance:\n",
    "\n",
    "A. Both the `MMLU` dataframes and the language model score data frames have the columns `question_id`. For each of the language model score data frames, use an inner join operation with the `df_test` dataframe on the `question_id` column.\n",
    "\n",
    "B. Add a new column to each of the resulting dataframes called `correct`, that checks if the model's answer in `result` is the same as the expected answer in the column `answer`. Then, print the average score of each model."
   ]
  },
  {
   "cell_type": "code",
   "execution_count": 15,
   "id": "e66b36f3-f5a4-4237-9b48-39b21716d7aa",
   "metadata": {
    "ExecuteTime": {
     "end_time": "2024-10-09T17:55:33.615883Z",
     "start_time": "2024-10-09T17:55:33.577138Z"
    }
   },
   "outputs": [],
   "source": [
    "# Merging the dataframes\n",
    "df_x_comparison = pd.merge(df_x_filtered, df_test, on=\"question_id\", how=\"inner\")\n",
    "df_y_comparison = pd.merge(df_y_filtered, df_test, on=\"question_id\", how=\"inner\")\n",
    "df_z_comparison = pd.merge(df_z_filtered, df_test, on=\"question_id\", how=\"inner\")\n",
    "\n",
    "# Creating the new \"correct\" column\n",
    "df_x_comparison[\"correct\"] = df_x_comparison[\"result\"] == df_x_comparison[\"answer\"]\n",
    "df_y_comparison[\"correct\"] = df_y_comparison[\"result\"] == df_y_comparison[\"answer\"]\n",
    "df_z_comparison[\"correct\"] = df_z_comparison[\"result\"] == df_z_comparison[\"answer\"]"
   ]
  },
  {
   "cell_type": "code",
   "outputs": [
    {
     "name": "stdout",
     "output_type": "stream",
     "text": [
      "First few rows of LM X comparison:\n",
      "   result answer  correct\n",
      "0      B      B     True\n",
      "1      C      C     True\n",
      "2      D      D     True\n",
      "3      B      B     True\n",
      "4      B      B     True\n",
      "=*==*==*==*==*==*==*==*==*==*==*==*==*==*==*==*=\n",
      "First few rows of LM Y comparison:\n",
      "   result answer  correct\n",
      "0      D      B    False\n",
      "1      D      C    False\n",
      "2      D      D     True\n",
      "3      D      B    False\n",
      "4      C      A    False\n",
      "=*==*==*==*==*==*==*==*==*==*==*==*==*==*==*==*=\n",
      "First few rows of LM Z comparison:\n",
      "   result answer  correct\n",
      "0      B      B     True\n",
      "1      B      C    False\n",
      "2      C      D    False\n",
      "3      B      B     True\n",
      "4      B      B     True\n"
     ]
    }
   ],
   "source": [
    "print(f\"First few rows of LM X comparison:\\n {df_x_comparison[['result', 'answer', 'correct']].head()}\")\n",
    "print(\"=*==*=\"*8)\n",
    "print(f\"First few rows of LM Y comparison:\\n {df_y_comparison[['result', 'answer', 'correct']].head()}\")\n",
    "print(\"=*==*=\"*8)\n",
    "print(f\"First few rows of LM Z comparison:\\n {df_z_comparison[['result', 'answer', 'correct']].head()}\")"
   ],
   "metadata": {
    "collapsed": false,
    "ExecuteTime": {
     "end_time": "2024-10-09T17:55:34.071526Z",
     "start_time": "2024-10-09T17:55:34.053217Z"
    }
   },
   "id": "cd88bc95988614b6",
   "execution_count": 16
  },
  {
   "cell_type": "code",
   "outputs": [
    {
     "name": "stdout",
     "output_type": "stream",
     "text": [
      "Average scores for each model (Accuracy):\n",
      "   - LM X: 76.75%\n",
      "   - LM Y: 74.58%\n",
      "   - LM Z: 66.33%\n"
     ]
    }
   ],
   "source": [
    "print(f\"Average scores for each model (Accuracy):\")\n",
    "print(f\"   - LM X: {df_x_comparison['correct'].sum() / df_x_comparison.shape[0] * 100:.2f}%\")\n",
    "print(f\"   - LM Y: {df_y_comparison['correct'].sum() / df_y_comparison.shape[0] * 100:.2f}%\")\n",
    "print(f\"   - LM Z: {df_z_comparison['correct'].sum() / df_z_comparison.shape[0] * 100:.2f}%\")"
   ],
   "metadata": {
    "collapsed": false,
    "ExecuteTime": {
     "end_time": "2024-10-09T17:55:34.511458Z",
     "start_time": "2024-10-09T17:55:34.503623Z"
    }
   },
   "id": "f8490931929e325",
   "execution_count": 17
  },
  {
   "cell_type": "markdown",
   "id": "69decfd8-8083-4c2f-8263-a153d55efede",
   "metadata": {},
   "source": [
    "### 1.5 (5 pt)\n",
    "\n",
    "Hmmm, something doesn't seem quite right. Let's investigate how \"balanced\" this dataset is:\n",
    "\n",
    "A. For each of the 57 subjects in the MMLU, compare the number of questions answered by each model. Print the subjects for which there is a more than 10% difference.\n",
    "\n",
    "B. Propose and implement a reasonable way to rebalance the results. (e.g., while throwing away 100% of the results perfectly rebalances the results, it is not reasonable).\n",
    "\n",
    "C. Finally, print the updated accuracy on the rebalanced data.\n",
    "\n",
    "**hint:**:\n",
    "- (A) For a given subject, let model X and model Y have answered 181 and 200 questions respectively. You can consider this a 10% difference from the perspective of X since: (200 - 181) / 181 > 0.10"
   ]
  },
  {
   "cell_type": "code",
   "execution_count": 18,
   "id": "19463002-732b-405b-8b44-77f702bdb665",
   "metadata": {
    "ExecuteTime": {
     "end_time": "2024-10-09T17:55:35.441406Z",
     "start_time": "2024-10-09T17:55:35.430413Z"
    }
   },
   "outputs": [],
   "source": [
    "# Let's first group by the subject and count the number of questions answered by each model\n",
    "df_x_comparison_grouped = df_x_comparison.groupby(\"subject\")[\"question_id\"].count()\n",
    "df_y_comparison_grouped = df_y_comparison.groupby(\"subject\")[\"question_id\"].count()\n",
    "df_z_comparison_grouped = df_z_comparison.groupby(\"subject\")[\"question_id\"].count()"
   ]
  },
  {
   "cell_type": "code",
   "outputs": [
    {
     "data": {
      "text/plain": "                    question_id_x  question_id_y  question_id  \\\nsubject                                                         \nabstract algebra               95             97           95   \nanatomy                       129            130          125   \nastronomy                     144            148          137   \nbusiness ethics                98             96           92   \nclinical knowledge            259            261          244   \n\n                    y_rel_diff_to_x  z_rel_diff_to_x  z_rel_diff_to_y  \\\nsubject                                                                 \nabstract algebra           0.021053         0.000000         0.020619   \nanatomy                    0.007752         0.031008         0.038462   \nastronomy                  0.027778         0.048611         0.074324   \nbusiness ethics            0.020408         0.061224         0.041667   \nclinical knowledge         0.007722         0.057915         0.065134   \n\n                    x_rel_diff_to_y  x_rel_diff_to_z  y_rel_diff_to_z  \nsubject                                                                \nabstract algebra           0.020619         0.000000         0.021053  \nanatomy                    0.007692         0.032000         0.040000  \nastronomy                  0.027027         0.051095         0.080292  \nbusiness ethics            0.020833         0.065217         0.043478  \nclinical knowledge         0.007663         0.061475         0.069672  ",
      "text/html": "<div>\n<style scoped>\n    .dataframe tbody tr th:only-of-type {\n        vertical-align: middle;\n    }\n\n    .dataframe tbody tr th {\n        vertical-align: top;\n    }\n\n    .dataframe thead th {\n        text-align: right;\n    }\n</style>\n<table border=\"1\" class=\"dataframe\">\n  <thead>\n    <tr style=\"text-align: right;\">\n      <th></th>\n      <th>question_id_x</th>\n      <th>question_id_y</th>\n      <th>question_id</th>\n      <th>y_rel_diff_to_x</th>\n      <th>z_rel_diff_to_x</th>\n      <th>z_rel_diff_to_y</th>\n      <th>x_rel_diff_to_y</th>\n      <th>x_rel_diff_to_z</th>\n      <th>y_rel_diff_to_z</th>\n    </tr>\n    <tr>\n      <th>subject</th>\n      <th></th>\n      <th></th>\n      <th></th>\n      <th></th>\n      <th></th>\n      <th></th>\n      <th></th>\n      <th></th>\n      <th></th>\n    </tr>\n  </thead>\n  <tbody>\n    <tr>\n      <th>abstract algebra</th>\n      <td>95</td>\n      <td>97</td>\n      <td>95</td>\n      <td>0.021053</td>\n      <td>0.000000</td>\n      <td>0.020619</td>\n      <td>0.020619</td>\n      <td>0.000000</td>\n      <td>0.021053</td>\n    </tr>\n    <tr>\n      <th>anatomy</th>\n      <td>129</td>\n      <td>130</td>\n      <td>125</td>\n      <td>0.007752</td>\n      <td>0.031008</td>\n      <td>0.038462</td>\n      <td>0.007692</td>\n      <td>0.032000</td>\n      <td>0.040000</td>\n    </tr>\n    <tr>\n      <th>astronomy</th>\n      <td>144</td>\n      <td>148</td>\n      <td>137</td>\n      <td>0.027778</td>\n      <td>0.048611</td>\n      <td>0.074324</td>\n      <td>0.027027</td>\n      <td>0.051095</td>\n      <td>0.080292</td>\n    </tr>\n    <tr>\n      <th>business ethics</th>\n      <td>98</td>\n      <td>96</td>\n      <td>92</td>\n      <td>0.020408</td>\n      <td>0.061224</td>\n      <td>0.041667</td>\n      <td>0.020833</td>\n      <td>0.065217</td>\n      <td>0.043478</td>\n    </tr>\n    <tr>\n      <th>clinical knowledge</th>\n      <td>259</td>\n      <td>261</td>\n      <td>244</td>\n      <td>0.007722</td>\n      <td>0.057915</td>\n      <td>0.065134</td>\n      <td>0.007663</td>\n      <td>0.061475</td>\n      <td>0.069672</td>\n    </tr>\n  </tbody>\n</table>\n</div>"
     },
     "execution_count": 19,
     "metadata": {},
     "output_type": "execute_result"
    }
   ],
   "source": [
    "# Merging X and Y\n",
    "df_comparison_grouped = pd.merge(df_x_comparison_grouped, df_y_comparison_grouped, \n",
    "                                 left_index=True, right_on=\"subject\", suffixes=(\"_x\", \"_y\"))\n",
    "\n",
    "# Merging (X, Y) with Z\n",
    "df_comparison_grouped = pd.merge(df_comparison_grouped, df_z_comparison_grouped, \n",
    "                                 left_index=True, right_on=\"subject\")\n",
    "\n",
    "# TODO: Create a function that computes the relative difference \n",
    "# Create new columns for the relative differences of Y and Z w.r.t model X\n",
    "df_comparison_grouped[\"y_rel_diff_to_x\"] = np.where(\n",
    "    df_comparison_grouped[\"question_id_x\"] != 0,\n",
    "    np.abs(df_comparison_grouped[\"question_id_y\"] - df_comparison_grouped[\"question_id_x\"]) / df_comparison_grouped[\"question_id_x\"],\n",
    "    np.nan\n",
    ")\n",
    "df_comparison_grouped[\"z_rel_diff_to_x\"] = np.where(\n",
    "    df_comparison_grouped[\"question_id_x\"] != 0,\n",
    "    np.abs(df_comparison_grouped[\"question_id\"] - df_comparison_grouped[\"question_id_x\"]) / df_comparison_grouped[\"question_id_x\"],\n",
    "    np.nan\n",
    ")\n",
    "\n",
    "# Create new columns for the relative difference of X and Z w.r.t model Y\n",
    "df_comparison_grouped[\"z_rel_diff_to_y\"] = np.where(\n",
    "    df_comparison_grouped[\"question_id_y\"] != 0,\n",
    "    np.abs(df_comparison_grouped[\"question_id\"] - df_comparison_grouped[\"question_id_y\"]) / df_comparison_grouped[\"question_id_y\"],\n",
    "    np.nan\n",
    ")\n",
    "df_comparison_grouped[\"x_rel_diff_to_y\"] = np.where(\n",
    "    df_comparison_grouped[\"question_id_y\"] != 0,\n",
    "    np.abs(df_comparison_grouped[\"question_id_x\"] - df_comparison_grouped[\"question_id_y\"]) / df_comparison_grouped[\"question_id_y\"],\n",
    "    np.nan\n",
    ")\n",
    "\n",
    "# Create new columns for the relative difference of X and Y w.r.t model Z\n",
    "df_comparison_grouped[\"x_rel_diff_to_z\"] = np.where(\n",
    "    df_comparison_grouped[\"question_id\"] != 0,\n",
    "    np.abs(df_comparison_grouped[\"question_id_x\"] - df_comparison_grouped[\"question_id\"]) / df_comparison_grouped[\"question_id\"],\n",
    "    np.nan\n",
    ")\n",
    "df_comparison_grouped[\"y_rel_diff_to_z\"] = np.where(\n",
    "    df_comparison_grouped[\"question_id\"] != 0,\n",
    "    np.abs(df_comparison_grouped[\"question_id_y\"] - df_comparison_grouped[\"question_id\"]) / df_comparison_grouped[\"question_id\"],\n",
    "    np.nan\n",
    ")\n",
    "\n",
    "df_comparison_grouped.head()"
   ],
   "metadata": {
    "collapsed": false,
    "ExecuteTime": {
     "end_time": "2024-10-09T17:55:35.991977Z",
     "start_time": "2024-10-09T17:55:35.966989Z"
    }
   },
   "id": "b29c4380fc7bb72e",
   "execution_count": 19
  },
  {
   "cell_type": "code",
   "outputs": [],
   "source": [
    "# Let's filter the subjects with more than 10% difference\n",
    "subjects_to_rebalance_for_x = df_comparison_grouped.query(\"(y_rel_diff_to_x > 0.10) or (z_rel_diff_to_x > 0.10)\").index\n",
    "subjects_to_rebalance_for_y = df_comparison_grouped.query(\"(x_rel_diff_to_y > 0.10) or (z_rel_diff_to_y > 0.10)\").index\n",
    "subjects_to_rebalance_for_z = df_comparison_grouped.query(\"(x_rel_diff_to_z > 0.10) or (y_rel_diff_to_z > 0.10)\").index"
   ],
   "metadata": {
    "collapsed": false,
    "ExecuteTime": {
     "end_time": "2024-10-09T17:55:36.632155Z",
     "start_time": "2024-10-09T17:55:36.616469Z"
    }
   },
   "id": "fed6b61db4b28f52",
   "execution_count": 20
  },
  {
   "cell_type": "code",
   "outputs": [
    {
     "name": "stdout",
     "output_type": "stream",
     "text": [
      "Subjects to rebalance for LM X:\n",
      "   ['college chemistry' 'college computer science' 'formal logic'\n",
      " 'logical fallacies' 'moral disputes' 'moral scenarios']\n",
      "\n",
      "=*==*==*==*==*==*==*==*==*==*==*==*==*==*==*==*==*==*==*==*==*==*==*==*==*==*==*==*==*==*=\n",
      "\n",
      "Subjects to rebalance for LM Y:\n",
      "   ['college chemistry' 'college computer science' 'computer security'\n",
      " 'formal logic' 'logical fallacies' 'moral disputes' 'moral scenarios']\n",
      "\n",
      "=*==*==*==*==*==*==*==*==*==*==*==*==*==*==*==*==*==*==*==*==*==*==*==*==*==*==*==*==*==*=\n",
      "\n",
      "Subjects to rebalance for LM Z:\n",
      "   ['college chemistry' 'college computer science' 'computer security'\n",
      " 'high school geography' 'medical genetics' 'moral disputes'\n",
      " 'moral scenarios']\n",
      "\n",
      "=*==*==*==*==*==*==*==*==*==*==*==*==*==*==*==*==*==*==*==*==*==*==*==*==*==*==*==*==*==*=\n",
      "\n",
      "Intersection of subjects to re-balance: {'moral disputes', 'college computer science', 'college chemistry', 'moral scenarios'}\n",
      "\n",
      "=*==*==*==*==*==*==*==*==*==*==*==*==*==*==*==*==*==*==*==*==*==*==*==*==*==*==*==*==*==*=\n",
      "\n",
      "Union of subjects to re-balance: {'moral scenarios', 'high school geography', 'computer security', 'formal logic', 'college chemistry', 'medical genetics', 'moral disputes', 'logical fallacies', 'college computer science'}\n"
     ]
    }
   ],
   "source": [
    "print(f\"Subjects to rebalance for LM X:\\n   {subjects_to_rebalance_for_x.values}\\n\")\n",
    "print(\"=*==*=\"*15)\n",
    "print(f\"\\nSubjects to rebalance for LM Y:\\n   {subjects_to_rebalance_for_y.values}\\n\")\n",
    "print(\"=*==*=\"*15)\n",
    "print(f\"\\nSubjects to rebalance for LM Z:\\n   {subjects_to_rebalance_for_z.values}\\n\")\n",
    "\n",
    "# Look at the union and intersection of the subjects to re-balance\n",
    "intersection = set(subjects_to_rebalance_for_x).intersection(set(subjects_to_rebalance_for_y)).intersection(set(subjects_to_rebalance_for_z))\n",
    "union = set(subjects_to_rebalance_for_x).union(set(subjects_to_rebalance_for_y)).union(set(subjects_to_rebalance_for_z))\n",
    "\n",
    "print(\"=*==*=\"*15)                                            \n",
    "print(f\"\\nIntersection of subjects to re-balance: {intersection}\\n\")\n",
    "print(\"=*==*=\"*15)\n",
    "print(f\"\\nUnion of subjects to re-balance: {union}\\n\")"
   ],
   "metadata": {
    "collapsed": false,
    "ExecuteTime": {
     "end_time": "2024-10-09T17:55:37.346621Z",
     "start_time": "2024-10-09T17:55:37.339237Z"
    }
   },
   "id": "67278c3c3978a072",
   "execution_count": 21
  },
  {
   "cell_type": "code",
   "execution_count": null,
   "id": "affc3746",
   "metadata": {},
   "outputs": [],
   "source": [
    "# C"
   ]
  },
  {
   "cell_type": "markdown",
   "id": "292b2f61-0529-4b6d-a3a7-af786a4d79ae",
   "metadata": {},
   "source": [
    "## Task 2 (26 points): What do you mean A > D > B > C...?\n",
    "\n",
    "Nice work! Having successfully inspected, cleaned, and rebalanced the provided data, you head over to director of the government's NEUTRALITY project. Ms. Sakota is happy with your work so far, but worried that the sloppy intern might have done more undetected damage. To be sure, she orders a new set of evaluations of all models on both MMLU and another dataset.\n",
    "\n",
    "After cleaning up and rebalancing, you are left with the concatenated score files in the second folder `task_2`:\n",
    "```\n",
    "task_2/\n",
    "│\n",
    "└── lm_scores_mmlu.csv\n",
    "│\n",
    "└── lm_scores_other.csv\n",
    "```\n",
    "\n",
    "Each has a new column called `model_name`, which is one of `X, Y` or `Z`.\n",
    "\n",
    "\n",
    "\n",
    "_NOTE: **only** use data from `task_2` and `task_2_5` for this assignment! The values in `lm_scores_mmlu.csv` will NOT be the same as the dataframes you finished in task 1. This is due to \"randomness\" or \"temperature\" in language model inference. This can slightly shift around generative results. (Conveniently: it also ensures any mistakes made in Task 1 don't propogate further ;) )_"
   ]
  },
  {
   "cell_type": "code",
   "execution_count": null,
   "id": "a889a76b-e034-4d2f-929e-0ef1f250a0a0",
   "metadata": {},
   "outputs": [],
   "source": [
    "# PROVIDED CODE\n",
    "df_mmlu = pd.read_csv('task_2/lm_scores_mmlu.csv')\n",
    "df_other = pd.read_csv('task_2/lm_scores_other.csv')"
   ]
  },
  {
   "cell_type": "markdown",
   "id": "c31edde3-cc91-4d08-81c7-b5e98cf0ff9c",
   "metadata": {},
   "source": [
    "### 2.1 (4 pt)\n",
    "\n",
    "Let's explore the new results:\n",
    "\n",
    "A. Compute the mean accuracy and standard errors of each model on both datasets and print the results.\n",
    "\n",
    "B. Then, show your results in a bar plot using standard errors with a 95% confidence interval around the mean. Make sure the plot is easy to read and well annotated.\n",
    "\n",
    "C. /Discuss:/ the plot you created: (i) can you say that one of the models is the best? (ii) is there anything that seems odd?"
   ]
  },
  {
   "cell_type": "code",
   "execution_count": null,
   "id": "56fe8cca-acd1-4f5e-a938-e8d3a850f220",
   "metadata": {},
   "outputs": [],
   "source": [
    "# A"
   ]
  },
  {
   "cell_type": "code",
   "execution_count": null,
   "id": "d3a176c6",
   "metadata": {},
   "outputs": [],
   "source": [
    "# B"
   ]
  },
  {
   "cell_type": "markdown",
   "id": "65c9fbfe",
   "metadata": {},
   "source": [
    "C. /Discuss:/"
   ]
  },
  {
   "cell_type": "markdown",
   "id": "eee0ec62-f2d1-4bae-a6f6-221320d602cb",
   "metadata": {},
   "source": [
    "### 2.2 (5 pt)\n",
    "\n",
    "Ms. Sakota has assured you that both datasets contain questions of similar difficulty, so, what could be going on here?\n",
    "\n",
    "A. What is the distribution of correct answers (A, B, C, D) for each dataset? Create a bar chart to visualize this.\n",
    "\n",
    "B. Perform a chi-square test at $\\alpha = 0.05$, of independence to determine if there's a significant difference in the distribution of correct answers between the two datasets. What do you conclude?\n",
    "\n",
    "**hints**:\n",
    "- for (A), keep in mind that df_mmlu and df_other contain the results of all models, i.e., the `question_id` column is duplicated.\n",
    "- for (A), take care to clearly annotate the bar chart, e.g., title, y-label, legend.\n",
    "- for (B), clearly state the null hypothesis and alternative hypothesis\n",
    "- use the `chi2_contingency` function from `scipy.stats`\n",
    "- format your results from answer (A) as a 2D array"
   ]
  },
  {
   "cell_type": "code",
   "execution_count": null,
   "id": "30b16f70-93e0-4a19-8a6d-b3ae5a75ae65",
   "metadata": {},
   "outputs": [],
   "source": [
    "# A"
   ]
  },
  {
   "cell_type": "code",
   "execution_count": null,
   "id": "92392cd7",
   "metadata": {},
   "outputs": [],
   "source": [
    "# B"
   ]
  },
  {
   "cell_type": "markdown",
   "id": "2d3125ad-5a7e-44e7-999a-a0ff99855d39",
   "metadata": {},
   "source": [
    "### 2.3 (7 pt)\n",
    "\n",
    "Let's dive in deeper:\n",
    "\n",
    "A. What is language model X's mean accuracy conditioned on the four answer options for each dataset?\n",
    "\n",
    "B. Compare LM X's performance when the correct answer is \"A\" between the two datasets. Use a T-test with CI = 0.95. What do you conclude?\n",
    "\n",
    "C. Compare LM X's performance when the correct answer is \"A\" vs. \"C or D\" for each dataset. Use a T-test with CI = 0.95. What do you conclude?"
   ]
  },
  {
   "cell_type": "code",
   "execution_count": null,
   "id": "39097a11-8efe-46d1-8bc3-5587bb58d199",
   "metadata": {},
   "outputs": [],
   "source": [
    "# A"
   ]
  },
  {
   "cell_type": "code",
   "execution_count": null,
   "id": "9ae67c09",
   "metadata": {},
   "outputs": [],
   "source": [
    "# B"
   ]
  },
  {
   "cell_type": "code",
   "execution_count": null,
   "id": "636af6a6",
   "metadata": {},
   "outputs": [],
   "source": [
    "# C"
   ]
  },
  {
   "cell_type": "markdown",
   "id": "33848ff9-2604-4e48-b5df-3207dc81e9a9",
   "metadata": {},
   "source": [
    "### 2.4 (2 pt)\n",
    "\n",
    "What an intriguing finding! \n",
    "\n",
    "A. Print the mean accuracies conditioned on the correct answer for all LMs for each dataset.\n",
    "\n",
    "B. /Discuss:/ What do you observe?"
   ]
  },
  {
   "cell_type": "code",
   "execution_count": null,
   "id": "ec53ce2c-866e-440a-ac79-7813cb756782",
   "metadata": {},
   "outputs": [],
   "source": [
    "# A"
   ]
  },
  {
   "cell_type": "markdown",
   "id": "4ce58e47",
   "metadata": {},
   "source": [
    "B. /Discuss:/"
   ]
  },
  {
   "cell_type": "markdown",
   "id": "ccdd9d3c-5a03-4b30-84f7-a7dfbee1373e",
   "metadata": {},
   "source": [
    "### 2.5 (2 pt)\n",
    "\n",
    "Concerned with your findings so far, you quickly consult with Ms. Sakota. After thinking it over, Ms. Sakota concludes that more tests are needed. She orders a second round of MMLU results. However, the clever Ms. Sakota thinks of the following twist: while keeping questions fixed, she randomly permutes the position of the correct answer. The new results can be found in the folder `data/task_2_5/`:\n",
    "```\n",
    "task_2_5/\n",
    "│\n",
    "└── lm_scores_mmlu_shuffle.csv\n",
    "```\n",
    "\n",
    "/Discuss:/ Why would Ms. Sakota do this?"
   ]
  },
  {
   "cell_type": "markdown",
   "id": "64cc586a",
   "metadata": {},
   "source": [
    "/Discuss:/"
   ]
  },
  {
   "cell_type": "markdown",
   "id": "b9150ae0-dbaa-4c88-bf80-ec03127c6945",
   "metadata": {},
   "source": [
    "### 2.6 (4 pt)\n",
    "\n",
    "Increasingly sceptical of the language models' performance, you read up on proper testing practices. You stumble upon the concept of [test-rested stability](https://en.wikipedia.org/wiki/Repeatability), which roughtly states that:\n",
    "\n",
    "\"_Measurements taken by a single person or instrument on the same item, under the same conditions, and in a short period of time, should have the same results._\"\n",
    "\n",
    "In our case, we would assume an LM would have the same performance on a given question regardless of the correct answer position. One way of testing this is by using the following metric:\n",
    "\n",
    "$$\\text{test-retest metric} = \\frac{1}{N}\\sum_{i=1}^N \\frac{1}{M}\\sum_{j=1}^M c^i_0 c_j^i,$$\n",
    "\n",
    "where $c^i_0 \\in \\{0, 1\\}$ indicates whether the model answers the $i^{\\text{th}}$ question correctly (1 if correct, 0 if incorrect). $c_j^i$ indicates whether the model answers the $i^{\\text{th}}$ question correctly in the $j^{\\text{th}}$ shuffled version of the answer label content. Finally, $M$ is the total number of shuffles and $N$ is the dataset size.\n",
    "\n",
    "Task: compute the test-retest metric for each language model using the original `lm_scores_mmlu.csv` file and the new `lm_scores_mmlu_shuffle.csv` file. Using a bar plot, visualize your results by comparing the accuracy of the original `lm_scores_mmlu.csv` and the test-retest scores.\n",
    "\n",
    "**hints**\n",
    "- what is $M$ in our case?\n",
    "\n",
    "(bonus: no points, but so much sweet, sweet knowledge - check out [the following article](https://arxiv.org/pdf/2406.19470v1))"
   ]
  },
  {
   "cell_type": "code",
   "execution_count": null,
   "id": "5b55fcfc-6de9-4cd3-bf2d-bde399ae2fbc",
   "metadata": {},
   "outputs": [],
   "source": []
  },
  {
   "cell_type": "markdown",
   "id": "b70bee6e-0c81-4f5a-b1a8-16a96aa2ae17",
   "metadata": {},
   "source": [
    "### 2.7 (2 pt)\n",
    "\n",
    "A. Using the unshuffled data: For each LM, print the distribution of the answers they give as well as the accuracy conditioned on the answer they give.\n",
    "\n",
    "B. /Discuss:/ Describe what you observe\n",
    "\n",
    "[bonus: not scored, but again _that sweet, sweet knowledge_] Could you think of a plausible explanation?"
   ]
  },
  {
   "cell_type": "code",
   "execution_count": null,
   "id": "4956581b-d047-46cb-ae71-1508a9a0b466",
   "metadata": {},
   "outputs": [],
   "source": [
    "# A"
   ]
  },
  {
   "cell_type": "markdown",
   "id": "65639228",
   "metadata": {},
   "source": [
    "B. /Discuss:/"
   ]
  },
  {
   "cell_type": "markdown",
   "id": "ce3186fe-ef8e-4af3-9a07-a6081d454e5a",
   "metadata": {},
   "source": [
    "## Task 3 (16 points): What do Questions and Answers look like for a Language Model?\n",
    "\n",
    "While you feel pretty good about the tests you conducted so far, something still bothers you: what if the language models don't see the data like you do? Suddenly, you receive a phone call from a wise AI sage in the West, _Westoda_:\n",
    "\n",
    "```\n",
    "\"Hmm, correct you are, young padawan, to question how the world is seen by large language models! Simple 'text' it is not, hmm? No, no, no! Characters and words, the way of puny humans, this is not, heh heh heh.\n",
    "\n",
    "'Tokens', they use, yes! Mysterious and powerful, these tokens are. Expand our vocabulary, they do, beyond the simple 'a to Z'. Chunky blocks of text, they become, yes! 'Hello world', a simple phrase it may seem. But to a language model, '[24912, 2375]' it might appear, yes! Confusing, it is, hmm?\n",
    "\n",
    "Wise, it would be, to explore these MMLU data points through the eyes of a language model, you think? Yes, yes! Much to learn, there is. The ways of the tokens, understand you must, if truly comprehend the great LMs, you wish to.\n",
    "Meditate on this, you should. The force of natural language processing, strong it is. But patience, you must have, my young padawan. For only through great study and contemplation, will the mysteries of the tokens reveal themselves to you, they will. Yes, hmmm!\"\n",
    "```\n",
    "\n",
    "Admittingly, Westoda at times speaks in riddles… However, he was explaining a crucial aspect of modern LMs called [Tokenization](https://learn.microsoft.com/en-us/dotnet/ai/conceptual/understanding-tokens):\n",
    "\n",
    "\n",
    "“Tokens are words, character sets, or combinations of words and punctuation that are used by [language models (LMs)] to decompose text into. Tokenization is the first step in training”\n",
    "\n",
    "Instead of characters, LMs process natural language using “tokens”. While this is useful for a number of reasons, it does at times introduce some “unintuitive” behavior…"
   ]
  },
  {
   "cell_type": "code",
   "execution_count": null,
   "id": "e2c66517-938b-4331-9eea-1b23fe4ad9e7",
   "metadata": {},
   "outputs": [],
   "source": [
    "# PROVIDED CODE\n",
    "\n",
    "try:\n",
    "    import tiktoken\n",
    "except Exception as e:\n",
    "    print('installing tiktoken package')\n",
    "    \n",
    "    !pip install tiktoken\n",
    "    \n",
    "    import tiktoken\n",
    "\n",
    "def tokenize_text(s):\n",
    "    enc = tiktoken.encoding_for_model('gpt-4o')\n",
    "    tokens = enc.encode(str(s))\n",
    "    return tokens\n",
    "\n",
    "example_string = 'hello world'\n",
    "print(f'humans see: \"{example_string}\" --> language models see: {tokenize_text(example_string)}')"
   ]
  },
  {
   "cell_type": "markdown",
   "id": "3c8019ee-7d52-496f-afff-c96f2f9db08c",
   "metadata": {},
   "source": [
    "### 3.1 (5 pt)\n",
    "\n",
    "Use the provided code in the cell above to \"see the world through the eyes of a language model\":\n",
    "\n",
    "A. Tokenize the questions of the original MMLU data provided in task 1: `task_1/mmlu_data/test.csv` and plot the token distribution (the frequency of each token).\n",
    "\n",
    "B. Same as (A), but now for the answers in columns (columns \"A\", \"B\", \"C\", and \"D\").\n",
    "\n",
    "C. Isolate the tokens for the strings \"A\", \"B\", \"C\", and \"D\", then, for their occurances in both questions and answers, print their relative distribution to each other.\n",
    "\n",
    "**hint**\n",
    "- There are a _lot_ of tokens, consider using a cutoff point and log scale\n",
    "- For (c), they should sum to 1"
   ]
  },
  {
   "cell_type": "code",
   "execution_count": null,
   "id": "a9a1e97b-3a31-41b1-a9c3-fb84cb1740d9",
   "metadata": {},
   "outputs": [],
   "source": [
    "# A"
   ]
  },
  {
   "cell_type": "code",
   "execution_count": null,
   "id": "fe1f8be8",
   "metadata": {},
   "outputs": [],
   "source": [
    "# B"
   ]
  },
  {
   "cell_type": "code",
   "execution_count": null,
   "id": "cd392df7",
   "metadata": {},
   "outputs": [],
   "source": [
    "# C"
   ]
  },
  {
   "cell_type": "markdown",
   "id": "a674929c-68e1-4cd8-97b3-efa0cdae4874",
   "metadata": {},
   "source": [
    "### 3.2 (3 pt)\n",
    "\n",
    "What if the number of \"A\", \"B\", \"C\", and \"D\" tokens in the question and answer pairs could influence a language model's decisions?\n",
    "\n",
    "A. For each combined question-answers pair, compute: \n",
    "1. the number of \"A\", \"B\", \"C\", and \"D\" tokens; and\n",
    "2. the total number of tokens.\n",
    "3. then, group by the \"correct\" answer and compute the mean frequency of A, B, C, and D tokens and the total number of tokens. \n",
    "4. finally, print your results\n",
    "\n",
    "B. /Discuss:/ What do you think of the hypothesis that the frequency of A, B, C, and D tokens could influence answers?\n"
   ]
  },
  {
   "cell_type": "code",
   "execution_count": null,
   "id": "25419cc1-f058-4c51-a0aa-577272b8b578",
   "metadata": {},
   "outputs": [],
   "source": [
    "# A"
   ]
  },
  {
   "cell_type": "markdown",
   "id": "3ea8a279",
   "metadata": {},
   "source": [
    "B. /Discuss:/"
   ]
  },
  {
   "cell_type": "markdown",
   "id": "af25ef95-d2ce-4112-87f7-8b0a52755e2a",
   "metadata": {},
   "source": [
    "### 3.3 (4 pt)\n",
    "\n",
    "Three of the most important considerations when deciding between language models are:\n",
    "\n",
    "Quality\n",
    "Costs\n",
    "Speed\n",
    "\n",
    "So far, much of your analysis has focused on quality. However, the government has indicated that they are quite concerned about both the total costs and speed as well. Specifically, it has been brought to their attention that a new `turbo` model has been launched! \n",
    "\n",
    "This model is both cheaper and faster than the models you evaluated so far. However, there is a catch: the context length* is much smaller than that of the other LMS. Namely, it can only process **300** tokens during inference. Meanwhile, the other models can process up to 100K tokens! \n",
    "\n",
    "*_The “context length” refers to the number of tokens that can be given to an LM as input._\n",
    "\n",
    "A. Are there subjects where using the cheaper model might be problematic? I.e., where part of the question and answer(s) might not fit completely in the context?\n",
    "\n",
    "B. /Discuss:/ Can you think of a strategy that would balance the needs of the government?\n",
    "\n",
    "**hint**:\n",
    "- An LM needs to have both the question and the different answer options in its context"
   ]
  },
  {
   "cell_type": "code",
   "execution_count": null,
   "id": "a88a6fa3-2735-44d7-9944-076cc9f679ed",
   "metadata": {},
   "outputs": [],
   "source": [
    "# A"
   ]
  },
  {
   "cell_type": "markdown",
   "id": "47f8a44a",
   "metadata": {},
   "source": [
    "B. /Dicsuss:/"
   ]
  },
  {
   "cell_type": "markdown",
   "id": "110f07bf-558f-467c-8f66-d88db561d455",
   "metadata": {},
   "source": [
    "### 3.4 (4 pt)\n",
    "\n",
    "/Discuss:/ The time has come to give your final recommendation on the use of LMs in education to the government! Taking into account everything you analyzed in all the preceding tasks (1, 2, and 3), please write a short recommendation consisting of 4 bullet points discussing your concerns.\n",
    "\n",
    "**hint**\n",
    "- Try to use the MECE framework: _Mutually Exclusive Collectively Exhaustive_"
   ]
  },
  {
   "cell_type": "markdown",
   "id": "434a5fa5",
   "metadata": {},
   "source": [
    "/Discuss:/\n",
    "1. \n",
    "\n",
    "2. \n",
    "\n",
    "3. \n",
    "\n",
    "4. "
   ]
  }
 ],
 "metadata": {
  "kernelspec": {
   "display_name": "Python 3 (ipykernel)",
   "language": "python",
   "name": "python3"
  },
  "language_info": {
   "codemirror_mode": {
    "name": "ipython",
    "version": 3
   },
   "file_extension": ".py",
   "mimetype": "text/x-python",
   "name": "python",
   "nbconvert_exporter": "python",
   "pygments_lexer": "ipython3",
   "version": "3.11.9"
  }
 },
 "nbformat": 4,
 "nbformat_minor": 5
}
