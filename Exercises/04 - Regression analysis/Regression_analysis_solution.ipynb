{
 "cells": [
  {
   "cell_type": "markdown",
   "metadata": {},
   "source": [
    "### Welcome! In this lab session, you will familiarize yourself with regression analysis. We will learn how to do descriptive regression analysis in python. We will use the statsmodels library. After an introductory tutorial, you will work on solving an exercise that we prepared for you.\n",
    "\n",
    "### References:\n",
    "- More information on formula syntax: https://patsy.readthedocs.io/en/latest/formulas.html\n",
    "- More information on statsmodels: https://www.statsmodels.org/dev/example_formulas.html"
   ]
  },
  {
   "cell_type": "code",
   "execution_count": 1,
   "metadata": {
    "ExecuteTime": {
     "end_time": "2024-10-28T14:11:17.514479Z",
     "start_time": "2024-10-28T14:11:16.997760Z"
    }
   },
   "outputs": [],
   "source": [
    "import pandas as pd\n",
    "import pandas as pd\n",
    "import numpy as np\n",
    "import matplotlib.pyplot as plt\n",
    "%matplotlib inline\n",
    "import seaborn as sns\n",
    "import math\n",
    "from statsmodels.stats import diagnostic\n",
    "from scipy import stats\n",
    "import statsmodels.api as sm\n",
    "import statsmodels.formula.api as smf"
   ]
  },
  {
   "cell_type": "code",
   "execution_count": 2,
   "metadata": {
    "tags": [],
    "ExecuteTime": {
     "end_time": "2024-10-28T14:11:17.524290Z",
     "start_time": "2024-10-28T14:11:17.515481Z"
    }
   },
   "outputs": [],
   "source": [
    "data_folder = './data/'\n",
    "df = pd.read_csv(data_folder + 'heart_failure_clinical_records_dataset.csv')"
   ]
  },
  {
   "cell_type": "markdown",
   "metadata": {},
   "source": [
    "## Statsmodels tutorial\n",
    "\n",
    "We will use a dataset with information about patients with cardiovascular diseases. Here is the breakdown of columns:\n",
    "\n",
    "Some variables are categorical:\n",
    "- 'DEATH_EVENT': if the patient deceased during the follow-up period\n",
    "- 'sex': male/female (binary, male 1, female 0)\n",
    "- 'anaemia': decrease of red blood cells (boolean, yes 1)\n",
    "- 'smoking': if the patient smokes or not (boolean, yes 1)\n",
    "- 'diabetes': if the patient has diabetes (boolean, yes 1)\n",
    "- 'high_blood_pressure': if the person has hypertension (boolean, yes 1)\n",
    "\n",
    "\n",
    "... and some are continuous/discrete:\n",
    "- 'age': patient's age\n",
    "- 'creatinine_phosphokinase': level of CPK enzyme in the blood (mcg/L)\n",
    "- 'ejection_fraction': percentage of blood leaving the heart in each contraction\n",
    "- 'platelets': platelets in the blood (kiloplatelets/mL)\n",
    "- 'serum_creatinine': level of serum creatinine in the blood (mg/dL)\n",
    "- 'serum_sodium': level of serum sodium in the blood (mEq/L)\n",
    "- 'time': duration of the follow-up period (number of days in the hospital)\n"
   ]
  },
  {
   "cell_type": "code",
   "execution_count": 3,
   "metadata": {
    "ExecuteTime": {
     "end_time": "2024-10-28T14:11:17.548422Z",
     "start_time": "2024-10-28T14:11:17.526290Z"
    }
   },
   "outputs": [
    {
     "data": {
      "text/plain": "      age  anaemia  creatinine_phosphokinase  diabetes  ejection_fraction  \\\n257  58.0        0                       132         1                 38   \n181  59.0        1                       176         1                 25   \n168  65.0        0                       582         1                 40   \n296  45.0        0                      2060         1                 60   \n291  60.0        0                       320         0                 35   \n201  45.0        0                       308         1                 60   \n32   50.0        1                       249         1                 35   \n19   48.0        1                       582         1                 55   \n99   63.0        1                        61         1                 40   \n84   59.0        1                       280         1                 25   \n\n     high_blood_pressure  platelets  serum_creatinine  serum_sodium  sex  \\\n257                    1   253000.0               1.0           139    1   \n181                    0   221000.0               1.0           136    1   \n168                    0   270000.0               1.0           138    0   \n296                    0   742000.0               0.8           138    0   \n291                    0   133000.0               1.4           139    1   \n201                    1   377000.0               1.0           136    1   \n32                     1   319000.0               1.0           128    0   \n19                     0    87000.0               1.9           121    0   \n99                     0   221000.0               1.1           140    0   \n84                     1   302000.0               1.0           141    0   \n\n     smoking  time  DEATH_EVENT  \n257        0   230            0  \n181        1   150            1  \n168        0   140            0  \n296        0   278            0  \n291        0   258            0  \n201        0   186            0  \n32         0    28            1  \n19         0    15            1  \n99         0    86            0  \n84         0    78            1  ",
      "text/html": "<div>\n<style scoped>\n    .dataframe tbody tr th:only-of-type {\n        vertical-align: middle;\n    }\n\n    .dataframe tbody tr th {\n        vertical-align: top;\n    }\n\n    .dataframe thead th {\n        text-align: right;\n    }\n</style>\n<table border=\"1\" class=\"dataframe\">\n  <thead>\n    <tr style=\"text-align: right;\">\n      <th></th>\n      <th>age</th>\n      <th>anaemia</th>\n      <th>creatinine_phosphokinase</th>\n      <th>diabetes</th>\n      <th>ejection_fraction</th>\n      <th>high_blood_pressure</th>\n      <th>platelets</th>\n      <th>serum_creatinine</th>\n      <th>serum_sodium</th>\n      <th>sex</th>\n      <th>smoking</th>\n      <th>time</th>\n      <th>DEATH_EVENT</th>\n    </tr>\n  </thead>\n  <tbody>\n    <tr>\n      <th>257</th>\n      <td>58.0</td>\n      <td>0</td>\n      <td>132</td>\n      <td>1</td>\n      <td>38</td>\n      <td>1</td>\n      <td>253000.0</td>\n      <td>1.0</td>\n      <td>139</td>\n      <td>1</td>\n      <td>0</td>\n      <td>230</td>\n      <td>0</td>\n    </tr>\n    <tr>\n      <th>181</th>\n      <td>59.0</td>\n      <td>1</td>\n      <td>176</td>\n      <td>1</td>\n      <td>25</td>\n      <td>0</td>\n      <td>221000.0</td>\n      <td>1.0</td>\n      <td>136</td>\n      <td>1</td>\n      <td>1</td>\n      <td>150</td>\n      <td>1</td>\n    </tr>\n    <tr>\n      <th>168</th>\n      <td>65.0</td>\n      <td>0</td>\n      <td>582</td>\n      <td>1</td>\n      <td>40</td>\n      <td>0</td>\n      <td>270000.0</td>\n      <td>1.0</td>\n      <td>138</td>\n      <td>0</td>\n      <td>0</td>\n      <td>140</td>\n      <td>0</td>\n    </tr>\n    <tr>\n      <th>296</th>\n      <td>45.0</td>\n      <td>0</td>\n      <td>2060</td>\n      <td>1</td>\n      <td>60</td>\n      <td>0</td>\n      <td>742000.0</td>\n      <td>0.8</td>\n      <td>138</td>\n      <td>0</td>\n      <td>0</td>\n      <td>278</td>\n      <td>0</td>\n    </tr>\n    <tr>\n      <th>291</th>\n      <td>60.0</td>\n      <td>0</td>\n      <td>320</td>\n      <td>0</td>\n      <td>35</td>\n      <td>0</td>\n      <td>133000.0</td>\n      <td>1.4</td>\n      <td>139</td>\n      <td>1</td>\n      <td>0</td>\n      <td>258</td>\n      <td>0</td>\n    </tr>\n    <tr>\n      <th>201</th>\n      <td>45.0</td>\n      <td>0</td>\n      <td>308</td>\n      <td>1</td>\n      <td>60</td>\n      <td>1</td>\n      <td>377000.0</td>\n      <td>1.0</td>\n      <td>136</td>\n      <td>1</td>\n      <td>0</td>\n      <td>186</td>\n      <td>0</td>\n    </tr>\n    <tr>\n      <th>32</th>\n      <td>50.0</td>\n      <td>1</td>\n      <td>249</td>\n      <td>1</td>\n      <td>35</td>\n      <td>1</td>\n      <td>319000.0</td>\n      <td>1.0</td>\n      <td>128</td>\n      <td>0</td>\n      <td>0</td>\n      <td>28</td>\n      <td>1</td>\n    </tr>\n    <tr>\n      <th>19</th>\n      <td>48.0</td>\n      <td>1</td>\n      <td>582</td>\n      <td>1</td>\n      <td>55</td>\n      <td>0</td>\n      <td>87000.0</td>\n      <td>1.9</td>\n      <td>121</td>\n      <td>0</td>\n      <td>0</td>\n      <td>15</td>\n      <td>1</td>\n    </tr>\n    <tr>\n      <th>99</th>\n      <td>63.0</td>\n      <td>1</td>\n      <td>61</td>\n      <td>1</td>\n      <td>40</td>\n      <td>0</td>\n      <td>221000.0</td>\n      <td>1.1</td>\n      <td>140</td>\n      <td>0</td>\n      <td>0</td>\n      <td>86</td>\n      <td>0</td>\n    </tr>\n    <tr>\n      <th>84</th>\n      <td>59.0</td>\n      <td>1</td>\n      <td>280</td>\n      <td>1</td>\n      <td>25</td>\n      <td>1</td>\n      <td>302000.0</td>\n      <td>1.0</td>\n      <td>141</td>\n      <td>0</td>\n      <td>0</td>\n      <td>78</td>\n      <td>1</td>\n    </tr>\n  </tbody>\n</table>\n</div>"
     },
     "execution_count": 3,
     "metadata": {},
     "output_type": "execute_result"
    }
   ],
   "source": [
    "df.sample(10)"
   ]
  },
  {
   "cell_type": "code",
   "execution_count": 4,
   "metadata": {
    "ExecuteTime": {
     "end_time": "2024-10-28T14:11:17.557997Z",
     "start_time": "2024-10-28T14:11:17.551420Z"
    }
   },
   "outputs": [
    {
     "data": {
      "text/plain": "299"
     },
     "execution_count": 4,
     "metadata": {},
     "output_type": "execute_result"
    }
   ],
   "source": [
    "# 299 patients\n",
    "len(df)"
   ]
  },
  {
   "cell_type": "markdown",
   "metadata": {},
   "source": [
    "## Part 1 Linear regression: Modelling time spent at the hospital\n",
    "\n",
    "- We will perform a regression analysis to model the number of days spent at the hospital, among the population of patients.\n",
    "\n",
    "\n",
    "- To get started with our model, we need two components:\n",
    "\n",
    "   1. The equation describing the model\n",
    "   2. The data\n",
    "   \n",
    "   \n",
    "- Equations are specified using patsy formula syntax. Important operators are:\n",
    "    1. `~` : Separates the left-hand side and right-hand side of a formula.\n",
    "    2. `+` : Creates a union of terms that are included in the model.\n",
    "    3. `:` : Interaction term.\n",
    "    3. `*` : `a * b` is short-hand for `a + b + a:b`, and is useful for the common case of wanting to include all interactions between a set of variables.\n",
    "    \n",
    "    \n",
    "- Intercepts are added by default.\n",
    "\n",
    "\n",
    "- Categorical variables can be included directly by adding a term C(a). More on that soon!\n",
    "\n",
    "\n",
    "- For (2), we can conveniently use pandas dataframe.\n",
    "\n",
    "### An example\n",
    "\n",
    "- Let's start with an example from our dataset. We are interested in two predictors: diabetes and high blood pressure. These are the two predictors that we want to use to fit the outcome, the number of days spent at the hospital, using a linear regression.\n",
    "\n",
    "- A model that achieves this is formulated as:\n",
    "        time ~ C(diabetes) + C(high_blood_pressure)\n",
    "        \n",
    "- We can create this model using smf.ols().\n",
    "\n",
    "- OLS stands for ordinary least squares linear regression.\n",
    "\n",
    "- The two components: the formula and the data are stated explicitly.\n",
    "\n",
    "- The terms in the formula are columns in pandas dataframe. Easy!"
   ]
  },
  {
   "cell_type": "code",
   "execution_count": 5,
   "metadata": {
    "tags": [],
    "ExecuteTime": {
     "end_time": "2024-10-28T14:11:17.578374Z",
     "start_time": "2024-10-28T14:11:17.559998Z"
    }
   },
   "outputs": [],
   "source": [
    "# Declares the model\n",
    "mod = smf.ols(formula='time ~ C(diabetes) + C(high_blood_pressure)', data=df)"
   ]
  },
  {
   "cell_type": "code",
   "execution_count": 6,
   "metadata": {
    "tags": [],
    "ExecuteTime": {
     "end_time": "2024-10-28T14:11:17.608282Z",
     "start_time": "2024-10-28T14:11:17.580372Z"
    }
   },
   "outputs": [],
   "source": [
    "# Fits the model (find the optimal coefficients, adding a random seed ensures consistency)\n",
    "np.random.seed(2)\n",
    "res = mod.fit()"
   ]
  },
  {
   "cell_type": "code",
   "execution_count": 7,
   "metadata": {
    "ExecuteTime": {
     "end_time": "2024-10-28T14:11:17.631282Z",
     "start_time": "2024-10-28T14:11:17.610279Z"
    }
   },
   "outputs": [
    {
     "name": "stdout",
     "output_type": "stream",
     "text": [
      "                            OLS Regression Results                            \n",
      "==============================================================================\n",
      "Dep. Variable:                   time   R-squared:                       0.040\n",
      "Model:                            OLS   Adj. R-squared:                  0.033\n",
      "Method:                 Least Squares   F-statistic:                     6.097\n",
      "Date:                Mon, 28 Oct 2024   Prob (F-statistic):            0.00254\n",
      "Time:                        15:11:17   Log-Likelihood:                -1718.9\n",
      "No. Observations:                 299   AIC:                             3444.\n",
      "Df Residuals:                     296   BIC:                             3455.\n",
      "Df Model:                           2                                         \n",
      "Covariance Type:            nonrobust                                         \n",
      "===============================================================================================\n",
      "                                  coef    std err          t      P>|t|      [0.025      0.975]\n",
      "-----------------------------------------------------------------------------------------------\n",
      "Intercept                     139.3851      6.658     20.934      0.000     126.282     152.489\n",
      "C(diabetes)[T.1]                4.9059      8.949      0.548      0.584     -12.706      22.518\n",
      "C(high_blood_pressure)[T.1]   -31.8228      9.247     -3.441      0.001     -50.021     -13.624\n",
      "==============================================================================\n",
      "Omnibus:                      159.508   Durbin-Watson:                   0.076\n",
      "Prob(Omnibus):                  0.000   Jarque-Bera (JB):               18.166\n",
      "Skew:                           0.076   Prob(JB):                     0.000114\n",
      "Kurtosis:                       1.802   Cond. No.                         2.82\n",
      "==============================================================================\n",
      "\n",
      "Notes:\n",
      "[1] Standard Errors assume that the covariance matrix of the errors is correctly specified.\n"
     ]
    }
   ],
   "source": [
    "# Print thes summary output provided by the library.\n",
    "print(res.summary())"
   ]
  },
  {
   "cell_type": "markdown",
   "metadata": {},
   "source": [
    "### A lot of useful information is provided by default.\n",
    "\n",
    "- The dependent variable : time (number of days at the hospital)\n",
    "- Method: The type of model that was fitted (OLS)\n",
    "- Nb observations: The number of datapoints (299 patients)\n",
    "- R2: The fraction of explained variance\n",
    "- A list of predictors\n",
    "- For each predictor: coefficient, standard error of the coefficients, p-value, 95% confidence intervals. We can see that only high blood pressure is a significant predictor (p = 0.001), while diabetes is not (0.584).\n",
    "- Warnings if there are numerical issues (hopefully not!)"
   ]
  },
  {
   "cell_type": "markdown",
   "metadata": {},
   "source": [
    "### Now, we can interpret the model that we just fitted.\n",
    "\n",
    "- Notice how C(diabetes)[T.1] is created based on the original diabetes feature. This means that the dummy variable is encoded such that the associated coefficient tells us about the value among the diabetes = yes subpopulation.\n",
    "\n",
    "\n",
    "- We interpret the model in the following way: $$\\text{days at hospital} = \\boxed{139} + \\boxed{4.9} \\times \\text{diabetes} +\\boxed{- 31.8} \\times \\text{high blood pressure}$$equivalently $$\\text{days at hospital} = \\boxed{\\text{intercept}} + \\boxed{\\text{diabete coeff}} \\times \\text{diabetes} +\\boxed{\\text{high blood pressure coeff}} \\times \\text{high blood pressure}$$ \n",
    "\n",
    "Thus:\n",
    "    1. People who don't have diabetes nor high blood pressure stay at the hospital on average for 139 days\n",
    "    2. People who have diabetes, but don't have blood pressure stay for 139 + 4.9 days ~ 144 days\n",
    "    3. People who don't have diabetes, but have blood pressure stay for 139 - 31 days ~ 108 days\n",
    "    4. People who have diabetes and blood pressure stay for 139 + 4.9 - 31.8 ~ 112 days\n",
    "    \n",
    "- We calculate the means explicitly to make sure they are the same as what we just calculated with regression!"
   ]
  },
  {
   "cell_type": "code",
   "execution_count": 8,
   "metadata": {
    "ExecuteTime": {
     "end_time": "2024-10-28T14:11:17.642952Z",
     "start_time": "2024-10-28T14:11:17.633280Z"
    }
   },
   "outputs": [
    {
     "name": "stdout",
     "output_type": "stream",
     "text": [
      "People who don't have diabetes nor high blood pressure stay at the hospital for 139.00 days\n",
      "People who have diabetes, but don't have blood pressure stay for 144.82 days\n",
      "People who don't have diabetes, but have blood pressure stay for 108.26 days\n",
      "People who have diabetes and blood pressure stay for 111.47 days\n"
     ]
    }
   ],
   "source": [
    "print(f\"People who don't have diabetes nor high blood pressure stay at the hospital for \"\n",
    "      f\"{df.loc[(df['diabetes'] == 0) & (df['high_blood_pressure'] == 0)]['time'].mean():.2f} days\")\n",
    "\n",
    "print(f\"People who have diabetes, but don't have blood pressure stay for \"\n",
    "      f\"{df.loc[(df['diabetes'] == 1) & (df['high_blood_pressure'] == 0)]['time'].mean():.2f} days\")\n",
    "\n",
    "print(f\"People who don't have diabetes, but have blood pressure stay for \"\n",
    "        f\"{df.loc[(df['diabetes'] == 0) & (df['high_blood_pressure'] == 1)]['time'].mean():.2f} days\")\n",
    "\n",
    "print(f\"People who have diabetes and blood pressure stay for \"\n",
    "      f\"{df.loc[(df['diabetes'] == 1) & (df['high_blood_pressure'] == 1)]['time'].mean():.2f} days\")"
   ]
  },
  {
   "cell_type": "markdown",
   "metadata": {},
   "source": [
    "- Isn't it strange that high blood pressure has a negative coefficient? It seems like the patients who have high blood pressure stay at the hospital for shorter number of days, even though one would expect the opposite. Lets' get to that!"
   ]
  },
  {
   "cell_type": "markdown",
   "metadata": {},
   "source": [
    "## Part 2 Linear regression with interaction terms: Modelling time spent at the hospital V2"
   ]
  },
  {
   "cell_type": "markdown",
   "metadata": {},
   "source": [
    "- One reason why serious conditions can be associated with lower time spent at the hospital is because of a third confounding factor: death 💀. Patients who have a serious condition might spend less time at the hospital because they die.\n",
    "\n",
    "- Let's get a better sense of what is happening by modeling the time spent at the hospital with death as a predictor.\n",
    "\n",
    "- This time we will add interaction features, therefore we model the following: \n",
    "$$\n",
    "\\text{time} = \\beta_0 + \\beta_1 \\cdot \\text{high blood pressure} + \\beta_2 \\cdot \\text{Death event} + \\beta_3 \\cdot (\\text{high blood pressure} \\times \\text{Death event}) + \\beta_4 \\cdot \\text{Diabetes} + \\varepsilon\n",
    "$$"
   ]
  },
  {
   "cell_type": "code",
   "execution_count": 9,
   "metadata": {
    "ExecuteTime": {
     "end_time": "2024-10-28T14:11:17.679157Z",
     "start_time": "2024-10-28T14:11:17.643950Z"
    }
   },
   "outputs": [
    {
     "name": "stdout",
     "output_type": "stream",
     "text": [
      "                            OLS Regression Results                            \n",
      "==============================================================================\n",
      "Dep. Variable:                   time   R-squared:                       0.303\n",
      "Model:                            OLS   Adj. R-squared:                  0.293\n",
      "Method:                 Least Squares   F-statistic:                     31.92\n",
      "Date:                Mon, 28 Oct 2024   Prob (F-statistic):           4.32e-22\n",
      "Time:                        15:11:17   Log-Likelihood:                -1671.0\n",
      "No. Observations:                 299   AIC:                             3352.\n",
      "Df Residuals:                     294   BIC:                             3371.\n",
      "Df Model:                           4                                         \n",
      "Covariance Type:            nonrobust                                         \n",
      "===========================================================================================================================================\n",
      "                                                                              coef    std err          t      P>|t|      [0.025      0.975]\n",
      "-------------------------------------------------------------------------------------------------------------------------------------------\n",
      "Intercept                                                                 164.8348      6.476     25.452      0.000     152.089     177.581\n",
      "C(high_blood_pressure)[T.1]                                               -26.1462      9.781     -2.673      0.008     -45.395      -6.897\n",
      "C(DEATH_EVENT, Treatment(reference=0))[T.1]                               -86.4520     10.286     -8.405      0.000    -106.696     -66.208\n",
      "C(diabetes)[T.1]                                                            4.7903      7.655      0.626      0.532     -10.275      19.855\n",
      "C(high_blood_pressure)[T.1]:C(DEATH_EVENT, Treatment(reference=0))[T.1]     2.7778     16.725      0.166      0.868     -30.137      35.693\n",
      "==============================================================================\n",
      "Omnibus:                       34.161   Durbin-Watson:                   0.484\n",
      "Prob(Omnibus):                  0.000   Jarque-Bera (JB):               11.463\n",
      "Skew:                           0.185   Prob(JB):                      0.00324\n",
      "Kurtosis:                       2.115   Cond. No.                         6.31\n",
      "==============================================================================\n",
      "\n",
      "Notes:\n",
      "[1] Standard Errors assume that the covariance matrix of the errors is correctly specified.\n"
     ]
    }
   ],
   "source": [
    "# We use a*b to add terms: a, b, a:b, and intercept\n",
    "mod = smf.ols(formula='time ~ C(high_blood_pressure) * C(DEATH_EVENT,  Treatment(reference=0)) + C(diabetes)', data=df)\n",
    "res = mod.fit()\n",
    "print(res.summary())"
   ]
  },
  {
   "cell_type": "markdown",
   "metadata": {},
   "source": [
    "### Interpretation:"
   ]
  },
  {
   "cell_type": "markdown",
   "metadata": {},
   "source": [
    "- This model lets us see that death is associated with a lower number of days spent at the hospital.\n",
    "- Notice how **$R^2$ is much larger** compared to the previous model: **more variance in the data is explained**.\n",
    "- Those that have high blood pressure stay for less time (-26 days on average), those who have blood pressure __and__ die spend 110 days less hospitalized on average (since $c_3 + c_4 + c_5 \\approx 110$), although this is not statistically significant."
   ]
  },
  {
   "cell_type": "markdown",
   "metadata": {},
   "source": [
    "## Part 3 Logistic regression: Modelling the binary death outcome"
   ]
  },
  {
   "cell_type": "markdown",
   "metadata": {},
   "source": [
    "- Finally, let's model the binary outcome of death, based on all patients' features.\n",
    "- We will exclude time spent at the hospital, since we saw how it is strongly correlated with death."
   ]
  },
  {
   "cell_type": "markdown",
   "metadata": {},
   "source": [
    "### First, we will do standardization of continuous predictors. This will let us interpret the predictors that are of vastly different scales (from percents to thousands).\n",
    "\n",
    "$$x \\mapsto \\frac{x-\\text{mean}(X)}{\\text{std(X)}}$$"
   ]
  },
  {
   "cell_type": "code",
   "execution_count": 10,
   "metadata": {
    "tags": [],
    "ExecuteTime": {
     "end_time": "2024-10-28T14:11:17.699173Z",
     "start_time": "2024-10-28T14:11:17.682154Z"
    }
   },
   "outputs": [],
   "source": [
    "# Center and normalize the continuous predictors\n",
    "\n",
    "df['age'] = (df['age']-df['age'].mean())/df['age'].std()\n",
    "\n",
    "df['creatinine_phosphokinase'] = ((df['creatinine_phosphokinase'] - df['creatinine_phosphokinase'].mean()) \n",
    "                                  / df['creatinine_phosphokinase'].std())\n",
    "\n",
    "df['ejection_fraction'] = (df['ejection_fraction'] - df['ejection_fraction'].mean())/df['ejection_fraction'].std()\n",
    "\n",
    "df['platelets'] = (df['platelets'] - df['platelets'].mean())/df['platelets'].std()\n",
    "\n",
    "df['serum_creatinine'] = (df['serum_creatinine'] - df['serum_creatinine'].mean())/df['serum_creatinine'].std()\n",
    "\n",
    "df['serum_sodium'] = (df['serum_sodium'] - df['serum_sodium'].mean())/df['serum_sodium'].std()"
   ]
  },
  {
   "cell_type": "code",
   "outputs": [
    {
     "name": "stdout",
     "output_type": "stream",
     "text": [
      "5.465713352000771e-16 1.0\n"
     ]
    }
   ],
   "source": [
    "print(df.age.mean(), df.age.std())"
   ],
   "metadata": {
    "collapsed": false,
    "ExecuteTime": {
     "end_time": "2024-10-28T14:11:17.709470Z",
     "start_time": "2024-10-28T14:11:17.702166Z"
    }
   },
   "execution_count": 11
  },
  {
   "cell_type": "markdown",
   "metadata": {},
   "source": [
    "### Instead of linear, we will now use a logistic regression to model the binary outcome.\n",
    "\n",
    "\n",
    "$$\n",
    "\\begin{aligned}\n",
    "\\text{logit}\\left(P(\\text{Death event} = 1)\\right) = \\beta_0 &+ \\beta_1 \\cdot \\text{age} + \\beta_2 \\cdot \\text{creatinine phosphokinase} \\\\ &+ \\beta_3 \\cdot \\text{ejection fraction} + \\beta_4 \\cdot \\text{platelets} + \\beta_5 \\cdot \\text{serum creatinine} \\\\ &+ \\beta_6 \\cdot \\text{serum sodium} + \\beta_7 \\cdot \\text{diabetes} + \\beta_8 \\cdot \\text{high blood pressure} \\\\ &+ \\beta_9 \\cdot \\text{sex} + \\beta_{10} \\cdot \\text{anaemia} + \\beta_{11} \\cdot \\text{smoking}\n",
    "\\end{aligned}\n",
    "$$\n",
    "\n",
    "with \n",
    "\n",
    "$$\\text{logit}(P)=\\log\\left(\\frac{P}{1-P}\\right)$$\n"
   ]
  },
  {
   "cell_type": "code",
   "execution_count": 12,
   "metadata": {
    "ExecuteTime": {
     "end_time": "2024-10-28T14:11:17.787766Z",
     "start_time": "2024-10-28T14:11:17.712468Z"
    }
   },
   "outputs": [
    {
     "name": "stdout",
     "output_type": "stream",
     "text": [
      "Optimization terminated successfully.\n",
      "         Current function value: 0.492108\n",
      "         Iterations 6\n",
      "                           Logit Regression Results                           \n",
      "==============================================================================\n",
      "Dep. Variable:            DEATH_EVENT   No. Observations:                  299\n",
      "Model:                          Logit   Df Residuals:                      287\n",
      "Method:                           MLE   Df Model:                           11\n",
      "Date:                Mon, 28 Oct 2024   Pseudo R-squ.:                  0.2160\n",
      "Time:                        15:11:17   Log-Likelihood:                -147.14\n",
      "converged:                       True   LL-Null:                       -187.67\n",
      "Covariance Type:            nonrobust   LLR p-value:                 9.169e-13\n",
      "===============================================================================================\n",
      "                                  coef    std err          z      P>|z|      [0.025      0.975]\n",
      "-----------------------------------------------------------------------------------------------\n",
      "Intercept                      -1.1633      0.362     -3.214      0.001      -1.873      -0.454\n",
      "C(diabetes)[T.1]                0.1514      0.297      0.509      0.611      -0.431       0.734\n",
      "C(high_blood_pressure)[T.1]     0.4189      0.306      1.369      0.171      -0.181       1.019\n",
      "C(sex)[T.1]                    -0.3990      0.351     -1.137      0.255      -1.087       0.289\n",
      "C(anaemia)[T.1]                 0.4179      0.301      1.389      0.165      -0.172       1.008\n",
      "C(smoking)[T.1]                 0.1356      0.349      0.389      0.697      -0.548       0.819\n",
      "age                             0.6624      0.156      4.241      0.000       0.356       0.969\n",
      "creatinine_phosphokinase        0.2819      0.139      2.034      0.042       0.010       0.553\n",
      "ejection_fraction              -0.8322      0.176     -4.731      0.000      -1.177      -0.487\n",
      "platelets                      -0.0694      0.158     -0.439      0.661      -0.379       0.241\n",
      "serum_creatinine                0.6847      0.179      3.817      0.000       0.333       1.036\n",
      "serum_sodium                   -0.2500      0.147     -1.698      0.090      -0.539       0.039\n",
      "===============================================================================================\n"
     ]
    }
   ],
   "source": [
    "# logit is logistic regression. The other parameters are the same as before\n",
    "mod = smf.logit(formula='DEATH_EVENT ~  age + creatinine_phosphokinase + ejection_fraction + \\\n",
    "                        platelets + serum_creatinine + serum_sodium + \\\n",
    "                        C(diabetes) + C(high_blood_pressure) +\\\n",
    "                        C(sex) + C(anaemia) + C(smoking) + C(high_blood_pressure)', data=df)\n",
    "res = mod.fit()\n",
    "print(res.summary())"
   ]
  },
  {
   "cell_type": "markdown",
   "metadata": {},
   "source": [
    "**Looks good! We have a reasonably high $R^2$ (0.216). In addition to reading the coefficients from the summary table, let's access them programmatically from the res object.**"
   ]
  },
  {
   "cell_type": "code",
   "execution_count": 13,
   "metadata": {
    "ExecuteTime": {
     "end_time": "2024-10-28T14:11:17.807261Z",
     "start_time": "2024-10-28T14:11:17.790739Z"
    }
   },
   "outputs": [
    {
     "data": {
      "text/plain": "                                    0         1\nIntercept                   -1.872683 -0.453819\nC(diabetes)[T.1]            -0.431428  0.734243\nC(high_blood_pressure)[T.1] -0.180976  1.018851\nC(sex)[T.1]                 -1.086628  0.288599\nC(anaemia)[T.1]             -0.171894  1.007753\nC(smoking)[T.1]             -0.547629  0.818807\nage                          0.356256  0.968609\ncreatinine_phosphokinase     0.010320  0.553497\nejection_fraction           -1.177018 -0.487482\nplatelets                   -0.379319  0.240561\nserum_creatinine             0.333085  1.036318\nserum_sodium                -0.538702  0.038621",
      "text/html": "<div>\n<style scoped>\n    .dataframe tbody tr th:only-of-type {\n        vertical-align: middle;\n    }\n\n    .dataframe tbody tr th {\n        vertical-align: top;\n    }\n\n    .dataframe thead th {\n        text-align: right;\n    }\n</style>\n<table border=\"1\" class=\"dataframe\">\n  <thead>\n    <tr style=\"text-align: right;\">\n      <th></th>\n      <th>0</th>\n      <th>1</th>\n    </tr>\n  </thead>\n  <tbody>\n    <tr>\n      <th>Intercept</th>\n      <td>-1.872683</td>\n      <td>-0.453819</td>\n    </tr>\n    <tr>\n      <th>C(diabetes)[T.1]</th>\n      <td>-0.431428</td>\n      <td>0.734243</td>\n    </tr>\n    <tr>\n      <th>C(high_blood_pressure)[T.1]</th>\n      <td>-0.180976</td>\n      <td>1.018851</td>\n    </tr>\n    <tr>\n      <th>C(sex)[T.1]</th>\n      <td>-1.086628</td>\n      <td>0.288599</td>\n    </tr>\n    <tr>\n      <th>C(anaemia)[T.1]</th>\n      <td>-0.171894</td>\n      <td>1.007753</td>\n    </tr>\n    <tr>\n      <th>C(smoking)[T.1]</th>\n      <td>-0.547629</td>\n      <td>0.818807</td>\n    </tr>\n    <tr>\n      <th>age</th>\n      <td>0.356256</td>\n      <td>0.968609</td>\n    </tr>\n    <tr>\n      <th>creatinine_phosphokinase</th>\n      <td>0.010320</td>\n      <td>0.553497</td>\n    </tr>\n    <tr>\n      <th>ejection_fraction</th>\n      <td>-1.177018</td>\n      <td>-0.487482</td>\n    </tr>\n    <tr>\n      <th>platelets</th>\n      <td>-0.379319</td>\n      <td>0.240561</td>\n    </tr>\n    <tr>\n      <th>serum_creatinine</th>\n      <td>0.333085</td>\n      <td>1.036318</td>\n    </tr>\n    <tr>\n      <th>serum_sodium</th>\n      <td>-0.538702</td>\n      <td>0.038621</td>\n    </tr>\n  </tbody>\n</table>\n</div>"
     },
     "execution_count": 13,
     "metadata": {},
     "output_type": "execute_result"
    }
   ],
   "source": [
    "# Feature names\n",
    "variables = res.params.index\n",
    "\n",
    "# Quantifying uncertainty!\n",
    "coefficients = res.params.values  # coefficients\n",
    "p_values = res.pvalues  # p-values\n",
    "standard_errors = res.bse.values  # standard errors\n",
    "\n",
    "#confidence intervals\n",
    "res.conf_int()"
   ]
  },
  {
   "cell_type": "code",
   "outputs": [
    {
     "name": "stdout",
     "output_type": "stream",
     "text": [
      "[-1.16325131  0.15140764  0.41893769 -0.39901405  0.41792976  0.13558917\n",
      "  0.66243288  0.28190843 -0.83225    -0.06937879  0.68470142 -0.25004061]\n"
     ]
    }
   ],
   "source": [
    "print(coefficients)"
   ],
   "metadata": {
    "collapsed": false,
    "ExecuteTime": {
     "end_time": "2024-10-28T14:11:17.814533Z",
     "start_time": "2024-10-28T14:11:17.809257Z"
    }
   },
   "execution_count": 14
  },
  {
   "cell_type": "markdown",
   "metadata": {},
   "source": [
    "**Now we can visualize the effect of all the predictors. Let's first sort them by the coefficients.**"
   ]
  },
  {
   "cell_type": "code",
   "execution_count": 15,
   "metadata": {
    "tags": [],
    "ExecuteTime": {
     "end_time": "2024-10-28T14:11:17.825169Z",
     "start_time": "2024-10-28T14:11:17.816530Z"
    }
   },
   "outputs": [],
   "source": [
    "# Sort them all by coefficients\n",
    "l1, l2, l3, l4 = zip(*sorted(zip(coefficients[1:], variables[1:], standard_errors[1:], p_values[1:])))\n",
    "\n",
    "# in this case, we index starting from the first element, not to plot the intercept (element 0 is the intercept)\n",
    "\n",
    "# We will use standard errors, instead of CIs\n",
    "# Two standard errors approximate the CIs (you can actually see in the summary table that +/2 SI is equivalent to the CIs)"
   ]
  },
  {
   "cell_type": "code",
   "execution_count": 16,
   "metadata": {
    "ExecuteTime": {
     "end_time": "2024-10-28T14:11:18.122683Z",
     "start_time": "2024-10-28T14:11:17.831168Z"
    }
   },
   "outputs": [
    {
     "data": {
      "text/plain": "<Figure size 800x600 with 1 Axes>",
      "image/png": "[encoded data removed]"
     },
     "metadata": {},
     "output_type": "display_data"
    }
   ],
   "source": [
    "# Fancy plotting\n",
    "plt.figure(figsize=(8, 6))\n",
    "plt.errorbar(l1, np.array(range(len(l1))), xerr= 2*np.array(l3), linewidth = 1,\n",
    "             linestyle = 'none',marker = 'o',markersize= 3,\n",
    "             markerfacecolor = 'black',markeredgecolor = 'black', capsize= 5)\n",
    "plt.vlines(0,0, len(l1), linestyle = '--')\n",
    "plt.yticks(range(len(l2)),l2)\n",
    "plt.show()"
   ]
  },
  {
   "cell_type": "markdown",
   "metadata": {},
   "source": [
    "### Interpretation:\n",
    "- Serum creatinine level in the blood and age are significant positive predictors of death.\n",
    "- High ejection fraction (a healthy heart) is a sigificant negative predictor of death.\n",
    "- Since all predictors are standardized, we can interpret in the following way:\n",
    "    - When all other predictors take mean values, **an increase of age by 1 standard deviation, leads on average to an increase by 0.66 of log odds of death**.\n",
    "    - When all other predictors take mean values, **increase of ejection fraction by 1 standard deviation, leads on average to a decrease by 0.83 of log odds of death**."
   ]
  },
  {
   "cell_type": "markdown",
   "metadata": {},
   "source": [
    "### Interpreting log odds\n",
    "\n",
    "- Why log odds? remember that that's what logistic regression models.\n",
    "    - Notice that log odds are a bit difficult to interpret.\n",
    "    - If an event has probability p, it has odds p/(1-p).\n",
    "    - This is a non-linear transformation over p. See the plot below!"
   ]
  },
  {
   "cell_type": "code",
   "execution_count": 17,
   "metadata": {
    "ExecuteTime": {
     "end_time": "2024-10-28T14:11:19.302365Z",
     "start_time": "2024-10-28T14:11:18.124681Z"
    }
   },
   "outputs": [
    {
     "data": {
      "text/plain": "<Figure size 1800x600 with 3 Axes>",
      "image/png": "[encoded data removed]"
     },
     "metadata": {},
     "output_type": "display_data"
    }
   ],
   "source": [
    "# Data generation\n",
    "p = np.linspace(1e-2, 0.99, 1000)  # Avoid 0 for the log\n",
    "odds = p / (1 - p)\n",
    "log_odds = np.log(odds)\n",
    "\n",
    "\n",
    "fig, axs = plt.subplots(1, 3, figsize=(18, 6))\n",
    "# ------------------------------\n",
    "# Plot 1 : p vs Odds\n",
    "# ------------------------------\n",
    "axs[0].plot(p, odds, color='blue', linewidth=2)\n",
    "axs[0].set_title(\"Probability vs Odds\", fontsize=14)\n",
    "axs[0].set_xlabel(\"Probability\", fontsize=12)\n",
    "axs[0].set_ylabel(\"Odds\", fontsize=12)\n",
    "axs[0].grid(True, linestyle='--', alpha=0.7)\n",
    "\n",
    "# Annotation for p=0.5\n",
    "p_annot = 0.5\n",
    "odds_annot = p_annot / (1 - p_annot)\n",
    "axs[0].axvline(p_annot, color='red', linestyle=':', linewidth=1)\n",
    "axs[0].axhline(odds_annot, color='red', linestyle=':', linewidth=1)\n",
    "axs[0].annotate(f\"p = {p_annot}\", xy=(p_annot, odds_annot),\n",
    "                xytext=(p_annot + 0.05, odds_annot + 10),\n",
    "                arrowprops=dict(facecolor='red', shrink=0.05),\n",
    "                fontsize=10, color='red')\n",
    "\n",
    "# ------------------------------\n",
    "# Plot 2 : Odds vs Log-Odds\n",
    "# ------------------------------\n",
    "axs[1].plot(odds, log_odds, color='green', linewidth=2)\n",
    "axs[1].set_title(\"Odds vs Log-Odds\", fontsize=14)\n",
    "axs[1].set_xlabel(\"Odds\", fontsize=12)\n",
    "axs[1].set_ylabel(\"Log-Odds\", fontsize=12)\n",
    "axs[1].grid(True, linestyle='--', alpha=0.7)\n",
    "\n",
    "# Annotation for odds=1 (log_odds=0)\n",
    "axs[1].axvline(1, color='red', linestyle=':', linewidth=1)\n",
    "axs[1].axhline(0, color='red', linestyle=':', linewidth=1)\n",
    "axs[1].annotate(\"Odds = 1\\n(Log-Odds = 0)\", xy=(1, 0),\n",
    "                xytext=(1.5, 1),\n",
    "                arrowprops=dict(facecolor='red', shrink=0.05),\n",
    "                fontsize=10, color='red')\n",
    "\n",
    "# ------------------------------\n",
    "# Plot 3 : p vs Log-Odds\n",
    "# ------------------------------\n",
    "axs[2].plot(p, log_odds, color='purple', linewidth=2)\n",
    "axs[2].set_title(\"Probability (p) vs Log-Odds (Log-Odds)\", fontsize=14)\n",
    "axs[2].set_xlabel(\"Probability (p)\", fontsize=12)\n",
    "axs[2].set_ylabel(\"Log-Odds (Log-Odds)\", fontsize=12)\n",
    "axs[2].grid(True, linestyle='--', alpha=0.7)\n",
    "\n",
    "# Annotation for p=0.5 (log_odds=0)\n",
    "axs[2].axvline(p_annot, color='red', linestyle=':', linewidth=1)\n",
    "axs[2].axhline(0, color='red', linestyle=':', linewidth=1)\n",
    "axs[2].annotate(f\"p = {p_annot}\\nLog-Odds = 0\", xy=(p_annot, 0),\n",
    "                xytext=(p_annot + 0.05, 2),\n",
    "                arrowprops=dict(facecolor='red', shrink=0.05),\n",
    "                fontsize=10, color='red')\n",
    "\n",
    "plt.tight_layout()\n",
    "plt.show()\n"
   ]
  },
  {
   "cell_type": "markdown",
   "metadata": {},
   "source": [
    "With this in mind, calculate:\n",
    "- If $p = 0.1$ and you have a change in log odds equals to $+0.66$, what will be your new $p$?\n",
    "- If $p = 0.9$ and you have a change in log odds equals to $+0.66$, what will be your new $p$?"
   ]
  },
  {
   "cell_type": "code",
   "execution_count": 18,
   "metadata": {
    "tags": [],
    "ExecuteTime": {
     "end_time": "2024-10-28T14:11:19.309393Z",
     "start_time": "2024-10-28T14:11:19.303362Z"
    }
   },
   "outputs": [],
   "source": [
    "def p_to_log_odds(p):\n",
    "    return np.log(p/(1-p))\n",
    "\n",
    "def log_odds_to_p(odds):\n",
    "    return np.exp(odds) / (1+ np.exp(odds))"
   ]
  },
  {
   "cell_type": "code",
   "execution_count": 19,
   "metadata": {
    "ExecuteTime": {
     "end_time": "2024-10-28T14:11:19.322413Z",
     "start_time": "2024-10-28T14:11:19.310364Z"
    }
   },
   "outputs": [
    {
     "data": {
      "text/plain": "(-2.197224577336219, 0.10000000000000003)"
     },
     "execution_count": 19,
     "metadata": {},
     "output_type": "execute_result"
    }
   ],
   "source": [
    "# Check if the functions are correct\n",
    "p_to_log_odds(0.1), log_odds_to_p(-2.197224577336219)"
   ]
  },
  {
   "cell_type": "code",
   "execution_count": 20,
   "metadata": {
    "ExecuteTime": {
     "end_time": "2024-10-28T14:11:19.334441Z",
     "start_time": "2024-10-28T14:11:19.324414Z"
    }
   },
   "outputs": [
    {
     "data": {
      "text/plain": "0.17693910183506342"
     },
     "execution_count": 20,
     "metadata": {},
     "output_type": "execute_result"
    }
   ],
   "source": [
    "odds = p_to_log_odds(0.1)\n",
    "new_odds = odds + 0.66\n",
    "new_p = log_odds_to_p(new_odds)\n",
    "new_p"
   ]
  },
  {
   "cell_type": "code",
   "execution_count": 21,
   "metadata": {
    "ExecuteTime": {
     "end_time": "2024-10-28T14:11:19.344965Z",
     "start_time": "2024-10-28T14:11:19.336439Z"
    }
   },
   "outputs": [
    {
     "data": {
      "text/plain": "0.9456909311361745"
     },
     "execution_count": 21,
     "metadata": {},
     "output_type": "execute_result"
    }
   ],
   "source": [
    "odds = p_to_log_odds(0.9)\n",
    "new_odds = odds + 0.66\n",
    "new_p = log_odds_to_p(new_odds)\n",
    "new_p"
   ]
  },
  {
   "cell_type": "markdown",
   "metadata": {},
   "source": [
    "**Comment:** Notice that first increase of $+0.66$ in log odds corresponds to roughly an increase of $\\sim 7.7$ percentage points! While the second increase corresponds to $\\sim 4.5$ percentage points."
   ]
  },
  {
   "cell_type": "markdown",
   "metadata": {},
   "source": [
    " "
   ]
  },
  {
   "cell_type": "code",
   "execution_count": 22,
   "metadata": {
    "scrolled": true,
    "ExecuteTime": {
     "end_time": "2024-10-28T14:11:19.372147Z",
     "start_time": "2024-10-28T14:11:19.345963Z"
    }
   },
   "outputs": [
    {
     "name": "stdout",
     "output_type": "stream",
     "text": [
      "Optimization terminated successfully.\n",
      "         Current function value: 0.580689\n",
      "         Iterations 6\n",
      "                           Logit Regression Results                           \n",
      "==============================================================================\n",
      "Dep. Variable:            DEATH_EVENT   No. Observations:                  299\n",
      "Model:                          Logit   Df Residuals:                      297\n",
      "Method:                           MLE   Df Model:                            1\n",
      "Date:                Mon, 28 Oct 2024   Pseudo R-squ.:                 0.07485\n",
      "Time:                        15:11:19   Log-Likelihood:                -173.63\n",
      "converged:                       True   LL-Null:                       -187.67\n",
      "Covariance Type:            nonrobust   LLR p-value:                 1.154e-07\n",
      "====================================================================================\n",
      "                       coef    std err          z      P>|z|      [0.025      0.975]\n",
      "------------------------------------------------------------------------------------\n",
      "Intercept           -0.7429      0.131     -5.683      0.000      -0.999      -0.487\n",
      "serum_creatinine     0.8526      0.204      4.180      0.000       0.453       1.252\n",
      "====================================================================================\n"
     ]
    }
   ],
   "source": [
    "mod = smf.logit(formula='DEATH_EVENT ~  serum_creatinine', data=df)\n",
    "res = mod.fit()\n",
    "print(res.summary())"
   ]
  },
  {
   "cell_type": "markdown",
   "metadata": {},
   "source": [
    "2. Notice that serum creatinine is significantly correlated with age, that is, **the older you are, the highest your value for serum creatinine will be** (which is bad!). With this in mind, repeat the logistic regression now using serum creatinine _and_ age as predictor variables. What do you think will happen to the coefficient of serum-creatinine? Decrease or increase?"
   ]
  },
  {
   "cell_type": "code",
   "execution_count": 23,
   "metadata": {
    "ExecuteTime": {
     "end_time": "2024-10-28T14:11:19.382848Z",
     "start_time": "2024-10-28T14:11:19.373142Z"
    }
   },
   "outputs": [
    {
     "data": {
      "text/plain": "PearsonRResult(statistic=0.1591871332835501, pvalue=0.0058034329412036826)"
     },
     "execution_count": 23,
     "metadata": {},
     "output_type": "execute_result"
    }
   ],
   "source": [
    "import scipy.stats as stats\n",
    "stats.pearsonr(df[\"age\"].values, df[\"serum_creatinine\"])"
   ]
  },
  {
   "cell_type": "code",
   "execution_count": 24,
   "metadata": {
    "ExecuteTime": {
     "end_time": "2024-10-28T14:11:19.414671Z",
     "start_time": "2024-10-28T14:11:19.384849Z"
    }
   },
   "outputs": [
    {
     "name": "stdout",
     "output_type": "stream",
     "text": [
      "Optimization terminated successfully.\n",
      "         Current function value: 0.558734\n",
      "         Iterations 6\n",
      "                           Logit Regression Results                           \n",
      "==============================================================================\n",
      "Dep. Variable:            DEATH_EVENT   No. Observations:                  299\n",
      "Model:                          Logit   Df Residuals:                      296\n",
      "Method:                           MLE   Df Model:                            2\n",
      "Date:                Mon, 28 Oct 2024   Pseudo R-squ.:                  0.1098\n",
      "Time:                        15:11:19   Log-Likelihood:                -167.06\n",
      "converged:                       True   LL-Null:                       -187.67\n",
      "Covariance Type:            nonrobust   LLR p-value:                 1.117e-09\n",
      "====================================================================================\n",
      "                       coef    std err          z      P>|z|      [0.025      0.975]\n",
      "------------------------------------------------------------------------------------\n",
      "Intercept           -0.7976      0.136     -5.880      0.000      -1.063      -0.532\n",
      "serum_creatinine     0.7384      0.197      3.751      0.000       0.353       1.124\n",
      "age                  0.4847      0.137      3.538      0.000       0.216       0.753\n",
      "====================================================================================\n"
     ]
    }
   ],
   "source": [
    "mod = smf.logit(formula='DEATH_EVENT ~  serum_creatinine + age', data=df)\n",
    "res = mod.fit()\n",
    "print(res.summary())"
   ]
  },
  {
   "cell_type": "markdown",
   "metadata": {},
   "source": [
    "**Comment:** Notice that the **model $R^2$ increased**! And that the effect of `serum_creatinine` decreased from ~0.85 to  ~0.73! One way to think about this is that since the two are correlated, serum creatinine was also working as a proxy for age, but when we add age explicitly, this proxy effect disappears!"
   ]
  },
  {
   "cell_type": "markdown",
   "metadata": {},
   "source": [
    "### Log-transformations\n",
    "\n",
    "\n",
    "Remember from class that a log transform in the dependent variable (y) makes the model multiplicative.\n",
    "\n",
    "1. Fit a linear model to predict the time spent in the hospital (`time`) as a function of variables `high_blood_pressure`, `diabetes` and `DEATH_EVENT`.\n",
    "\n",
    "2. Now perform a log transform in the variable `time`, that is, create another column in the dataframe containing the `log` of time. Repeat the model, now using the log of time as the dependent variable.\n",
    "\n",
    "3. Calculate what is the _additive_ effect of having `high_blood_pressure` in the time spent in the hospital in the first model, and what is the _multiplicative_ effect of having `high_blood_pressure` in the second."
   ]
  },
  {
   "cell_type": "code",
   "execution_count": 25,
   "metadata": {
    "tags": [],
    "ExecuteTime": {
     "end_time": "2024-10-28T14:11:19.423351Z",
     "start_time": "2024-10-28T14:11:19.416669Z"
    }
   },
   "outputs": [],
   "source": [
    "# reload the data to undo the std transforms\n",
    "data_folder = './data/'\n",
    "df = pd.read_csv(data_folder + 'heart_failure_clinical_records_dataset.csv')"
   ]
  },
  {
   "cell_type": "code",
   "execution_count": 26,
   "metadata": {
    "ExecuteTime": {
     "end_time": "2024-10-28T14:11:19.454563Z",
     "start_time": "2024-10-28T14:11:19.425346Z"
    }
   },
   "outputs": [
    {
     "name": "stdout",
     "output_type": "stream",
     "text": [
      "                            OLS Regression Results                            \n",
      "==============================================================================\n",
      "Dep. Variable:                   time   R-squared:                       0.303\n",
      "Model:                            OLS   Adj. R-squared:                  0.296\n",
      "Method:                 Least Squares   F-statistic:                     42.69\n",
      "Date:                Mon, 28 Oct 2024   Prob (F-statistic):           6.12e-23\n",
      "Time:                        15:11:19   Log-Likelihood:                -1671.0\n",
      "No. Observations:                 299   AIC:                             3350.\n",
      "Df Residuals:                     295   BIC:                             3365.\n",
      "Df Model:                           3                                         \n",
      "Covariance Type:            nonrobust                                         \n",
      "=======================================================================================\n",
      "                          coef    std err          t      P>|t|      [0.025      0.975]\n",
      "---------------------------------------------------------------------------------------\n",
      "Intercept             164.5089      6.162     26.699      0.000     152.383     176.635\n",
      "high_blood_pressure   -25.1955      7.918     -3.182      0.002     -40.778      -9.613\n",
      "diabetes                4.8305      7.638      0.632      0.528     -10.202      19.863\n",
      "DEATH_EVENT           -85.4005      8.094    -10.551      0.000    -101.330     -69.471\n",
      "==============================================================================\n",
      "Omnibus:                       34.592   Durbin-Watson:                   0.484\n",
      "Prob(Omnibus):                  0.000   Jarque-Bera (JB):               11.510\n",
      "Skew:                           0.184   Prob(JB):                      0.00317\n",
      "Kurtosis:                       2.112   Cond. No.                         3.02\n",
      "==============================================================================\n",
      "\n",
      "Notes:\n",
      "[1] Standard Errors assume that the covariance matrix of the errors is correctly specified.\n"
     ]
    }
   ],
   "source": [
    "mod = smf.ols(formula='time ~  high_blood_pressure + diabetes + DEATH_EVENT', data=df)\n",
    "res = mod.fit()\n",
    "print(res.summary())"
   ]
  },
  {
   "cell_type": "markdown",
   "source": [
    "$$\n",
    "\\log(\\text{time}) = \\beta_0 + \\beta_1 \\cdot \\text{high blood pressure} + \\beta_2 \\cdot \\text{diabetes} + \\beta_3 \\cdot \\text{DEATH EVENT} + \\epsilon\n",
    "$$\n",
    "$$\n",
    "\\begin{aligned}\n",
    "\\implies \\text{time} &= \\exp\\left(\\beta_0 + \\beta_1 \\cdot \\text{high blood pressure} + \\beta_2 \\cdot \\text{diabetes} + \\beta_3 \\cdot \\text{DEATH EVENT}\\right) \\\\ \n",
    "&= \\exp(\\beta_0)\\cdot \\exp(\\beta_1 \\cdot \\text{high blood pressure}) \\cdot \\exp(\\beta_2 \\cdot \\text{diabetes}) \\cdot \\exp(\\beta_3 \\cdot \\text{DEATH EVENT})\n",
    "\\end{aligned}\n",
    "$$"
   ],
   "metadata": {
    "collapsed": false
   }
  },
  {
   "cell_type": "code",
   "execution_count": 27,
   "metadata": {
    "ExecuteTime": {
     "end_time": "2024-10-28T14:11:19.489521Z",
     "start_time": "2024-10-28T14:11:19.458562Z"
    }
   },
   "outputs": [
    {
     "name": "stdout",
     "output_type": "stream",
     "text": [
      "                            OLS Regression Results                            \n",
      "==============================================================================\n",
      "Dep. Variable:                logtime   R-squared:                       0.359\n",
      "Model:                            OLS   Adj. R-squared:                  0.352\n",
      "Method:                 Least Squares   F-statistic:                     55.05\n",
      "Date:                Mon, 28 Oct 2024   Prob (F-statistic):           2.75e-28\n",
      "Time:                        15:11:19   Log-Likelihood:                -325.52\n",
      "No. Observations:                 299   AIC:                             659.0\n",
      "Df Residuals:                     295   BIC:                             673.8\n",
      "Df Model:                           3                                         \n",
      "Covariance Type:            nonrobust                                         \n",
      "=======================================================================================\n",
      "                          coef    std err          t      P>|t|      [0.025      0.975]\n",
      "---------------------------------------------------------------------------------------\n",
      "Intercept               4.9891      0.068     72.891      0.000       4.854       5.124\n",
      "high_blood_pressure    -0.2259      0.088     -2.569      0.011      -0.399      -0.053\n",
      "diabetes                0.0699      0.085      0.823      0.411      -0.097       0.237\n",
      "DEATH_EVENT            -1.1075      0.090    -12.318      0.000      -1.284      -0.931\n",
      "==============================================================================\n",
      "Omnibus:                       22.832   Durbin-Watson:                   0.615\n",
      "Prob(Omnibus):                  0.000   Jarque-Bera (JB):               27.194\n",
      "Skew:                          -0.620   Prob(JB):                     1.24e-06\n",
      "Kurtosis:                       3.803   Cond. No.                         3.02\n",
      "==============================================================================\n",
      "\n",
      "Notes:\n",
      "[1] Standard Errors assume that the covariance matrix of the errors is correctly specified.\n"
     ]
    }
   ],
   "source": [
    "df[\"logtime\"] = np.log(df[\"time\"])\n",
    "mod = smf.ols(formula='logtime ~  high_blood_pressure + diabetes + DEATH_EVENT', data=df)\n",
    "res = mod.fit()\n",
    "print(res.summary())"
   ]
  },
  {
   "cell_type": "markdown",
   "metadata": {},
   "source": [
    "**Comment:** In the first model, `high_blood_pressure` is associated with an additive coefficient of around -25. Thus, in the model, whenever a patient has high blood pressure we deduce -25 days out of the prediction.\n",
    "In the second model, `high_blood_pressure` is associated with an multiplicative coefficient of around -0.22. This means that, in the model, whenever a patient has high blood pressure we multiply his or her outcome by $e^{-0.22} \\simeq 0.80$. \n",
    "\n"
   ]
  }
 ],
 "metadata": {
  "kernelspec": {
   "display_name": "Python 3 (ipykernel)",
   "language": "python",
   "name": "python3"
  },
  "language_info": {
   "codemirror_mode": {
    "name": "ipython",
    "version": 3
   },
   "file_extension": ".py",
   "mimetype": "text/x-python",
   "name": "python",
   "nbconvert_exporter": "python",
   "pygments_lexer": "ipython3",
   "version": "3.9.18"
  },
  "varInspector": {
   "cols": {
    "lenName": 16,
    "lenType": 16,
    "lenVar": 40
   },
   "kernels_config": {
    "python": {
     "delete_cmd_postfix": "",
     "delete_cmd_prefix": "del ",
     "library": "var_list.py",
     "varRefreshCmd": "print(var_dic_list())"
    },
    "r": {
     "delete_cmd_postfix": ") ",
     "delete_cmd_prefix": "rm(",
     "library": "var_list.r",
     "varRefreshCmd": "cat(var_dic_list()) "
    }
   },
   "types_to_exclude": [
    "module",
    "function",
    "builtin_function_or_method",
    "instance",
    "_Feature"
   ],
   "window_display": false
  }
 },
 "nbformat": 4,
 "nbformat_minor": 4
}
