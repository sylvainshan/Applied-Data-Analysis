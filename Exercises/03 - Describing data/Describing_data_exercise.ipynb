{
 "cells": [
  {
   "cell_type": "markdown",
   "metadata": {},
   "source": [
    "# Describing Data\n",
    "\n",
    "### What do you find in this notebook?\n",
    "\n",
    "In this exercise, first, you will familiarize yourself with the Python libraries 'statsmodels' and 'SciPy' that let you do statistical analysis: calculate descriptive statistics, sample datapoints, study relationships between variables, and perform hypothesis testing. Then, second, you will work on a set of exercises that will let you practice your skills.\n",
    "\n",
    "Here we show a couple of examples of how to do common analyses, but there are many more useful probability distributions and statistical tests. In the linked documentation, you will find complete information, and a lot more details compared to what is outlined in this notebook:\n",
    "- [statsmodels](https://www.statsmodels.org/stable/examples/index.html), [more complete documentation](https://www.statsmodels.org/stable/stats.html)\n",
    "- [SciPy](https://docs.scipy.org/doc/scipy/reference/stats.html)"
   ]
  },
  {
   "cell_type": "markdown",
   "metadata": {},
   "source": [
    "# Tutorial: How to use the libraries\n",
    "\n",
    "- You will be working with the full US 2015 census dataset (acs2015_county_data.csv, available at https://www.kaggle.com/muonneutrino/us-census-demographic-data#acs2015_county_data.csv). Here we load it. Take some time to familiarize yourself with the contents. One row represents one county."
   ]
  },
  {
   "cell_type": "code",
   "execution_count": 1,
   "metadata": {
    "tags": [],
    "ExecuteTime": {
     "end_time": "2024-10-02T07:10:05.437100Z",
     "start_time": "2024-10-02T07:10:05.355614Z"
    }
   },
   "outputs": [],
   "source": [
    "import pandas as pd\n",
    "import pandas as pd\n",
    "import numpy as np\n",
    "import matplotlib.pyplot as plt\n",
    "%matplotlib inline\n",
    "import seaborn as sns\n",
    "import math\n",
    "\n",
    "#load the statistical libraries\n",
    "from statsmodels.stats import diagnostic\n",
    "from scipy import stats"
   ]
  },
  {
   "cell_type": "code",
   "execution_count": 2,
   "metadata": {
    "tags": [],
    "ExecuteTime": {
     "end_time": "2024-10-02T07:10:08.040233Z",
     "start_time": "2024-10-02T07:10:07.979231Z"
    }
   },
   "outputs": [],
   "source": [
    "data_folder = './data/'\n",
    "df = pd.read_csv(data_folder + 'acs2015_county_data.csv')"
   ]
  },
  {
   "cell_type": "code",
   "execution_count": 3,
   "metadata": {
    "ExecuteTime": {
     "end_time": "2024-10-02T07:10:09.328682Z",
     "start_time": "2024-10-02T07:10:09.315162Z"
    }
   },
   "outputs": [
    {
     "data": {
      "text/plain": "Index(['CensusId', 'State', 'County', 'TotalPop', 'Men', 'Women', 'Hispanic',\n       'White', 'Black', 'Native', 'Asian', 'Pacific', 'Citizen', 'Income',\n       'IncomeErr', 'IncomePerCap', 'IncomePerCapErr', 'Poverty',\n       'ChildPoverty', 'Professional', 'Service', 'Office', 'Construction',\n       'Production', 'Drive', 'Carpool', 'Transit', 'Walk', 'OtherTransp',\n       'WorkAtHome', 'MeanCommute', 'Employed', 'PrivateWork', 'PublicWork',\n       'SelfEmployed', 'FamilyWork', 'Unemployment'],\n      dtype='object')"
     },
     "execution_count": 3,
     "metadata": {},
     "output_type": "execute_result"
    }
   ],
   "source": [
    "df.columns"
   ]
  },
  {
   "cell_type": "code",
   "execution_count": 4,
   "metadata": {
    "ExecuteTime": {
     "end_time": "2024-10-02T07:10:10.439881Z",
     "start_time": "2024-10-02T07:10:10.374180Z"
    }
   },
   "outputs": [
    {
     "data": {
      "text/plain": "      CensusId           State     County  TotalPop      Men    Women  \\\n257       8025        Colorado    Crowley      5551     3145     2406   \n666      17143        Illinois     Peoria    187112    90646    96466   \n1373     27119       Minnesota       Polk     31547    15940    15607   \n1868     36081        New York     Queens   2301139  1115459  1185680   \n2980     53055      Washington   San Juan     15956     7643     8313   \n545      13321         Georgia      Worth     21156    10208    10948   \n963      20151          Kansas      Pratt      9739     4873     4866   \n2347     45063  South Carolina  Lexington    273843   133755   140088   \n2276     42065    Pennsylvania  Jefferson     44756    22240    22516   \n2296     42105    Pennsylvania     Potter     17377     8696     8681   \n\n      Hispanic  White  Black  Native  ...  Walk  OtherTransp  WorkAtHome  \\\n257       30.2   61.1    5.3     0.9  ...   7.3          0.5         2.3   \n666        4.4   71.2   17.3     0.3  ...   2.3          1.3         2.5   \n1373       5.8   89.0    1.1     1.0  ...   3.3          1.2         5.1   \n1868      27.9   26.1   17.4     0.2  ...   5.8          1.5         2.4   \n2980       5.8   89.3    0.5     0.7  ...   9.5          4.0         9.1   \n545        2.1   67.5   29.7     0.0  ...   0.6          0.5         3.2   \n963        6.6   89.5    0.7     1.7  ...   2.1          1.2         2.5   \n2347       5.7   76.0   14.4     0.3  ...   0.7          3.0         4.0   \n2276       0.8   97.5    0.5     0.2  ...   4.1          0.9         2.8   \n2296       1.1   96.9    0.5     0.2  ...   4.7          1.1         4.2   \n\n      MeanCommute  Employed  PrivateWork  PublicWork  SelfEmployed  \\\n257          21.9      1457         66.7        27.3           6.0   \n666          19.3     85639         85.8        10.4           3.7   \n1373         17.6     15978         75.5        16.5           7.8   \n1868         42.6   1104930         79.9        13.6           6.4   \n2980         14.4      7633         68.9        14.3          16.2   \n545          27.7      8359         75.8        18.5           5.7   \n963          13.2      4618         71.9        17.2           9.6   \n2347         25.4    132105         76.1        18.4           5.3   \n2276         22.9     19756         82.0        10.5           7.2   \n2296         24.3      6956         79.1        12.0           8.6   \n\n      FamilyWork  Unemployment  \n257          0.0          27.0  \n666          0.1           8.7  \n1373         0.2           4.6  \n1868         0.1           8.6  \n2980         0.5           5.9  \n545          0.0           9.8  \n963          1.3           5.6  \n2347         0.2           7.5  \n2276         0.3           6.4  \n2296         0.3           6.9  \n\n[10 rows x 37 columns]",
      "text/html": "<div>\n<style scoped>\n    .dataframe tbody tr th:only-of-type {\n        vertical-align: middle;\n    }\n\n    .dataframe tbody tr th {\n        vertical-align: top;\n    }\n\n    .dataframe thead th {\n        text-align: right;\n    }\n</style>\n<table border=\"1\" class=\"dataframe\">\n  <thead>\n    <tr style=\"text-align: right;\">\n      <th></th>\n      <th>CensusId</th>\n      <th>State</th>\n      <th>County</th>\n      <th>TotalPop</th>\n      <th>Men</th>\n      <th>Women</th>\n      <th>Hispanic</th>\n      <th>White</th>\n      <th>Black</th>\n      <th>Native</th>\n      <th>...</th>\n      <th>Walk</th>\n      <th>OtherTransp</th>\n      <th>WorkAtHome</th>\n      <th>MeanCommute</th>\n      <th>Employed</th>\n      <th>PrivateWork</th>\n      <th>PublicWork</th>\n      <th>SelfEmployed</th>\n      <th>FamilyWork</th>\n      <th>Unemployment</th>\n    </tr>\n  </thead>\n  <tbody>\n    <tr>\n      <th>257</th>\n      <td>8025</td>\n      <td>Colorado</td>\n      <td>Crowley</td>\n      <td>5551</td>\n      <td>3145</td>\n      <td>2406</td>\n      <td>30.2</td>\n      <td>61.1</td>\n      <td>5.3</td>\n      <td>0.9</td>\n      <td>...</td>\n      <td>7.3</td>\n      <td>0.5</td>\n      <td>2.3</td>\n      <td>21.9</td>\n      <td>1457</td>\n      <td>66.7</td>\n      <td>27.3</td>\n      <td>6.0</td>\n      <td>0.0</td>\n      <td>27.0</td>\n    </tr>\n    <tr>\n      <th>666</th>\n      <td>17143</td>\n      <td>Illinois</td>\n      <td>Peoria</td>\n      <td>187112</td>\n      <td>90646</td>\n      <td>96466</td>\n      <td>4.4</td>\n      <td>71.2</td>\n      <td>17.3</td>\n      <td>0.3</td>\n      <td>...</td>\n      <td>2.3</td>\n      <td>1.3</td>\n      <td>2.5</td>\n      <td>19.3</td>\n      <td>85639</td>\n      <td>85.8</td>\n      <td>10.4</td>\n      <td>3.7</td>\n      <td>0.1</td>\n      <td>8.7</td>\n    </tr>\n    <tr>\n      <th>1373</th>\n      <td>27119</td>\n      <td>Minnesota</td>\n      <td>Polk</td>\n      <td>31547</td>\n      <td>15940</td>\n      <td>15607</td>\n      <td>5.8</td>\n      <td>89.0</td>\n      <td>1.1</td>\n      <td>1.0</td>\n      <td>...</td>\n      <td>3.3</td>\n      <td>1.2</td>\n      <td>5.1</td>\n      <td>17.6</td>\n      <td>15978</td>\n      <td>75.5</td>\n      <td>16.5</td>\n      <td>7.8</td>\n      <td>0.2</td>\n      <td>4.6</td>\n    </tr>\n    <tr>\n      <th>1868</th>\n      <td>36081</td>\n      <td>New York</td>\n      <td>Queens</td>\n      <td>2301139</td>\n      <td>1115459</td>\n      <td>1185680</td>\n      <td>27.9</td>\n      <td>26.1</td>\n      <td>17.4</td>\n      <td>0.2</td>\n      <td>...</td>\n      <td>5.8</td>\n      <td>1.5</td>\n      <td>2.4</td>\n      <td>42.6</td>\n      <td>1104930</td>\n      <td>79.9</td>\n      <td>13.6</td>\n      <td>6.4</td>\n      <td>0.1</td>\n      <td>8.6</td>\n    </tr>\n    <tr>\n      <th>2980</th>\n      <td>53055</td>\n      <td>Washington</td>\n      <td>San Juan</td>\n      <td>15956</td>\n      <td>7643</td>\n      <td>8313</td>\n      <td>5.8</td>\n      <td>89.3</td>\n      <td>0.5</td>\n      <td>0.7</td>\n      <td>...</td>\n      <td>9.5</td>\n      <td>4.0</td>\n      <td>9.1</td>\n      <td>14.4</td>\n      <td>7633</td>\n      <td>68.9</td>\n      <td>14.3</td>\n      <td>16.2</td>\n      <td>0.5</td>\n      <td>5.9</td>\n    </tr>\n    <tr>\n      <th>545</th>\n      <td>13321</td>\n      <td>Georgia</td>\n      <td>Worth</td>\n      <td>21156</td>\n      <td>10208</td>\n      <td>10948</td>\n      <td>2.1</td>\n      <td>67.5</td>\n      <td>29.7</td>\n      <td>0.0</td>\n      <td>...</td>\n      <td>0.6</td>\n      <td>0.5</td>\n      <td>3.2</td>\n      <td>27.7</td>\n      <td>8359</td>\n      <td>75.8</td>\n      <td>18.5</td>\n      <td>5.7</td>\n      <td>0.0</td>\n      <td>9.8</td>\n    </tr>\n    <tr>\n      <th>963</th>\n      <td>20151</td>\n      <td>Kansas</td>\n      <td>Pratt</td>\n      <td>9739</td>\n      <td>4873</td>\n      <td>4866</td>\n      <td>6.6</td>\n      <td>89.5</td>\n      <td>0.7</td>\n      <td>1.7</td>\n      <td>...</td>\n      <td>2.1</td>\n      <td>1.2</td>\n      <td>2.5</td>\n      <td>13.2</td>\n      <td>4618</td>\n      <td>71.9</td>\n      <td>17.2</td>\n      <td>9.6</td>\n      <td>1.3</td>\n      <td>5.6</td>\n    </tr>\n    <tr>\n      <th>2347</th>\n      <td>45063</td>\n      <td>South Carolina</td>\n      <td>Lexington</td>\n      <td>273843</td>\n      <td>133755</td>\n      <td>140088</td>\n      <td>5.7</td>\n      <td>76.0</td>\n      <td>14.4</td>\n      <td>0.3</td>\n      <td>...</td>\n      <td>0.7</td>\n      <td>3.0</td>\n      <td>4.0</td>\n      <td>25.4</td>\n      <td>132105</td>\n      <td>76.1</td>\n      <td>18.4</td>\n      <td>5.3</td>\n      <td>0.2</td>\n      <td>7.5</td>\n    </tr>\n    <tr>\n      <th>2276</th>\n      <td>42065</td>\n      <td>Pennsylvania</td>\n      <td>Jefferson</td>\n      <td>44756</td>\n      <td>22240</td>\n      <td>22516</td>\n      <td>0.8</td>\n      <td>97.5</td>\n      <td>0.5</td>\n      <td>0.2</td>\n      <td>...</td>\n      <td>4.1</td>\n      <td>0.9</td>\n      <td>2.8</td>\n      <td>22.9</td>\n      <td>19756</td>\n      <td>82.0</td>\n      <td>10.5</td>\n      <td>7.2</td>\n      <td>0.3</td>\n      <td>6.4</td>\n    </tr>\n    <tr>\n      <th>2296</th>\n      <td>42105</td>\n      <td>Pennsylvania</td>\n      <td>Potter</td>\n      <td>17377</td>\n      <td>8696</td>\n      <td>8681</td>\n      <td>1.1</td>\n      <td>96.9</td>\n      <td>0.5</td>\n      <td>0.2</td>\n      <td>...</td>\n      <td>4.7</td>\n      <td>1.1</td>\n      <td>4.2</td>\n      <td>24.3</td>\n      <td>6956</td>\n      <td>79.1</td>\n      <td>12.0</td>\n      <td>8.6</td>\n      <td>0.3</td>\n      <td>6.9</td>\n    </tr>\n  </tbody>\n</table>\n<p>10 rows × 37 columns</p>\n</div>"
     },
     "execution_count": 4,
     "metadata": {},
     "output_type": "execute_result"
    }
   ],
   "source": [
    "df.sample(10)"
   ]
  },
  {
   "cell_type": "markdown",
   "metadata": {},
   "source": [
    "- We will focus first on income per capita across counties."
   ]
  },
  {
   "cell_type": "code",
   "execution_count": 6,
   "metadata": {
    "ExecuteTime": {
     "end_time": "2024-10-02T07:10:21.000735Z",
     "start_time": "2024-10-02T07:10:20.721682Z"
    }
   },
   "outputs": [
    {
     "data": {
      "text/plain": "<Figure size 640x480 with 1 Axes>",
      "image/png": "[encoded data removed]"
     },
     "metadata": {},
     "output_type": "display_data"
    }
   ],
   "source": [
    "df['IncomePerCap'].hist(bins = 50)\n",
    "plt.show()"
   ]
  },
  {
   "cell_type": "markdown",
   "metadata": {},
   "source": [
    "### 1. Calculating descriptive statisctics\n",
    "\n",
    "- Let's calculate basic descriptive statistics of the income per capita."
   ]
  },
  {
   "cell_type": "code",
   "execution_count": 7,
   "metadata": {
    "ExecuteTime": {
     "end_time": "2024-10-02T07:10:25.153005Z",
     "start_time": "2024-10-02T07:10:25.142344Z"
    }
   },
   "outputs": [
    {
     "data": {
      "text/plain": "count     3220.000000\nmean     23981.771739\nstd       6204.339960\nmin       5878.000000\n25%      20238.500000\n50%      23460.000000\n75%      27053.250000\nmax      65600.000000\nName: IncomePerCap, dtype: float64"
     },
     "execution_count": 7,
     "metadata": {},
     "output_type": "execute_result"
    }
   ],
   "source": [
    "df['IncomePerCap'].describe()"
   ]
  },
  {
   "cell_type": "markdown",
   "metadata": {},
   "source": [
    "- What distribution does the data come from? Here is how we can test the goodness of the fit."
   ]
  },
  {
   "cell_type": "code",
   "execution_count": 8,
   "metadata": {
    "ExecuteTime": {
     "end_time": "2024-10-02T07:10:30.167588Z",
     "start_time": "2024-10-02T07:10:30.158128Z"
    }
   },
   "outputs": [
    {
     "data": {
      "text/plain": "(0.0637621121184162, 0.0009999999999998899)"
     },
     "execution_count": 8,
     "metadata": {},
     "output_type": "execute_result"
    }
   ],
   "source": [
    "# does the data come from a normal distrbution?\n",
    "diagnostic.kstest_normal(df['IncomePerCap'].values, dist = 'norm')"
   ]
  },
  {
   "cell_type": "markdown",
   "metadata": {},
   "source": [
    "- p_value < 0.05 -> we can reject the null hypothesis that the data comes from a normal distribution!"
   ]
  },
  {
   "cell_type": "code",
   "execution_count": 9,
   "metadata": {
    "ExecuteTime": {
     "end_time": "2024-10-02T07:10:35.974634Z",
     "start_time": "2024-10-02T07:10:35.966382Z"
    }
   },
   "outputs": [
    {
     "data": {
      "text/plain": "(0.433243770582646, 0.0009999999999998899)"
     },
     "execution_count": 9,
     "metadata": {},
     "output_type": "execute_result"
    }
   ],
   "source": [
    "#how about exponential?\n",
    "diagnostic.kstest_normal(df['IncomePerCap'].values, dist = 'exp')"
   ]
  },
  {
   "cell_type": "markdown",
   "metadata": {},
   "source": [
    "- p < 0.05 -> not exponential either!"
   ]
  },
  {
   "cell_type": "markdown",
   "metadata": {},
   "source": [
    "### 2. How to sample the data"
   ]
  },
  {
   "cell_type": "markdown",
   "metadata": {},
   "source": [
    "- Often we need to find random samples from the dataset. We can do so conveniently with pandas wrappers."
   ]
  },
  {
   "cell_type": "code",
   "execution_count": 10,
   "metadata": {
    "ExecuteTime": {
     "end_time": "2024-10-02T07:10:41.691063Z",
     "start_time": "2024-10-02T07:10:41.676520Z"
    }
   },
   "outputs": [],
   "source": [
    "#make 10 samples with replacement\n",
    "sample1_counties = df.sample(n = 10, replace = True)\n",
    "\n",
    "#make 10 samples without replacement\n",
    "sample1_counties = df.sample(n = 10, replace = False)\n",
    "\n",
    "#sometimes we want to sample in an ublanaced way, so that we upsample datapoints of certain characteristic,\n",
    "#and downsample the others. this can be acieved with weights parameter\n",
    "#here we sample by upsampling counties with large population\n",
    "sample2_counties = df.sample(n = 10, replace = False, weights = df['TotalPop'])"
   ]
  },
  {
   "cell_type": "code",
   "execution_count": 11,
   "metadata": {
    "ExecuteTime": {
     "end_time": "2024-10-02T07:10:42.407181Z",
     "start_time": "2024-10-02T07:10:42.401447Z"
    }
   },
   "outputs": [
    {
     "name": "stdout",
     "output_type": "stream",
     "text": [
      "250417.5\n",
      "646456.3\n"
     ]
    }
   ],
   "source": [
    "#on avergage, the samples in the sample produce with reveighting now have higher population, as we wanted!\n",
    "print(sample1_counties['TotalPop'].mean())\n",
    "print(sample2_counties['TotalPop'].mean())"
   ]
  },
  {
   "cell_type": "markdown",
   "metadata": {},
   "source": [
    "### 3. Examining relationship between two variables"
   ]
  },
  {
   "cell_type": "markdown",
   "metadata": {},
   "source": [
    "- Is income per capita of a county correlated with the unemployment?"
   ]
  },
  {
   "cell_type": "code",
   "execution_count": 12,
   "metadata": {
    "ExecuteTime": {
     "end_time": "2024-10-02T07:10:45.645670Z",
     "start_time": "2024-10-02T07:10:45.622799Z"
    }
   },
   "outputs": [
    {
     "data": {
      "text/plain": "PearsonRResult(statistic=0.2646136320394489, pvalue=9.942215354239015e-53)"
     },
     "execution_count": 12,
     "metadata": {},
     "output_type": "execute_result"
    }
   ],
   "source": [
    "stats.pearsonr(df['IncomePerCap'],df['Employed'])"
   ]
  },
  {
   "cell_type": "markdown",
   "metadata": {},
   "source": [
    "- There is a small (0.26), but significant (p < 0.05) positive correlation."
   ]
  },
  {
   "cell_type": "code",
   "execution_count": 13,
   "metadata": {
    "ExecuteTime": {
     "end_time": "2024-10-02T07:10:46.961647Z",
     "start_time": "2024-10-02T07:10:46.933200Z"
    }
   },
   "outputs": [
    {
     "data": {
      "text/plain": "SignificanceResult(statistic=0.30770631560595474, pvalue=1.415296431173735e-71)"
     },
     "execution_count": 13,
     "metadata": {},
     "output_type": "execute_result"
    }
   ],
   "source": [
    "stats.spearmanr(df['IncomePerCap'],df['Employed'])"
   ]
  },
  {
   "cell_type": "markdown",
   "metadata": {},
   "source": [
    "- Spearman rank coorrelation is also significant."
   ]
  },
  {
   "cell_type": "markdown",
   "metadata": {},
   "source": [
    "### 4. Hypothesis testing"
   ]
  },
  {
   "cell_type": "markdown",
   "metadata": {},
   "source": [
    "- Is income per capita higher in New York counties compared to California counties?"
   ]
  },
  {
   "cell_type": "code",
   "execution_count": 14,
   "metadata": {
    "ExecuteTime": {
     "end_time": "2024-10-02T07:10:49.130225Z",
     "start_time": "2024-10-02T07:10:49.120186Z"
    }
   },
   "outputs": [
    {
     "data": {
      "text/plain": "28189.75806451613"
     },
     "execution_count": 14,
     "metadata": {},
     "output_type": "execute_result"
    }
   ],
   "source": [
    "df.loc[df['State'] == 'New York']['IncomePerCap'].mean()"
   ]
  },
  {
   "cell_type": "code",
   "execution_count": 15,
   "metadata": {
    "ExecuteTime": {
     "end_time": "2024-10-02T07:10:49.622891Z",
     "start_time": "2024-10-02T07:10:49.612662Z"
    }
   },
   "outputs": [
    {
     "data": {
      "text/plain": "27902.603448275862"
     },
     "execution_count": 15,
     "metadata": {},
     "output_type": "execute_result"
    }
   ],
   "source": [
    "df.loc[df['State'] == 'California']['IncomePerCap'].mean()"
   ]
  },
  {
   "cell_type": "markdown",
   "metadata": {},
   "source": [
    "- We see that there is a ~300$ gap. Quite a lot!\n",
    "- But is it significantly higher? Let's use a t-test. This is a two-sided test for the null hypothesis that the two independent samples have identical average (expected) values. "
   ]
  },
  {
   "cell_type": "code",
   "execution_count": 16,
   "metadata": {
    "ExecuteTime": {
     "end_time": "2024-10-02T07:10:50.710130Z",
     "start_time": "2024-10-02T07:10:50.695788Z"
    }
   },
   "outputs": [
    {
     "data": {
      "text/plain": "TtestResult(statistic=0.19788117232375713, pvalue=0.8434785239169611, df=118.0)"
     },
     "execution_count": 16,
     "metadata": {},
     "output_type": "execute_result"
    }
   ],
   "source": [
    "stats.ttest_ind(df.loc[df['State'] == 'New York']['IncomePerCap'], df.loc[df['State'] == 'California']['IncomePerCap'])"
   ]
  },
  {
   "cell_type": "markdown",
   "metadata": {},
   "source": [
    "- p is not smaller than 0.05 -> we cannot reject the null hypothesis that the income is the same -> there is no significant difference"
   ]
  },
  {
   "cell_type": "markdown",
   "metadata": {},
   "source": [
    "### 5. How to measure uncertainty\n",
    "- Now we see the importance of mesuring uncertainty and indicating it on data visualizations.\n",
    "- Visual inspection of 95% confidence intervals lets us see that the difference is not significant (the errorbars are overlapping)."
   ]
  },
  {
   "cell_type": "code",
   "execution_count": 17,
   "metadata": {
    "ExecuteTime": {
     "end_time": "2024-10-02T07:10:53.161472Z",
     "start_time": "2024-10-02T07:10:52.961527Z"
    }
   },
   "outputs": [
    {
     "data": {
      "text/plain": "(25000.0, 32000.0)"
     },
     "execution_count": 17,
     "metadata": {},
     "output_type": "execute_result"
    }
   ],
   "source": [
    "ax = sns.barplot(x=\"State\", y=\"IncomePerCap\", data=df.loc[df['State'].isin(['New York','California'])])\n",
    "plt.ylim([25000,32000])"
   ]
  },
  {
   "cell_type": "markdown",
   "metadata": {},
   "source": [
    "# Exercise 1: Boosting the economy by incentivizing self-employment\n",
    "\n",
    "Assume the biggest priority of the local government in 2018 is to increase per-capita income. To do so, the officials plan to adopt a strategy for incentivizing self-employment through a series of campaigns, educational programs, and dedicated funds.\n",
    "\n",
    "Since it is unethical and impossible in this setting to run a controlled experiment involving citizens (e.g., fire employees and force them to self-employ), the officials have asked you, the data scientist, to establish the effect of self-employment on the economy, relying on observational data.\n",
    "\n",
    "**A)** Using suitable methods, determine and quantify the dependency between the percentage of self-employed citizens and per capita income across all 3,212 US counties. Do citizens in counties that have a higher percentage of self-employed people earn more per capita?"
   ]
  },
  {
   "cell_type": "code",
   "execution_count": null,
   "metadata": {},
   "outputs": [],
   "source": [
    "### your code and or answer here ###"
   ]
  },
  {
   "cell_type": "markdown",
   "metadata": {},
   "source": [
    "**B)** The pilot program will involve all counties within a limited set of three US states. Set A includes Wisconsin, Tennessee, and  Minnesota. Quantify the dependency of per-capita income on self-employment rates across all the counties in set A."
   ]
  },
  {
   "cell_type": "code",
   "execution_count": null,
   "metadata": {},
   "outputs": [],
   "source": [
    "### your code and or answer here ###"
   ]
  },
  {
   "cell_type": "markdown",
   "metadata": {},
   "source": [
    "**C)** In which state within set A is the observed effect of self-employment on per-capita income the strongest?"
   ]
  },
  {
   "cell_type": "code",
   "execution_count": null,
   "metadata": {},
   "outputs": [],
   "source": [
    "### your code and or answer here ###"
   ]
  },
  {
   "cell_type": "markdown",
   "metadata": {},
   "source": [
    "**D)** Set B includes New Jersey, Kansas, and Rhode Island. Repeat the analysis from steps B and C above, but now for set B. In which of the two sets A and B (if any) would you recommend incentivizing self-employment? Explain your reasoning. Hint: It is useful to add a notion of confidence to your results and explore the data visually."
   ]
  },
  {
   "cell_type": "code",
   "execution_count": null,
   "metadata": {},
   "outputs": [],
   "source": [
    "### your code and or answer here ###"
   ]
  },
  {
   "cell_type": "markdown",
   "metadata": {},
   "source": [
    "# Exercise 2. Data visualization and read the stats comprehension and interpretation questions.\n",
    "\n",
    "- As part of the quizes, two homeworks and the final exam, you will be at times asked to interpret your result based on the understanding of underlying concepts. The questions below can help you practice and get a sense of how well you understand the concepts covered in the class so far. Can you answer these questions confidently?"
   ]
  },
  {
   "cell_type": "markdown",
   "metadata": {},
   "source": [
    "### Question 1. The yearly salaries (in thousands of CHF) of 7000 people are summarized in the following box plot. If the 20th percentile of the salaries is 110,000, how many people earn between 110,000 and 114,000?\n",
    "\n",
    "- a) 2100\n",
    "- b) 700\n",
    "- c) 350\n",
    "- d) 70"
   ]
  },
  {
   "cell_type": "markdown",
   "metadata": {},
   "source": [
    "<img src=\"boxplot.png\" style=\"width: 400px;\" align=\"left\"/>"
   ]
  },
  {
   "cell_type": "code",
   "execution_count": null,
   "metadata": {},
   "outputs": [],
   "source": [
    "### your code and or answer here ###"
   ]
  },
  {
   "cell_type": "markdown",
   "metadata": {},
   "source": [
    "### Question 2. What visualizations are suitable for getting insights about the distribution of a single continuous variable?\n",
    "\n",
    "- a) Barplot and histogram\n",
    "- b) Boxplot and histogram\n",
    "- c) Scatterplot and boxplot\n",
    "- d) Barplot, boxplot, and histogram"
   ]
  },
  {
   "cell_type": "code",
   "execution_count": null,
   "metadata": {},
   "outputs": [],
   "source": [
    "### your code and or answer here ###"
   ]
  },
  {
   "cell_type": "markdown",
   "metadata": {},
   "source": [
    "### Question 3. In a new groundbreaking study, 28 out of 100 patients reported improvements after taking a new medicine. It is known that, when given a placebo, 20% of the patients report feeling better. What is the p-value assuming the null hypothesis that the probability of successful treatment in this groundbreaking study is the same as the probability of reporting feeling better under placebo, according to a one-sided binomial test? Hint: you may use the statsmodels.stats.proportion.binom_test function.\n",
    "\n",
    "- a) 0.00034\n",
    "- b) 0.0034\n",
    "- c) 0.034\n",
    "- d) 0.34"
   ]
  },
  {
   "cell_type": "code",
   "execution_count": null,
   "metadata": {},
   "outputs": [],
   "source": [
    "### your code and or answer here ###"
   ]
  },
  {
   "cell_type": "markdown",
   "metadata": {},
   "source": [
    "### Question 4. The 95% confidence interval of the average height of 1000 people using bootstrap resampling with 10000 bootstrap samples is calculated by:\n",
    "\n",
    "- a) Sampling 1000 height values with replacement and computing the mean. This is repeated 10000 times to create a sorted list of the 10000 means. The CI is defined by the 500th and the 9500th value in sorted order.\n",
    "- b) Sampling 10000 height values without replacement and computing the mean. This is repeated 1000 times to create a sorted list of the 1000 means. The CI is defined by the 25th and the 975th value in sorted order.\n",
    "- c) Sampling 1000 height values with replacement and computing the mean. This is repeated 10000 times to create a sorted list of the 10000 means. The CI is defined by the 250th and the 9750th value in sorted order.\n",
    "- d) Sampling 1000 height values without replacement and computing the mean. This is repeated 10000 times to create a sorted list of the 10000 means. The CI is defined by the 500th and the 9500th value in sorted order.\n",
    "\n",
    "### Implement your bootstrapping function that you will use in the rest of the course. It should take an array and the number of iterations as inputs, and output 95% confidence intervals of the mean."
   ]
  },
  {
   "cell_type": "code",
   "execution_count": null,
   "metadata": {},
   "outputs": [],
   "source": [
    "### your code and or answer here ###"
   ]
  },
  {
   "cell_type": "markdown",
   "metadata": {},
   "source": [
    "### Question 5. A study conducted at EPFL revealed a negative Spearman’s correlation between GPA and entry-level job salary. Which of the following statements is true?\n",
    "\n",
    "- a) There could be a positive Spearman’s correlation between GPA and entry-level job salary in every single department of EPFL.\n",
    "- b) Spearman correlation between GPA and entry-level job salary in every single department has to be positive.\n",
    "- c) Across all levels, as opposed to entry-level only, higher GPA scores are associated with higher job salaries.\n",
    "- d) We can infer that finishing EPFL with a higher GPA causes you to have a lower entry-level job salary."
   ]
  },
  {
   "cell_type": "code",
   "execution_count": null,
   "metadata": {},
   "outputs": [],
   "source": [
    "### your code and or answer here ###"
   ]
  },
  {
   "cell_type": "markdown",
   "metadata": {},
   "source": [
    "### Question 6. The average number of requests per page during a day on a large website is 200, while the median is 15. \n",
    "\n",
    "- a) You can assume that the distribution is heavy-tailed.\n",
    "- b) You are dealing with a left-skewed distribution.\n",
    "- c) Half of the pages get more than 200 requests.\n",
    "- d) None of the above."
   ]
  },
  {
   "cell_type": "code",
   "execution_count": null,
   "metadata": {},
   "outputs": [],
   "source": [
    "### your code and or answer here ###"
   ]
  }
 ],
 "metadata": {
  "kernelspec": {
   "display_name": "Python 3 (ipykernel)",
   "language": "python",
   "name": "python3"
  },
  "language_info": {
   "codemirror_mode": {
    "name": "ipython",
    "version": 3
   },
   "file_extension": ".py",
   "mimetype": "text/x-python",
   "name": "python",
   "nbconvert_exporter": "python",
   "pygments_lexer": "ipython3",
   "version": "3.9.13"
  },
  "varInspector": {
   "cols": {
    "lenName": 16,
    "lenType": 16,
    "lenVar": 40
   },
   "kernels_config": {
    "python": {
     "delete_cmd_postfix": "",
     "delete_cmd_prefix": "del ",
     "library": "var_list.py",
     "varRefreshCmd": "print(var_dic_list())"
    },
    "r": {
     "delete_cmd_postfix": ") ",
     "delete_cmd_prefix": "rm(",
     "library": "var_list.r",
     "varRefreshCmd": "cat(var_dic_list()) "
    }
   },
   "types_to_exclude": [
    "module",
    "function",
    "builtin_function_or_method",
    "instance",
    "_Feature"
   ],
   "window_display": false
  }
 },
 "nbformat": 4,
 "nbformat_minor": 4
}
