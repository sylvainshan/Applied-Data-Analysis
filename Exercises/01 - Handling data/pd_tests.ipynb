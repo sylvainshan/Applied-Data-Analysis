{
 "cells": [
  {
   "cell_type": "code",
   "execution_count": 1,
   "id": "initial_id",
   "metadata": {
    "collapsed": true,
    "ExecuteTime": {
     "end_time": "2024-09-22T10:39:13.151196Z",
     "start_time": "2024-09-22T10:39:12.570308Z"
    }
   },
   "outputs": [],
   "source": [
    "import pandas as pd"
   ]
  },
  {
   "cell_type": "code",
   "outputs": [
    {
     "data": {
      "text/plain": "                  Ventes   Profits\nEntreprise Année                  \nApple      2020       100       40\n           2021       142      213\nMicrosoft  2020       500       59\n           2021       230        8",
      "text/html": "<div>\n<style scoped>\n    .dataframe tbody tr th:only-of-type {\n        vertical-align: middle;\n    }\n\n    .dataframe tbody tr th {\n        vertical-align: top;\n    }\n\n    .dataframe thead th {\n        text-align: right;\n    }\n</style>\n<table border=\"1\" class=\"dataframe\">\n  <thead>\n    <tr style=\"text-align: right;\">\n      <th></th>\n      <th></th>\n      <th>Ventes</th>\n      <th>Profits</th>\n    </tr>\n    <tr>\n      <th>Entreprise</th>\n      <th>Année</th>\n      <th></th>\n      <th></th>\n    </tr>\n  </thead>\n  <tbody>\n    <tr>\n      <th rowspan=\"2\" valign=\"top\">Apple</th>\n      <th>2020</th>\n      <td>100</td>\n      <td>40</td>\n    </tr>\n    <tr>\n      <th>2021</th>\n      <td>142</td>\n      <td>213</td>\n    </tr>\n    <tr>\n      <th rowspan=\"2\" valign=\"top\">Microsoft</th>\n      <th>2020</th>\n      <td>500</td>\n      <td>59</td>\n    </tr>\n    <tr>\n      <th>2021</th>\n      <td>230</td>\n      <td>8</td>\n    </tr>\n  </tbody>\n</table>\n</div>"
     },
     "execution_count": 2,
     "metadata": {},
     "output_type": "execute_result"
    }
   ],
   "source": [
    "data = pd.read_csv('Data/Index_col.csv', sep=';', index_col=['Entreprise', 'Année'])\n",
    "data"
   ],
   "metadata": {
    "collapsed": false,
    "ExecuteTime": {
     "end_time": "2024-09-22T10:39:13.170335Z",
     "start_time": "2024-09-22T10:39:13.153163Z"
    }
   },
   "id": "152140985df11f3a",
   "execution_count": 2
  },
  {
   "cell_type": "code",
   "outputs": [
    {
     "name": "stdout",
     "output_type": "stream",
     "text": [
      "  Entreprise  Année  Ventes   Profits\n",
      "0      Apple   2020      100       40\n",
      "1      Apple   2021      142      213\n",
      "2  Microsoft   2020      500       59\n",
      "3  Microsoft   2021      230        8\n"
     ]
    }
   ],
   "source": [
    "data2 = pd.read_csv('Data/Index_col.csv', sep=';')\n",
    "print(data2)"
   ],
   "metadata": {
    "collapsed": false,
    "ExecuteTime": {
     "end_time": "2024-09-22T11:02:07.687159Z",
     "start_time": "2024-09-22T11:02:07.679105Z"
    }
   },
   "id": "be1de9b7c71b8eca",
   "execution_count": 17
  },
  {
   "cell_type": "code",
   "outputs": [
    {
     "name": "stdout",
     "output_type": "stream",
     "text": [
      "Unique indexing: True\n",
      "            Ventes   Profits\n",
      "Entreprise                  \n",
      "Apple           100       40\n",
      "Apple           142      213\n",
      "Microsoft       500       59\n",
      "Microsoft       230        8\n",
      "Unique indexing: False\n"
     ]
    }
   ],
   "source": [
    "print(\"Unique indexing:\", data2.index.is_unique)\n",
    "company_id = data2.Entreprise\n",
    "data3 = data.copy()\n",
    "data3.index = company_id\n",
    "print(data3)\n",
    "print(\"Unique indexing:\", data3.index.is_unique)"
   ],
   "metadata": {
    "collapsed": false,
    "ExecuteTime": {
     "end_time": "2024-09-22T11:08:56.216707Z",
     "start_time": "2024-09-22T11:08:56.209427Z"
    }
   },
   "id": "aaac770751f83f06",
   "execution_count": 22
  },
  {
   "cell_type": "code",
   "outputs": [
    {
     "name": "stdout",
     "output_type": "stream",
     "text": [
      "               Ventes   Profits\n",
      "Apple2020          100       40\n",
      "Apple2021          142      213\n",
      "Microsoft2020      500       59\n",
      "Microsoft2021      230        8\n"
     ]
    }
   ],
   "source": [
    "unique_id = data2.Entreprise + data2.Année.astype(str)\n",
    "data3.index = unique_id\n",
    "print(data3)"
   ],
   "metadata": {
    "collapsed": false,
    "ExecuteTime": {
     "end_time": "2024-09-22T11:11:42.945730Z",
     "start_time": "2024-09-22T11:11:42.939874Z"
    }
   },
   "id": "17330a9d0a5984e9",
   "execution_count": 25
  },
  {
   "cell_type": "code",
   "outputs": [
    {
     "ename": "NameError",
     "evalue": "name 'Apple2020' is not defined",
     "output_type": "error",
     "traceback": [
      "\u001B[1;31m---------------------------------------------------------------------------\u001B[0m",
      "\u001B[1;31mNameError\u001B[0m                                 Traceback (most recent call last)",
      "Cell \u001B[1;32mIn[40], line 1\u001B[0m\n\u001B[1;32m----> 1\u001B[0m data3[Apple2020]\n",
      "\u001B[1;31mNameError\u001B[0m: name 'Apple2020' is not defined"
     ]
    }
   ],
   "source": [
    "data3"
   ],
   "metadata": {
    "collapsed": false,
    "ExecuteTime": {
     "end_time": "2024-09-22T12:16:11.020409Z",
     "start_time": "2024-09-22T12:16:10.999608Z"
    }
   },
   "id": "e2ba70d4c9999bf9",
   "execution_count": 40
  },
  {
   "cell_type": "code",
   "outputs": [
    {
     "data": {
      "text/plain": "  Entreprise  Année  Ventes   Profits\n0      Apple   2020      100       40\n2  Microsoft   2020      500       59",
      "text/html": "<div>\n<style scoped>\n    .dataframe tbody tr th:only-of-type {\n        vertical-align: middle;\n    }\n\n    .dataframe tbody tr th {\n        vertical-align: top;\n    }\n\n    .dataframe thead th {\n        text-align: right;\n    }\n</style>\n<table border=\"1\" class=\"dataframe\">\n  <thead>\n    <tr style=\"text-align: right;\">\n      <th></th>\n      <th>Entreprise</th>\n      <th>Année</th>\n      <th>Ventes</th>\n      <th>Profits</th>\n    </tr>\n  </thead>\n  <tbody>\n    <tr>\n      <th>0</th>\n      <td>Apple</td>\n      <td>2020</td>\n      <td>100</td>\n      <td>40</td>\n    </tr>\n    <tr>\n      <th>2</th>\n      <td>Microsoft</td>\n      <td>2020</td>\n      <td>500</td>\n      <td>59</td>\n    </tr>\n  </tbody>\n</table>\n</div>"
     },
     "execution_count": 30,
     "metadata": {},
     "output_type": "execute_result"
    }
   ],
   "source": [
    "x = data2.query('Année == 2020').copy()\n",
    "x"
   ],
   "metadata": {
    "collapsed": false,
    "ExecuteTime": {
     "end_time": "2024-09-22T12:05:32.304545Z",
     "start_time": "2024-09-22T12:05:32.291250Z"
    }
   },
   "id": "7ddc7f3832f00db0",
   "execution_count": 30
  },
  {
   "cell_type": "code",
   "outputs": [
    {
     "data": {
      "text/plain": "             Taxon  Patient   Tissue   Stool\n0       Firmicutes        1    632.0   305.0\n1       Firmicutes        2    136.0  4182.0\n2       Firmicutes        3      NaN   703.0\n3       Firmicutes        4    408.0  3946.0\n4       Firmicutes        5    831.0  8605.0\n5       Firmicutes        6    693.0    50.0\n6       Firmicutes        7    718.0   717.0\n7       Firmicutes        8    173.0    33.0\n8       Firmicutes        9    228.0     NaN\n9       Firmicutes       10    162.0  3196.0\n10      Firmicutes       11    372.0     NaN\n11      Firmicutes       12   4255.0  4361.0\n12      Firmicutes       13    107.0  1667.0\n13      Firmicutes       14      NaN   223.0\n14      Firmicutes       15    281.0  2377.0\n15  Proteobacteria        1   1638.0  3886.0\n16  Proteobacteria        2   2469.0  1821.0\n17  Proteobacteria        3    839.0   661.0\n18  Proteobacteria        4   4414.0    18.0\n19  Proteobacteria        5  12044.0    83.0",
      "text/html": "<div>\n<style scoped>\n    .dataframe tbody tr th:only-of-type {\n        vertical-align: middle;\n    }\n\n    .dataframe tbody tr th {\n        vertical-align: top;\n    }\n\n    .dataframe thead th {\n        text-align: right;\n    }\n</style>\n<table border=\"1\" class=\"dataframe\">\n  <thead>\n    <tr style=\"text-align: right;\">\n      <th></th>\n      <th>Taxon</th>\n      <th>Patient</th>\n      <th>Tissue</th>\n      <th>Stool</th>\n    </tr>\n  </thead>\n  <tbody>\n    <tr>\n      <th>0</th>\n      <td>Firmicutes</td>\n      <td>1</td>\n      <td>632.0</td>\n      <td>305.0</td>\n    </tr>\n    <tr>\n      <th>1</th>\n      <td>Firmicutes</td>\n      <td>2</td>\n      <td>136.0</td>\n      <td>4182.0</td>\n    </tr>\n    <tr>\n      <th>2</th>\n      <td>Firmicutes</td>\n      <td>3</td>\n      <td>NaN</td>\n      <td>703.0</td>\n    </tr>\n    <tr>\n      <th>3</th>\n      <td>Firmicutes</td>\n      <td>4</td>\n      <td>408.0</td>\n      <td>3946.0</td>\n    </tr>\n    <tr>\n      <th>4</th>\n      <td>Firmicutes</td>\n      <td>5</td>\n      <td>831.0</td>\n      <td>8605.0</td>\n    </tr>\n    <tr>\n      <th>5</th>\n      <td>Firmicutes</td>\n      <td>6</td>\n      <td>693.0</td>\n      <td>50.0</td>\n    </tr>\n    <tr>\n      <th>6</th>\n      <td>Firmicutes</td>\n      <td>7</td>\n      <td>718.0</td>\n      <td>717.0</td>\n    </tr>\n    <tr>\n      <th>7</th>\n      <td>Firmicutes</td>\n      <td>8</td>\n      <td>173.0</td>\n      <td>33.0</td>\n    </tr>\n    <tr>\n      <th>8</th>\n      <td>Firmicutes</td>\n      <td>9</td>\n      <td>228.0</td>\n      <td>NaN</td>\n    </tr>\n    <tr>\n      <th>9</th>\n      <td>Firmicutes</td>\n      <td>10</td>\n      <td>162.0</td>\n      <td>3196.0</td>\n    </tr>\n    <tr>\n      <th>10</th>\n      <td>Firmicutes</td>\n      <td>11</td>\n      <td>372.0</td>\n      <td>NaN</td>\n    </tr>\n    <tr>\n      <th>11</th>\n      <td>Firmicutes</td>\n      <td>12</td>\n      <td>4255.0</td>\n      <td>4361.0</td>\n    </tr>\n    <tr>\n      <th>12</th>\n      <td>Firmicutes</td>\n      <td>13</td>\n      <td>107.0</td>\n      <td>1667.0</td>\n    </tr>\n    <tr>\n      <th>13</th>\n      <td>Firmicutes</td>\n      <td>14</td>\n      <td>NaN</td>\n      <td>223.0</td>\n    </tr>\n    <tr>\n      <th>14</th>\n      <td>Firmicutes</td>\n      <td>15</td>\n      <td>281.0</td>\n      <td>2377.0</td>\n    </tr>\n    <tr>\n      <th>15</th>\n      <td>Proteobacteria</td>\n      <td>1</td>\n      <td>1638.0</td>\n      <td>3886.0</td>\n    </tr>\n    <tr>\n      <th>16</th>\n      <td>Proteobacteria</td>\n      <td>2</td>\n      <td>2469.0</td>\n      <td>1821.0</td>\n    </tr>\n    <tr>\n      <th>17</th>\n      <td>Proteobacteria</td>\n      <td>3</td>\n      <td>839.0</td>\n      <td>661.0</td>\n    </tr>\n    <tr>\n      <th>18</th>\n      <td>Proteobacteria</td>\n      <td>4</td>\n      <td>4414.0</td>\n      <td>18.0</td>\n    </tr>\n    <tr>\n      <th>19</th>\n      <td>Proteobacteria</td>\n      <td>5</td>\n      <td>12044.0</td>\n      <td>83.0</td>\n    </tr>\n  </tbody>\n</table>\n</div>"
     },
     "execution_count": 3,
     "metadata": {},
     "output_type": "execute_result"
    }
   ],
   "source": [
    "mb = pd.read_csv(\"Data/microbiome_missing.csv\", na_values=['?', -99999], nrows=20)\n",
    "mb"
   ],
   "metadata": {
    "collapsed": false,
    "ExecuteTime": {
     "end_time": "2024-09-22T10:39:13.185713Z",
     "start_time": "2024-09-22T10:39:13.171343Z"
    }
   },
   "id": "d3c5136a4b4e7d5f",
   "execution_count": 3
  },
  {
   "cell_type": "code",
   "outputs": [
    {
     "data": {
      "text/plain": "             Taxon  Patient   Tissue   Stool\n0       Firmicutes        1    632.0   305.0\n1       Firmicutes        2    136.0  4182.0\n3       Firmicutes        4    408.0  3946.0\n4       Firmicutes        5    831.0  8605.0\n5       Firmicutes        6    693.0    50.0\n6       Firmicutes        7    718.0   717.0\n7       Firmicutes        8    173.0    33.0\n9       Firmicutes       10    162.0  3196.0\n11      Firmicutes       12   4255.0  4361.0\n12      Firmicutes       13    107.0  1667.0\n14      Firmicutes       15    281.0  2377.0\n15  Proteobacteria        1   1638.0  3886.0\n16  Proteobacteria        2   2469.0  1821.0\n17  Proteobacteria        3    839.0   661.0\n18  Proteobacteria        4   4414.0    18.0\n19  Proteobacteria        5  12044.0    83.0",
      "text/html": "<div>\n<style scoped>\n    .dataframe tbody tr th:only-of-type {\n        vertical-align: middle;\n    }\n\n    .dataframe tbody tr th {\n        vertical-align: top;\n    }\n\n    .dataframe thead th {\n        text-align: right;\n    }\n</style>\n<table border=\"1\" class=\"dataframe\">\n  <thead>\n    <tr style=\"text-align: right;\">\n      <th></th>\n      <th>Taxon</th>\n      <th>Patient</th>\n      <th>Tissue</th>\n      <th>Stool</th>\n    </tr>\n  </thead>\n  <tbody>\n    <tr>\n      <th>0</th>\n      <td>Firmicutes</td>\n      <td>1</td>\n      <td>632.0</td>\n      <td>305.0</td>\n    </tr>\n    <tr>\n      <th>1</th>\n      <td>Firmicutes</td>\n      <td>2</td>\n      <td>136.0</td>\n      <td>4182.0</td>\n    </tr>\n    <tr>\n      <th>3</th>\n      <td>Firmicutes</td>\n      <td>4</td>\n      <td>408.0</td>\n      <td>3946.0</td>\n    </tr>\n    <tr>\n      <th>4</th>\n      <td>Firmicutes</td>\n      <td>5</td>\n      <td>831.0</td>\n      <td>8605.0</td>\n    </tr>\n    <tr>\n      <th>5</th>\n      <td>Firmicutes</td>\n      <td>6</td>\n      <td>693.0</td>\n      <td>50.0</td>\n    </tr>\n    <tr>\n      <th>6</th>\n      <td>Firmicutes</td>\n      <td>7</td>\n      <td>718.0</td>\n      <td>717.0</td>\n    </tr>\n    <tr>\n      <th>7</th>\n      <td>Firmicutes</td>\n      <td>8</td>\n      <td>173.0</td>\n      <td>33.0</td>\n    </tr>\n    <tr>\n      <th>9</th>\n      <td>Firmicutes</td>\n      <td>10</td>\n      <td>162.0</td>\n      <td>3196.0</td>\n    </tr>\n    <tr>\n      <th>11</th>\n      <td>Firmicutes</td>\n      <td>12</td>\n      <td>4255.0</td>\n      <td>4361.0</td>\n    </tr>\n    <tr>\n      <th>12</th>\n      <td>Firmicutes</td>\n      <td>13</td>\n      <td>107.0</td>\n      <td>1667.0</td>\n    </tr>\n    <tr>\n      <th>14</th>\n      <td>Firmicutes</td>\n      <td>15</td>\n      <td>281.0</td>\n      <td>2377.0</td>\n    </tr>\n    <tr>\n      <th>15</th>\n      <td>Proteobacteria</td>\n      <td>1</td>\n      <td>1638.0</td>\n      <td>3886.0</td>\n    </tr>\n    <tr>\n      <th>16</th>\n      <td>Proteobacteria</td>\n      <td>2</td>\n      <td>2469.0</td>\n      <td>1821.0</td>\n    </tr>\n    <tr>\n      <th>17</th>\n      <td>Proteobacteria</td>\n      <td>3</td>\n      <td>839.0</td>\n      <td>661.0</td>\n    </tr>\n    <tr>\n      <th>18</th>\n      <td>Proteobacteria</td>\n      <td>4</td>\n      <td>4414.0</td>\n      <td>18.0</td>\n    </tr>\n    <tr>\n      <th>19</th>\n      <td>Proteobacteria</td>\n      <td>5</td>\n      <td>12044.0</td>\n      <td>83.0</td>\n    </tr>\n  </tbody>\n</table>\n</div>"
     },
     "execution_count": 4,
     "metadata": {},
     "output_type": "execute_result"
    }
   ],
   "source": [
    "mb.dropna()"
   ],
   "metadata": {
    "collapsed": false,
    "ExecuteTime": {
     "end_time": "2024-09-22T10:39:13.198020Z",
     "start_time": "2024-09-22T10:39:13.186720Z"
    }
   },
   "id": "81f6343b5c5692cc",
   "execution_count": 4
  },
  {
   "cell_type": "code",
   "outputs": [
    {
     "data": {
      "text/plain": "         Taxon  Patient  Tissue  Stool\n2   Firmicutes        3     NaN  703.0\n8   Firmicutes        9   228.0    NaN\n10  Firmicutes       11   372.0    NaN\n13  Firmicutes       14     NaN  223.0",
      "text/html": "<div>\n<style scoped>\n    .dataframe tbody tr th:only-of-type {\n        vertical-align: middle;\n    }\n\n    .dataframe tbody tr th {\n        vertical-align: top;\n    }\n\n    .dataframe thead th {\n        text-align: right;\n    }\n</style>\n<table border=\"1\" class=\"dataframe\">\n  <thead>\n    <tr style=\"text-align: right;\">\n      <th></th>\n      <th>Taxon</th>\n      <th>Patient</th>\n      <th>Tissue</th>\n      <th>Stool</th>\n    </tr>\n  </thead>\n  <tbody>\n    <tr>\n      <th>2</th>\n      <td>Firmicutes</td>\n      <td>3</td>\n      <td>NaN</td>\n      <td>703.0</td>\n    </tr>\n    <tr>\n      <th>8</th>\n      <td>Firmicutes</td>\n      <td>9</td>\n      <td>228.0</td>\n      <td>NaN</td>\n    </tr>\n    <tr>\n      <th>10</th>\n      <td>Firmicutes</td>\n      <td>11</td>\n      <td>372.0</td>\n      <td>NaN</td>\n    </tr>\n    <tr>\n      <th>13</th>\n      <td>Firmicutes</td>\n      <td>14</td>\n      <td>NaN</td>\n      <td>223.0</td>\n    </tr>\n  </tbody>\n</table>\n</div>"
     },
     "execution_count": 14,
     "metadata": {},
     "output_type": "execute_result"
    }
   ],
   "source": [],
   "metadata": {
    "collapsed": false,
    "ExecuteTime": {
     "end_time": "2024-09-22T10:41:57.657865Z",
     "start_time": "2024-09-22T10:41:57.648762Z"
    }
   },
   "id": "8b25f44d5f56d172",
   "execution_count": 14
  },
  {
   "cell_type": "code",
   "outputs": [],
   "source": [],
   "metadata": {
    "collapsed": false
   },
   "id": "e15f55fbaa125487"
  }
 ],
 "metadata": {
  "kernelspec": {
   "display_name": "Python 3",
   "language": "python",
   "name": "python3"
  },
  "language_info": {
   "codemirror_mode": {
    "name": "ipython",
    "version": 2
   },
   "file_extension": ".py",
   "mimetype": "text/x-python",
   "name": "python",
   "nbconvert_exporter": "python",
   "pygments_lexer": "ipython2",
   "version": "2.7.6"
  }
 },
 "nbformat": 4,
 "nbformat_minor": 5
}
