{
 "cells": [
  {
   "cell_type": "code",
   "execution_count": 1,
   "id": "initial_id",
   "metadata": {
    "collapsed": true,
    "ExecuteTime": {
     "end_time": "2024-09-22T16:05:12.583349Z",
     "start_time": "2024-09-22T16:05:12.086115Z"
    }
   },
   "outputs": [],
   "source": [
    "import pandas as pd\n",
    "import numpy as np"
   ]
  },
  {
   "cell_type": "code",
   "outputs": [
    {
     "data": {
      "text/plain": "                  Ventes   Profits\nEntreprise Année                  \nApple      2020       100       40\n           2021       142      213\nMicrosoft  2020       500       59\n           2021       230        8",
      "text/html": "<div>\n<style scoped>\n    .dataframe tbody tr th:only-of-type {\n        vertical-align: middle;\n    }\n\n    .dataframe tbody tr th {\n        vertical-align: top;\n    }\n\n    .dataframe thead th {\n        text-align: right;\n    }\n</style>\n<table border=\"1\" class=\"dataframe\">\n  <thead>\n    <tr style=\"text-align: right;\">\n      <th></th>\n      <th></th>\n      <th>Ventes</th>\n      <th>Profits</th>\n    </tr>\n    <tr>\n      <th>Entreprise</th>\n      <th>Année</th>\n      <th></th>\n      <th></th>\n    </tr>\n  </thead>\n  <tbody>\n    <tr>\n      <th rowspan=\"2\" valign=\"top\">Apple</th>\n      <th>2020</th>\n      <td>100</td>\n      <td>40</td>\n    </tr>\n    <tr>\n      <th>2021</th>\n      <td>142</td>\n      <td>213</td>\n    </tr>\n    <tr>\n      <th rowspan=\"2\" valign=\"top\">Microsoft</th>\n      <th>2020</th>\n      <td>500</td>\n      <td>59</td>\n    </tr>\n    <tr>\n      <th>2021</th>\n      <td>230</td>\n      <td>8</td>\n    </tr>\n  </tbody>\n</table>\n</div>"
     },
     "execution_count": 2,
     "metadata": {},
     "output_type": "execute_result"
    }
   ],
   "source": [
    "data = pd.read_csv('Data/Index_col.csv', sep=';', index_col=['Entreprise', 'Année'])\n",
    "data"
   ],
   "metadata": {
    "collapsed": false,
    "ExecuteTime": {
     "end_time": "2024-09-22T16:05:12.601740Z",
     "start_time": "2024-09-22T16:05:12.584355Z"
    }
   },
   "id": "152140985df11f3a",
   "execution_count": 2
  },
  {
   "cell_type": "code",
   "outputs": [
    {
     "name": "stdout",
     "output_type": "stream",
     "text": [
      "  Entreprise  Année  Ventes   Profits\n",
      "0      Apple   2020      100       40\n",
      "1      Apple   2021      142      213\n",
      "2  Microsoft   2020      500       59\n",
      "3  Microsoft   2021      230        8\n"
     ]
    }
   ],
   "source": [
    "data2 = pd.read_csv('Data/Index_col.csv', sep=';')\n",
    "print(data2)"
   ],
   "metadata": {
    "collapsed": false,
    "ExecuteTime": {
     "end_time": "2024-09-22T16:05:12.610549Z",
     "start_time": "2024-09-22T16:05:12.602750Z"
    }
   },
   "id": "be1de9b7c71b8eca",
   "execution_count": 3
  },
  {
   "cell_type": "code",
   "outputs": [
    {
     "name": "stdout",
     "output_type": "stream",
     "text": [
      "Unique indexing: True\n",
      "            Ventes   Profits\n",
      "Entreprise                  \n",
      "Apple           100       40\n",
      "Apple           142      213\n",
      "Microsoft       500       59\n",
      "Microsoft       230        8\n",
      "Unique indexing: False\n"
     ]
    }
   ],
   "source": [
    "print(\"Unique indexing:\", data2.index.is_unique)\n",
    "company_id = data2.Entreprise\n",
    "data3 = data.copy()\n",
    "data3.index = company_id\n",
    "print(data3)\n",
    "print(\"Unique indexing:\", data3.index.is_unique)"
   ],
   "metadata": {
    "collapsed": false,
    "ExecuteTime": {
     "end_time": "2024-09-22T16:05:12.618967Z",
     "start_time": "2024-09-22T16:05:12.611554Z"
    }
   },
   "id": "aaac770751f83f06",
   "execution_count": 4
  },
  {
   "cell_type": "code",
   "outputs": [
    {
     "name": "stdout",
     "output_type": "stream",
     "text": [
      "               Ventes   Profits\n",
      "Apple2020          100       40\n",
      "Apple2021          142      213\n",
      "Microsoft2020      500       59\n",
      "Microsoft2021      230        8\n"
     ]
    }
   ],
   "source": [
    "unique_id = data2.Entreprise + data2.Année.astype(str)\n",
    "data3.index = unique_id\n",
    "print(data3)"
   ],
   "metadata": {
    "collapsed": false,
    "ExecuteTime": {
     "end_time": "2024-09-22T16:05:12.630172Z",
     "start_time": "2024-09-22T16:05:12.620974Z"
    }
   },
   "id": "17330a9d0a5984e9",
   "execution_count": 5
  },
  {
   "cell_type": "code",
   "outputs": [
    {
     "data": {
      "text/plain": "Ventes     100\nProfits     40\nName: Apple2020, dtype: int64"
     },
     "execution_count": 6,
     "metadata": {},
     "output_type": "execute_result"
    }
   ],
   "source": [
    "data3.loc['Apple2020']"
   ],
   "metadata": {
    "collapsed": false,
    "ExecuteTime": {
     "end_time": "2024-09-22T16:05:12.642205Z",
     "start_time": "2024-09-22T16:05:12.631180Z"
    }
   },
   "id": "e2ba70d4c9999bf9",
   "execution_count": 6
  },
  {
   "cell_type": "code",
   "outputs": [
    {
     "data": {
      "text/plain": "  Entreprise  Année  Ventes   Profits\n0      Apple   2020      100       40\n2  Microsoft   2020      500       59",
      "text/html": "<div>\n<style scoped>\n    .dataframe tbody tr th:only-of-type {\n        vertical-align: middle;\n    }\n\n    .dataframe tbody tr th {\n        vertical-align: top;\n    }\n\n    .dataframe thead th {\n        text-align: right;\n    }\n</style>\n<table border=\"1\" class=\"dataframe\">\n  <thead>\n    <tr style=\"text-align: right;\">\n      <th></th>\n      <th>Entreprise</th>\n      <th>Année</th>\n      <th>Ventes</th>\n      <th>Profits</th>\n    </tr>\n  </thead>\n  <tbody>\n    <tr>\n      <th>0</th>\n      <td>Apple</td>\n      <td>2020</td>\n      <td>100</td>\n      <td>40</td>\n    </tr>\n    <tr>\n      <th>2</th>\n      <td>Microsoft</td>\n      <td>2020</td>\n      <td>500</td>\n      <td>59</td>\n    </tr>\n  </tbody>\n</table>\n</div>"
     },
     "execution_count": 7,
     "metadata": {},
     "output_type": "execute_result"
    }
   ],
   "source": [
    "x = data2.query('Année == 2020').copy()\n",
    "x"
   ],
   "metadata": {
    "collapsed": false,
    "ExecuteTime": {
     "end_time": "2024-09-22T16:05:12.662592Z",
     "start_time": "2024-09-22T16:05:12.643210Z"
    }
   },
   "id": "7ddc7f3832f00db0",
   "execution_count": 7
  },
  {
   "cell_type": "code",
   "outputs": [
    {
     "data": {
      "text/plain": "             Taxon  Patient   Tissue   Stool    year treatment\n0       Firmicutes        1    632.0   305.0     NaN      1000\n1       Firmicutes        2    136.0  4182.0  2013.0      None\n2       Firmicutes        3      NaN   703.0  2013.0      None\n3       Firmicutes        4    408.0  3946.0  2013.0      None\n4       Firmicutes        5    831.0  8605.0  2013.0      None\n5       Firmicutes        6    693.0    50.0  2013.0      None\n6       Firmicutes        7    718.0   717.0  2013.0      None\n7       Firmicutes        8    173.0    33.0  2013.0      None\n8       Firmicutes        9    228.0     NaN  2013.0      None\n9       Firmicutes       10    162.0  3196.0  2013.0      None\n10      Firmicutes       11    372.0     NaN  2013.0      None\n11      Firmicutes       12   4255.0  4361.0  2013.0      None\n12      Firmicutes       13    107.0  1667.0  2013.0      None\n13      Firmicutes       14      NaN   223.0  2013.0      None\n14      Firmicutes       15    281.0  2377.0  2013.0      None\n15  Proteobacteria        1   1638.0  3886.0  2013.0      None\n16  Proteobacteria        2   2469.0  1821.0  2013.0      None\n17  Proteobacteria        3    839.0   661.0  2013.0      None\n18  Proteobacteria        4   4414.0    18.0  2013.0      None\n19  Proteobacteria        5  12044.0    83.0  2013.0      None",
      "text/html": "<div>\n<style scoped>\n    .dataframe tbody tr th:only-of-type {\n        vertical-align: middle;\n    }\n\n    .dataframe tbody tr th {\n        vertical-align: top;\n    }\n\n    .dataframe thead th {\n        text-align: right;\n    }\n</style>\n<table border=\"1\" class=\"dataframe\">\n  <thead>\n    <tr style=\"text-align: right;\">\n      <th></th>\n      <th>Taxon</th>\n      <th>Patient</th>\n      <th>Tissue</th>\n      <th>Stool</th>\n      <th>year</th>\n      <th>treatment</th>\n    </tr>\n  </thead>\n  <tbody>\n    <tr>\n      <th>0</th>\n      <td>Firmicutes</td>\n      <td>1</td>\n      <td>632.0</td>\n      <td>305.0</td>\n      <td>NaN</td>\n      <td>1000</td>\n    </tr>\n    <tr>\n      <th>1</th>\n      <td>Firmicutes</td>\n      <td>2</td>\n      <td>136.0</td>\n      <td>4182.0</td>\n      <td>2013.0</td>\n      <td>None</td>\n    </tr>\n    <tr>\n      <th>2</th>\n      <td>Firmicutes</td>\n      <td>3</td>\n      <td>NaN</td>\n      <td>703.0</td>\n      <td>2013.0</td>\n      <td>None</td>\n    </tr>\n    <tr>\n      <th>3</th>\n      <td>Firmicutes</td>\n      <td>4</td>\n      <td>408.0</td>\n      <td>3946.0</td>\n      <td>2013.0</td>\n      <td>None</td>\n    </tr>\n    <tr>\n      <th>4</th>\n      <td>Firmicutes</td>\n      <td>5</td>\n      <td>831.0</td>\n      <td>8605.0</td>\n      <td>2013.0</td>\n      <td>None</td>\n    </tr>\n    <tr>\n      <th>5</th>\n      <td>Firmicutes</td>\n      <td>6</td>\n      <td>693.0</td>\n      <td>50.0</td>\n      <td>2013.0</td>\n      <td>None</td>\n    </tr>\n    <tr>\n      <th>6</th>\n      <td>Firmicutes</td>\n      <td>7</td>\n      <td>718.0</td>\n      <td>717.0</td>\n      <td>2013.0</td>\n      <td>None</td>\n    </tr>\n    <tr>\n      <th>7</th>\n      <td>Firmicutes</td>\n      <td>8</td>\n      <td>173.0</td>\n      <td>33.0</td>\n      <td>2013.0</td>\n      <td>None</td>\n    </tr>\n    <tr>\n      <th>8</th>\n      <td>Firmicutes</td>\n      <td>9</td>\n      <td>228.0</td>\n      <td>NaN</td>\n      <td>2013.0</td>\n      <td>None</td>\n    </tr>\n    <tr>\n      <th>9</th>\n      <td>Firmicutes</td>\n      <td>10</td>\n      <td>162.0</td>\n      <td>3196.0</td>\n      <td>2013.0</td>\n      <td>None</td>\n    </tr>\n    <tr>\n      <th>10</th>\n      <td>Firmicutes</td>\n      <td>11</td>\n      <td>372.0</td>\n      <td>NaN</td>\n      <td>2013.0</td>\n      <td>None</td>\n    </tr>\n    <tr>\n      <th>11</th>\n      <td>Firmicutes</td>\n      <td>12</td>\n      <td>4255.0</td>\n      <td>4361.0</td>\n      <td>2013.0</td>\n      <td>None</td>\n    </tr>\n    <tr>\n      <th>12</th>\n      <td>Firmicutes</td>\n      <td>13</td>\n      <td>107.0</td>\n      <td>1667.0</td>\n      <td>2013.0</td>\n      <td>None</td>\n    </tr>\n    <tr>\n      <th>13</th>\n      <td>Firmicutes</td>\n      <td>14</td>\n      <td>NaN</td>\n      <td>223.0</td>\n      <td>2013.0</td>\n      <td>None</td>\n    </tr>\n    <tr>\n      <th>14</th>\n      <td>Firmicutes</td>\n      <td>15</td>\n      <td>281.0</td>\n      <td>2377.0</td>\n      <td>2013.0</td>\n      <td>None</td>\n    </tr>\n    <tr>\n      <th>15</th>\n      <td>Proteobacteria</td>\n      <td>1</td>\n      <td>1638.0</td>\n      <td>3886.0</td>\n      <td>2013.0</td>\n      <td>None</td>\n    </tr>\n    <tr>\n      <th>16</th>\n      <td>Proteobacteria</td>\n      <td>2</td>\n      <td>2469.0</td>\n      <td>1821.0</td>\n      <td>2013.0</td>\n      <td>None</td>\n    </tr>\n    <tr>\n      <th>17</th>\n      <td>Proteobacteria</td>\n      <td>3</td>\n      <td>839.0</td>\n      <td>661.0</td>\n      <td>2013.0</td>\n      <td>None</td>\n    </tr>\n    <tr>\n      <th>18</th>\n      <td>Proteobacteria</td>\n      <td>4</td>\n      <td>4414.0</td>\n      <td>18.0</td>\n      <td>2013.0</td>\n      <td>None</td>\n    </tr>\n    <tr>\n      <th>19</th>\n      <td>Proteobacteria</td>\n      <td>5</td>\n      <td>12044.0</td>\n      <td>83.0</td>\n      <td>2013.0</td>\n      <td>None</td>\n    </tr>\n  </tbody>\n</table>\n</div>"
     },
     "execution_count": 8,
     "metadata": {},
     "output_type": "execute_result"
    }
   ],
   "source": [
    "mb = pd.read_csv(\"Data/microbiome_missing.csv\", na_values=['?', -99999], nrows=20)\n",
    "mb['year'] = 2013\n",
    "mb['treatment'] = None\n",
    "\n",
    "mb.loc[(0, 'year')] = None\n",
    "mb.loc[(0,'treatment')] = 1000\n",
    "mb"
   ],
   "metadata": {
    "collapsed": false,
    "ExecuteTime": {
     "end_time": "2024-09-22T16:05:12.690189Z",
     "start_time": "2024-09-22T16:05:12.665114Z"
    }
   },
   "id": "d3c5136a4b4e7d5f",
   "execution_count": 8
  },
  {
   "cell_type": "code",
   "outputs": [
    {
     "data": {
      "text/plain": "Empty DataFrame\nColumns: [Taxon, Patient, Tissue, Stool, year, treatment]\nIndex: []",
      "text/html": "<div>\n<style scoped>\n    .dataframe tbody tr th:only-of-type {\n        vertical-align: middle;\n    }\n\n    .dataframe tbody tr th {\n        vertical-align: top;\n    }\n\n    .dataframe thead th {\n        text-align: right;\n    }\n</style>\n<table border=\"1\" class=\"dataframe\">\n  <thead>\n    <tr style=\"text-align: right;\">\n      <th></th>\n      <th>Taxon</th>\n      <th>Patient</th>\n      <th>Tissue</th>\n      <th>Stool</th>\n      <th>year</th>\n      <th>treatment</th>\n    </tr>\n  </thead>\n  <tbody>\n  </tbody>\n</table>\n</div>"
     },
     "execution_count": 9,
     "metadata": {},
     "output_type": "execute_result"
    }
   ],
   "source": [
    "mb.dropna()"
   ],
   "metadata": {
    "collapsed": false,
    "ExecuteTime": {
     "end_time": "2024-09-22T16:05:12.698964Z",
     "start_time": "2024-09-22T16:05:12.691200Z"
    }
   },
   "id": "81f6343b5c5692cc",
   "execution_count": 9
  },
  {
   "cell_type": "code",
   "outputs": [
    {
     "name": "stderr",
     "output_type": "stream",
     "text": [
      "C:\\Users\\celin\\AppData\\Local\\Temp\\ipykernel_11512\\1716032382.py:1: FutureWarning: Downcasting object dtype arrays on .fillna, .ffill, .bfill is deprecated and will change in a future version. Call result.infer_objects(copy=False) instead. To opt-in to the future behavior, set `pd.set_option('future.no_silent_downcasting', True)`\n",
      "  mb.fillna({'year': 2013, 'treatment': 2})\n"
     ]
    },
    {
     "data": {
      "text/plain": "             Taxon  Patient   Tissue   Stool    year  treatment\n0       Firmicutes        1    632.0   305.0  2013.0       1000\n1       Firmicutes        2    136.0  4182.0  2013.0          2\n2       Firmicutes        3      NaN   703.0  2013.0          2\n3       Firmicutes        4    408.0  3946.0  2013.0          2\n4       Firmicutes        5    831.0  8605.0  2013.0          2\n5       Firmicutes        6    693.0    50.0  2013.0          2\n6       Firmicutes        7    718.0   717.0  2013.0          2\n7       Firmicutes        8    173.0    33.0  2013.0          2\n8       Firmicutes        9    228.0     NaN  2013.0          2\n9       Firmicutes       10    162.0  3196.0  2013.0          2\n10      Firmicutes       11    372.0     NaN  2013.0          2\n11      Firmicutes       12   4255.0  4361.0  2013.0          2\n12      Firmicutes       13    107.0  1667.0  2013.0          2\n13      Firmicutes       14      NaN   223.0  2013.0          2\n14      Firmicutes       15    281.0  2377.0  2013.0          2\n15  Proteobacteria        1   1638.0  3886.0  2013.0          2\n16  Proteobacteria        2   2469.0  1821.0  2013.0          2\n17  Proteobacteria        3    839.0   661.0  2013.0          2\n18  Proteobacteria        4   4414.0    18.0  2013.0          2\n19  Proteobacteria        5  12044.0    83.0  2013.0          2",
      "text/html": "<div>\n<style scoped>\n    .dataframe tbody tr th:only-of-type {\n        vertical-align: middle;\n    }\n\n    .dataframe tbody tr th {\n        vertical-align: top;\n    }\n\n    .dataframe thead th {\n        text-align: right;\n    }\n</style>\n<table border=\"1\" class=\"dataframe\">\n  <thead>\n    <tr style=\"text-align: right;\">\n      <th></th>\n      <th>Taxon</th>\n      <th>Patient</th>\n      <th>Tissue</th>\n      <th>Stool</th>\n      <th>year</th>\n      <th>treatment</th>\n    </tr>\n  </thead>\n  <tbody>\n    <tr>\n      <th>0</th>\n      <td>Firmicutes</td>\n      <td>1</td>\n      <td>632.0</td>\n      <td>305.0</td>\n      <td>2013.0</td>\n      <td>1000</td>\n    </tr>\n    <tr>\n      <th>1</th>\n      <td>Firmicutes</td>\n      <td>2</td>\n      <td>136.0</td>\n      <td>4182.0</td>\n      <td>2013.0</td>\n      <td>2</td>\n    </tr>\n    <tr>\n      <th>2</th>\n      <td>Firmicutes</td>\n      <td>3</td>\n      <td>NaN</td>\n      <td>703.0</td>\n      <td>2013.0</td>\n      <td>2</td>\n    </tr>\n    <tr>\n      <th>3</th>\n      <td>Firmicutes</td>\n      <td>4</td>\n      <td>408.0</td>\n      <td>3946.0</td>\n      <td>2013.0</td>\n      <td>2</td>\n    </tr>\n    <tr>\n      <th>4</th>\n      <td>Firmicutes</td>\n      <td>5</td>\n      <td>831.0</td>\n      <td>8605.0</td>\n      <td>2013.0</td>\n      <td>2</td>\n    </tr>\n    <tr>\n      <th>5</th>\n      <td>Firmicutes</td>\n      <td>6</td>\n      <td>693.0</td>\n      <td>50.0</td>\n      <td>2013.0</td>\n      <td>2</td>\n    </tr>\n    <tr>\n      <th>6</th>\n      <td>Firmicutes</td>\n      <td>7</td>\n      <td>718.0</td>\n      <td>717.0</td>\n      <td>2013.0</td>\n      <td>2</td>\n    </tr>\n    <tr>\n      <th>7</th>\n      <td>Firmicutes</td>\n      <td>8</td>\n      <td>173.0</td>\n      <td>33.0</td>\n      <td>2013.0</td>\n      <td>2</td>\n    </tr>\n    <tr>\n      <th>8</th>\n      <td>Firmicutes</td>\n      <td>9</td>\n      <td>228.0</td>\n      <td>NaN</td>\n      <td>2013.0</td>\n      <td>2</td>\n    </tr>\n    <tr>\n      <th>9</th>\n      <td>Firmicutes</td>\n      <td>10</td>\n      <td>162.0</td>\n      <td>3196.0</td>\n      <td>2013.0</td>\n      <td>2</td>\n    </tr>\n    <tr>\n      <th>10</th>\n      <td>Firmicutes</td>\n      <td>11</td>\n      <td>372.0</td>\n      <td>NaN</td>\n      <td>2013.0</td>\n      <td>2</td>\n    </tr>\n    <tr>\n      <th>11</th>\n      <td>Firmicutes</td>\n      <td>12</td>\n      <td>4255.0</td>\n      <td>4361.0</td>\n      <td>2013.0</td>\n      <td>2</td>\n    </tr>\n    <tr>\n      <th>12</th>\n      <td>Firmicutes</td>\n      <td>13</td>\n      <td>107.0</td>\n      <td>1667.0</td>\n      <td>2013.0</td>\n      <td>2</td>\n    </tr>\n    <tr>\n      <th>13</th>\n      <td>Firmicutes</td>\n      <td>14</td>\n      <td>NaN</td>\n      <td>223.0</td>\n      <td>2013.0</td>\n      <td>2</td>\n    </tr>\n    <tr>\n      <th>14</th>\n      <td>Firmicutes</td>\n      <td>15</td>\n      <td>281.0</td>\n      <td>2377.0</td>\n      <td>2013.0</td>\n      <td>2</td>\n    </tr>\n    <tr>\n      <th>15</th>\n      <td>Proteobacteria</td>\n      <td>1</td>\n      <td>1638.0</td>\n      <td>3886.0</td>\n      <td>2013.0</td>\n      <td>2</td>\n    </tr>\n    <tr>\n      <th>16</th>\n      <td>Proteobacteria</td>\n      <td>2</td>\n      <td>2469.0</td>\n      <td>1821.0</td>\n      <td>2013.0</td>\n      <td>2</td>\n    </tr>\n    <tr>\n      <th>17</th>\n      <td>Proteobacteria</td>\n      <td>3</td>\n      <td>839.0</td>\n      <td>661.0</td>\n      <td>2013.0</td>\n      <td>2</td>\n    </tr>\n    <tr>\n      <th>18</th>\n      <td>Proteobacteria</td>\n      <td>4</td>\n      <td>4414.0</td>\n      <td>18.0</td>\n      <td>2013.0</td>\n      <td>2</td>\n    </tr>\n    <tr>\n      <th>19</th>\n      <td>Proteobacteria</td>\n      <td>5</td>\n      <td>12044.0</td>\n      <td>83.0</td>\n      <td>2013.0</td>\n      <td>2</td>\n    </tr>\n  </tbody>\n</table>\n</div>"
     },
     "execution_count": 10,
     "metadata": {},
     "output_type": "execute_result"
    }
   ],
   "source": [
    "mb.fillna({'year': 2013, 'treatment': 2})"
   ],
   "metadata": {
    "collapsed": false,
    "ExecuteTime": {
     "end_time": "2024-09-22T16:05:12.722932Z",
     "start_time": "2024-09-22T16:05:12.700975Z"
    }
   },
   "id": "e7078dc1672d2166",
   "execution_count": 10
  },
  {
   "cell_type": "code",
   "outputs": [
    {
     "data": {
      "text/plain": "                    Group  Tissue  Stool\nTaxon      Patient                      \nFirmicutes 1            0     136   4182\n           2            1    1174    703\n           3            0     408   3946\n           4            1     831   8605\n           5            0     693     50\n...                   ...     ...    ...\nOther      10           1     203      6\n           11           0     392      6\n           12           1      28     25\n           13           0      12     22\n           14           1     305     32\n\n[70 rows x 3 columns]",
      "text/html": "<div>\n<style scoped>\n    .dataframe tbody tr th:only-of-type {\n        vertical-align: middle;\n    }\n\n    .dataframe tbody tr th {\n        vertical-align: top;\n    }\n\n    .dataframe thead th {\n        text-align: right;\n    }\n</style>\n<table border=\"1\" class=\"dataframe\">\n  <thead>\n    <tr style=\"text-align: right;\">\n      <th></th>\n      <th></th>\n      <th>Group</th>\n      <th>Tissue</th>\n      <th>Stool</th>\n    </tr>\n    <tr>\n      <th>Taxon</th>\n      <th>Patient</th>\n      <th></th>\n      <th></th>\n      <th></th>\n    </tr>\n  </thead>\n  <tbody>\n    <tr>\n      <th rowspan=\"5\" valign=\"top\">Firmicutes</th>\n      <th>1</th>\n      <td>0</td>\n      <td>136</td>\n      <td>4182</td>\n    </tr>\n    <tr>\n      <th>2</th>\n      <td>1</td>\n      <td>1174</td>\n      <td>703</td>\n    </tr>\n    <tr>\n      <th>3</th>\n      <td>0</td>\n      <td>408</td>\n      <td>3946</td>\n    </tr>\n    <tr>\n      <th>4</th>\n      <td>1</td>\n      <td>831</td>\n      <td>8605</td>\n    </tr>\n    <tr>\n      <th>5</th>\n      <td>0</td>\n      <td>693</td>\n      <td>50</td>\n    </tr>\n    <tr>\n      <th>...</th>\n      <th>...</th>\n      <td>...</td>\n      <td>...</td>\n      <td>...</td>\n    </tr>\n    <tr>\n      <th rowspan=\"5\" valign=\"top\">Other</th>\n      <th>10</th>\n      <td>1</td>\n      <td>203</td>\n      <td>6</td>\n    </tr>\n    <tr>\n      <th>11</th>\n      <td>0</td>\n      <td>392</td>\n      <td>6</td>\n    </tr>\n    <tr>\n      <th>12</th>\n      <td>1</td>\n      <td>28</td>\n      <td>25</td>\n    </tr>\n    <tr>\n      <th>13</th>\n      <td>0</td>\n      <td>12</td>\n      <td>22</td>\n    </tr>\n    <tr>\n      <th>14</th>\n      <td>1</td>\n      <td>305</td>\n      <td>32</td>\n    </tr>\n  </tbody>\n</table>\n<p>70 rows × 3 columns</p>\n</div>"
     },
     "execution_count": 11,
     "metadata": {},
     "output_type": "execute_result"
    }
   ],
   "source": [
    "mb = pd.read_csv(\"Data/microbiome.csv\", index_col=['Taxon', 'Patient'])\n",
    "mb"
   ],
   "metadata": {
    "collapsed": false,
    "ExecuteTime": {
     "end_time": "2024-09-22T16:05:12.737056Z",
     "start_time": "2024-09-22T16:05:12.723939Z"
    }
   },
   "id": "8882721787ee635b",
   "execution_count": 11
  },
  {
   "cell_type": "code",
   "outputs": [
    {
     "data": {
      "text/plain": "       id     player  year  stint team  lg    g   ab   r    h  ...   rbi  \\\n17  89339  wellsda01  2007      2  LAN  NL    7   15   2    4  ...   1.0   \n22  89347  vizquom01  2007      1  SFN  NL  145  513  54  126  ...  51.0   \n31  89365  sweenma01  2007      2  LAN  NL   30   33   2    9  ...   3.0   \n32  89366  sweenma01  2007      1  SFN  NL   76   90  18   23  ...  10.0   \n42  89382  seaneru01  2007      1  LAN  NL   68    1   0    0  ...   0.0   \n43  89383  schmija01  2007      1  LAN  NL    6    7   1    1  ...   1.0   \n62  89431  loaizes01  2007      1  LAN  NL    5    7   0    1  ...   2.0   \n63  89438  kleskry01  2007      1  SFN  NL  116  362  51   94  ...  44.0   \n64  89439   kentje01  2007      1  LAN  NL  136  494  78  149  ...  79.0   \n68  89451  hernaro01  2007      2  LAN  NL   22    0   0    0  ...   0.0   \n75  89466  gonzalu01  2007      1  LAN  NL  139  464  70  129  ...  68.0   \n93  89521  bondsba01  2007      1  SFN  NL  126  340  75   94  ...  66.0   \n96  89526  benitar01  2007      1  SFN  NL   19    0   0    0  ...   0.0   \n\n      sb   cs   bb    so   ibb  hbp    sh   sf  gidp  \n17   0.0  0.0    0   6.0   0.0  0.0   0.0  0.0   0.0  \n22  14.0  6.0   44  48.0   6.0  1.0  14.0  3.0  14.0  \n31   0.0  0.0    1  11.0   0.0  0.0   0.0  0.0   0.0  \n32   2.0  0.0   13  18.0   0.0  3.0   1.0  0.0   0.0  \n42   0.0  0.0    0   1.0   0.0  0.0   0.0  0.0   0.0  \n43   0.0  0.0    0   4.0   0.0  0.0   1.0  0.0   0.0  \n62   0.0  0.0    0   2.0   0.0  0.0   2.0  0.0   1.0  \n63   5.0  1.0   46  68.0   2.0  1.0   1.0  1.0  14.0  \n64   1.0  3.0   57  61.0   4.0  5.0   0.0  6.0  17.0  \n68   0.0  0.0    0   0.0   0.0  0.0   0.0  0.0   0.0  \n75   6.0  2.0   56  56.0   4.0  4.0   0.0  2.0  11.0  \n93   5.0  0.0  132  54.0  43.0  3.0   0.0  2.0  13.0  \n96   0.0  0.0    0   0.0   0.0  0.0   0.0  0.0   0.0  \n\n[13 rows x 23 columns]",
      "text/html": "<div>\n<style scoped>\n    .dataframe tbody tr th:only-of-type {\n        vertical-align: middle;\n    }\n\n    .dataframe tbody tr th {\n        vertical-align: top;\n    }\n\n    .dataframe thead th {\n        text-align: right;\n    }\n</style>\n<table border=\"1\" class=\"dataframe\">\n  <thead>\n    <tr style=\"text-align: right;\">\n      <th></th>\n      <th>id</th>\n      <th>player</th>\n      <th>year</th>\n      <th>stint</th>\n      <th>team</th>\n      <th>lg</th>\n      <th>g</th>\n      <th>ab</th>\n      <th>r</th>\n      <th>h</th>\n      <th>...</th>\n      <th>rbi</th>\n      <th>sb</th>\n      <th>cs</th>\n      <th>bb</th>\n      <th>so</th>\n      <th>ibb</th>\n      <th>hbp</th>\n      <th>sh</th>\n      <th>sf</th>\n      <th>gidp</th>\n    </tr>\n  </thead>\n  <tbody>\n    <tr>\n      <th>17</th>\n      <td>89339</td>\n      <td>wellsda01</td>\n      <td>2007</td>\n      <td>2</td>\n      <td>LAN</td>\n      <td>NL</td>\n      <td>7</td>\n      <td>15</td>\n      <td>2</td>\n      <td>4</td>\n      <td>...</td>\n      <td>1.0</td>\n      <td>0.0</td>\n      <td>0.0</td>\n      <td>0</td>\n      <td>6.0</td>\n      <td>0.0</td>\n      <td>0.0</td>\n      <td>0.0</td>\n      <td>0.0</td>\n      <td>0.0</td>\n    </tr>\n    <tr>\n      <th>22</th>\n      <td>89347</td>\n      <td>vizquom01</td>\n      <td>2007</td>\n      <td>1</td>\n      <td>SFN</td>\n      <td>NL</td>\n      <td>145</td>\n      <td>513</td>\n      <td>54</td>\n      <td>126</td>\n      <td>...</td>\n      <td>51.0</td>\n      <td>14.0</td>\n      <td>6.0</td>\n      <td>44</td>\n      <td>48.0</td>\n      <td>6.0</td>\n      <td>1.0</td>\n      <td>14.0</td>\n      <td>3.0</td>\n      <td>14.0</td>\n    </tr>\n    <tr>\n      <th>31</th>\n      <td>89365</td>\n      <td>sweenma01</td>\n      <td>2007</td>\n      <td>2</td>\n      <td>LAN</td>\n      <td>NL</td>\n      <td>30</td>\n      <td>33</td>\n      <td>2</td>\n      <td>9</td>\n      <td>...</td>\n      <td>3.0</td>\n      <td>0.0</td>\n      <td>0.0</td>\n      <td>1</td>\n      <td>11.0</td>\n      <td>0.0</td>\n      <td>0.0</td>\n      <td>0.0</td>\n      <td>0.0</td>\n      <td>0.0</td>\n    </tr>\n    <tr>\n      <th>32</th>\n      <td>89366</td>\n      <td>sweenma01</td>\n      <td>2007</td>\n      <td>1</td>\n      <td>SFN</td>\n      <td>NL</td>\n      <td>76</td>\n      <td>90</td>\n      <td>18</td>\n      <td>23</td>\n      <td>...</td>\n      <td>10.0</td>\n      <td>2.0</td>\n      <td>0.0</td>\n      <td>13</td>\n      <td>18.0</td>\n      <td>0.0</td>\n      <td>3.0</td>\n      <td>1.0</td>\n      <td>0.0</td>\n      <td>0.0</td>\n    </tr>\n    <tr>\n      <th>42</th>\n      <td>89382</td>\n      <td>seaneru01</td>\n      <td>2007</td>\n      <td>1</td>\n      <td>LAN</td>\n      <td>NL</td>\n      <td>68</td>\n      <td>1</td>\n      <td>0</td>\n      <td>0</td>\n      <td>...</td>\n      <td>0.0</td>\n      <td>0.0</td>\n      <td>0.0</td>\n      <td>0</td>\n      <td>1.0</td>\n      <td>0.0</td>\n      <td>0.0</td>\n      <td>0.0</td>\n      <td>0.0</td>\n      <td>0.0</td>\n    </tr>\n    <tr>\n      <th>43</th>\n      <td>89383</td>\n      <td>schmija01</td>\n      <td>2007</td>\n      <td>1</td>\n      <td>LAN</td>\n      <td>NL</td>\n      <td>6</td>\n      <td>7</td>\n      <td>1</td>\n      <td>1</td>\n      <td>...</td>\n      <td>1.0</td>\n      <td>0.0</td>\n      <td>0.0</td>\n      <td>0</td>\n      <td>4.0</td>\n      <td>0.0</td>\n      <td>0.0</td>\n      <td>1.0</td>\n      <td>0.0</td>\n      <td>0.0</td>\n    </tr>\n    <tr>\n      <th>62</th>\n      <td>89431</td>\n      <td>loaizes01</td>\n      <td>2007</td>\n      <td>1</td>\n      <td>LAN</td>\n      <td>NL</td>\n      <td>5</td>\n      <td>7</td>\n      <td>0</td>\n      <td>1</td>\n      <td>...</td>\n      <td>2.0</td>\n      <td>0.0</td>\n      <td>0.0</td>\n      <td>0</td>\n      <td>2.0</td>\n      <td>0.0</td>\n      <td>0.0</td>\n      <td>2.0</td>\n      <td>0.0</td>\n      <td>1.0</td>\n    </tr>\n    <tr>\n      <th>63</th>\n      <td>89438</td>\n      <td>kleskry01</td>\n      <td>2007</td>\n      <td>1</td>\n      <td>SFN</td>\n      <td>NL</td>\n      <td>116</td>\n      <td>362</td>\n      <td>51</td>\n      <td>94</td>\n      <td>...</td>\n      <td>44.0</td>\n      <td>5.0</td>\n      <td>1.0</td>\n      <td>46</td>\n      <td>68.0</td>\n      <td>2.0</td>\n      <td>1.0</td>\n      <td>1.0</td>\n      <td>1.0</td>\n      <td>14.0</td>\n    </tr>\n    <tr>\n      <th>64</th>\n      <td>89439</td>\n      <td>kentje01</td>\n      <td>2007</td>\n      <td>1</td>\n      <td>LAN</td>\n      <td>NL</td>\n      <td>136</td>\n      <td>494</td>\n      <td>78</td>\n      <td>149</td>\n      <td>...</td>\n      <td>79.0</td>\n      <td>1.0</td>\n      <td>3.0</td>\n      <td>57</td>\n      <td>61.0</td>\n      <td>4.0</td>\n      <td>5.0</td>\n      <td>0.0</td>\n      <td>6.0</td>\n      <td>17.0</td>\n    </tr>\n    <tr>\n      <th>68</th>\n      <td>89451</td>\n      <td>hernaro01</td>\n      <td>2007</td>\n      <td>2</td>\n      <td>LAN</td>\n      <td>NL</td>\n      <td>22</td>\n      <td>0</td>\n      <td>0</td>\n      <td>0</td>\n      <td>...</td>\n      <td>0.0</td>\n      <td>0.0</td>\n      <td>0.0</td>\n      <td>0</td>\n      <td>0.0</td>\n      <td>0.0</td>\n      <td>0.0</td>\n      <td>0.0</td>\n      <td>0.0</td>\n      <td>0.0</td>\n    </tr>\n    <tr>\n      <th>75</th>\n      <td>89466</td>\n      <td>gonzalu01</td>\n      <td>2007</td>\n      <td>1</td>\n      <td>LAN</td>\n      <td>NL</td>\n      <td>139</td>\n      <td>464</td>\n      <td>70</td>\n      <td>129</td>\n      <td>...</td>\n      <td>68.0</td>\n      <td>6.0</td>\n      <td>2.0</td>\n      <td>56</td>\n      <td>56.0</td>\n      <td>4.0</td>\n      <td>4.0</td>\n      <td>0.0</td>\n      <td>2.0</td>\n      <td>11.0</td>\n    </tr>\n    <tr>\n      <th>93</th>\n      <td>89521</td>\n      <td>bondsba01</td>\n      <td>2007</td>\n      <td>1</td>\n      <td>SFN</td>\n      <td>NL</td>\n      <td>126</td>\n      <td>340</td>\n      <td>75</td>\n      <td>94</td>\n      <td>...</td>\n      <td>66.0</td>\n      <td>5.0</td>\n      <td>0.0</td>\n      <td>132</td>\n      <td>54.0</td>\n      <td>43.0</td>\n      <td>3.0</td>\n      <td>0.0</td>\n      <td>2.0</td>\n      <td>13.0</td>\n    </tr>\n    <tr>\n      <th>96</th>\n      <td>89526</td>\n      <td>benitar01</td>\n      <td>2007</td>\n      <td>1</td>\n      <td>SFN</td>\n      <td>NL</td>\n      <td>19</td>\n      <td>0</td>\n      <td>0</td>\n      <td>0</td>\n      <td>...</td>\n      <td>0.0</td>\n      <td>0.0</td>\n      <td>0.0</td>\n      <td>0</td>\n      <td>0.0</td>\n      <td>0.0</td>\n      <td>0.0</td>\n      <td>0.0</td>\n      <td>0.0</td>\n      <td>0.0</td>\n    </tr>\n  </tbody>\n</table>\n<p>13 rows × 23 columns</p>\n</div>"
     },
     "execution_count": 12,
     "metadata": {},
     "output_type": "execute_result"
    }
   ],
   "source": [
    "baseball = pd.read_csv(\"Data/baseball.csv\")\n",
    "baseball2007 = baseball.query('year == 2007')\n",
    "baseball2007[baseball2007.team.isin(['LAN', 'SFN'])]\n",
    "\n",
    "baseball_sorted = baseball.query('year == 2007 and team in [\"LAN\", \"SFN\"]')\n",
    "baseball_sorted"
   ],
   "metadata": {
    "collapsed": false,
    "ExecuteTime": {
     "end_time": "2024-09-22T16:05:12.779821Z",
     "start_time": "2024-09-22T16:05:12.739067Z"
    }
   },
   "id": "8b25f44d5f56d172",
   "execution_count": 12
  },
  {
   "cell_type": "code",
   "outputs": [
    {
     "data": {
      "text/plain": "   year       team   player      post  ranking  goals  Unnamed: 6\n0  2006  Liverpool   Torres  Attacker        1     23         NaN\n1  2006  Liverpool   Gerard       Mid        1     19         NaN\n2  2006    Chelsea  Drogba   Attacker        2      5         NaN\n3  2006    Chelsea   Anelka  Attacker        2     32         NaN\n4  2007  Liverpool   Torres  Attacker        4     12         NaN\n5  2007  Liverpool   Gerard       Mid        4     19         NaN\n6  2007    Chelsea  Drogba   Attacker        5      3         NaN\n7  2007    Chelsea  Lampard  Attacker        5      9         NaN",
      "text/html": "<div>\n<style scoped>\n    .dataframe tbody tr th:only-of-type {\n        vertical-align: middle;\n    }\n\n    .dataframe tbody tr th {\n        vertical-align: top;\n    }\n\n    .dataframe thead th {\n        text-align: right;\n    }\n</style>\n<table border=\"1\" class=\"dataframe\">\n  <thead>\n    <tr style=\"text-align: right;\">\n      <th></th>\n      <th>year</th>\n      <th>team</th>\n      <th>player</th>\n      <th>post</th>\n      <th>ranking</th>\n      <th>goals</th>\n      <th>Unnamed: 6</th>\n    </tr>\n  </thead>\n  <tbody>\n    <tr>\n      <th>0</th>\n      <td>2006</td>\n      <td>Liverpool</td>\n      <td>Torres</td>\n      <td>Attacker</td>\n      <td>1</td>\n      <td>23</td>\n      <td>NaN</td>\n    </tr>\n    <tr>\n      <th>1</th>\n      <td>2006</td>\n      <td>Liverpool</td>\n      <td>Gerard</td>\n      <td>Mid</td>\n      <td>1</td>\n      <td>19</td>\n      <td>NaN</td>\n    </tr>\n    <tr>\n      <th>2</th>\n      <td>2006</td>\n      <td>Chelsea</td>\n      <td>Drogba</td>\n      <td>Attacker</td>\n      <td>2</td>\n      <td>5</td>\n      <td>NaN</td>\n    </tr>\n    <tr>\n      <th>3</th>\n      <td>2006</td>\n      <td>Chelsea</td>\n      <td>Anelka</td>\n      <td>Attacker</td>\n      <td>2</td>\n      <td>32</td>\n      <td>NaN</td>\n    </tr>\n    <tr>\n      <th>4</th>\n      <td>2007</td>\n      <td>Liverpool</td>\n      <td>Torres</td>\n      <td>Attacker</td>\n      <td>4</td>\n      <td>12</td>\n      <td>NaN</td>\n    </tr>\n    <tr>\n      <th>5</th>\n      <td>2007</td>\n      <td>Liverpool</td>\n      <td>Gerard</td>\n      <td>Mid</td>\n      <td>4</td>\n      <td>19</td>\n      <td>NaN</td>\n    </tr>\n    <tr>\n      <th>6</th>\n      <td>2007</td>\n      <td>Chelsea</td>\n      <td>Drogba</td>\n      <td>Attacker</td>\n      <td>5</td>\n      <td>3</td>\n      <td>NaN</td>\n    </tr>\n    <tr>\n      <th>7</th>\n      <td>2007</td>\n      <td>Chelsea</td>\n      <td>Lampard</td>\n      <td>Attacker</td>\n      <td>5</td>\n      <td>9</td>\n      <td>NaN</td>\n    </tr>\n  </tbody>\n</table>\n</div>"
     },
     "execution_count": 13,
     "metadata": {},
     "output_type": "execute_result"
    }
   ],
   "source": [
    "premier_league = pd.read_csv(\"Data/premier_league.csv\", sep=';')\n",
    "premier_league"
   ],
   "metadata": {
    "collapsed": false,
    "ExecuteTime": {
     "end_time": "2024-09-22T16:05:12.791883Z",
     "start_time": "2024-09-22T16:05:12.780830Z"
    }
   },
   "id": "e15f55fbaa125487",
   "execution_count": 13
  },
  {
   "cell_type": "code",
   "outputs": [
    {
     "name": "stdout",
     "output_type": "stream",
     "text": [
      "2006:\n",
      " player\n",
      "Torres     23\n",
      "Gerard     19\n",
      "Drogba      5\n",
      "Anelka     32\n",
      "Name: goals, dtype: int64\n",
      "\n",
      "2007:\n",
      " player\n",
      "Torres     12\n",
      "Gerard     19\n",
      "Drogba      3\n",
      "Lampard     9\n",
      "Name: goals, dtype: int64\n",
      "\n",
      "2006 + 2007:\n",
      " player\n",
      "Anelka     32.0\n",
      "Drogba      8.0\n",
      "Gerard     38.0\n",
      "Lampard     9.0\n",
      "Torres     35.0\n",
      "Name: goals, dtype: float64\n",
      "\n",
      "2006 * 2007:\n",
      " player\n",
      "Anelka       0.0\n",
      "Drogba      15.0\n",
      "Gerard     361.0\n",
      "Lampard      0.0\n",
      "Torres     276.0\n",
      "Name: goals, dtype: float64\n"
     ]
    }
   ],
   "source": [
    "goals2006 = premier_league.query('year == 2006').goals\n",
    "goals2007 = premier_league.query('year == 2007').goals\n",
    "\n",
    "goals2006.index = premier_league.query('year == 2006').player\n",
    "goals2007.index = premier_league.query('year == 2007').player\n",
    "\n",
    "sum = goals2006.add(goals2007, fill_value=0)\n",
    "print(f\"2006:\\n {goals2006}\\n\\n2007:\\n {goals2007}\\n\\n2006 + 2007:\\n {sum}\")\n",
    "\n",
    "prod = goals2006.mul(goals2007, fill_value=0)\n",
    "print(f\"\\n2006 * 2007:\\n {prod}\")"
   ],
   "metadata": {
    "collapsed": false,
    "ExecuteTime": {
     "end_time": "2024-09-22T16:05:12.816325Z",
     "start_time": "2024-09-22T16:05:12.792893Z"
    }
   },
   "id": "6ec243af26675daa",
   "execution_count": 14
  },
  {
   "cell_type": "code",
   "outputs": [
    {
     "data": {
      "text/plain": "0    0.71875\n1    0.59375\n2    0.15625\n3    1.00000\n4    0.37500\n5    0.59375\n6    0.09375\n7    0.28125\nName: goals, dtype: float64"
     },
     "execution_count": 15,
     "metadata": {},
     "output_type": "execute_result"
    }
   ],
   "source": [
    "premier_league.goals / max(premier_league.goals)"
   ],
   "metadata": {
    "collapsed": false,
    "ExecuteTime": {
     "end_time": "2024-09-22T16:05:12.828353Z",
     "start_time": "2024-09-22T16:05:12.820333Z"
    }
   },
   "id": "749c70f6a5327c34",
   "execution_count": 15
  },
  {
   "cell_type": "code",
   "outputs": [
    {
     "data": {
      "text/plain": "3    32\n0    23\n1    19\n5    19\n4    12\n7     9\n2     5\n6     3\nName: goals, dtype: int64"
     },
     "execution_count": 16,
     "metadata": {},
     "output_type": "execute_result"
    }
   ],
   "source": [
    "premier_league['goals'].sort_values(ascending=False)"
   ],
   "metadata": {
    "collapsed": false,
    "ExecuteTime": {
     "end_time": "2024-09-22T16:05:12.841302Z",
     "start_time": "2024-09-22T16:05:12.829362Z"
    }
   },
   "id": "4078c0db262dd4be",
   "execution_count": 16
  },
  {
   "cell_type": "code",
   "outputs": [
    {
     "data": {
      "text/plain": "   year       team   player      post  ranking  goals  Unnamed: 6\n3  2006    Chelsea   Anelka  Attacker        2     32         NaN\n0  2006  Liverpool   Torres  Attacker        1     23         NaN\n1  2006  Liverpool   Gerard       Mid        1     19         NaN\n2  2006    Chelsea  Drogba   Attacker        2      5         NaN\n5  2007  Liverpool   Gerard       Mid        4     19         NaN\n4  2007  Liverpool   Torres  Attacker        4     12         NaN\n7  2007    Chelsea  Lampard  Attacker        5      9         NaN\n6  2007    Chelsea  Drogba   Attacker        5      3         NaN",
      "text/html": "<div>\n<style scoped>\n    .dataframe tbody tr th:only-of-type {\n        vertical-align: middle;\n    }\n\n    .dataframe tbody tr th {\n        vertical-align: top;\n    }\n\n    .dataframe thead th {\n        text-align: right;\n    }\n</style>\n<table border=\"1\" class=\"dataframe\">\n  <thead>\n    <tr style=\"text-align: right;\">\n      <th></th>\n      <th>year</th>\n      <th>team</th>\n      <th>player</th>\n      <th>post</th>\n      <th>ranking</th>\n      <th>goals</th>\n      <th>Unnamed: 6</th>\n    </tr>\n  </thead>\n  <tbody>\n    <tr>\n      <th>3</th>\n      <td>2006</td>\n      <td>Chelsea</td>\n      <td>Anelka</td>\n      <td>Attacker</td>\n      <td>2</td>\n      <td>32</td>\n      <td>NaN</td>\n    </tr>\n    <tr>\n      <th>0</th>\n      <td>2006</td>\n      <td>Liverpool</td>\n      <td>Torres</td>\n      <td>Attacker</td>\n      <td>1</td>\n      <td>23</td>\n      <td>NaN</td>\n    </tr>\n    <tr>\n      <th>1</th>\n      <td>2006</td>\n      <td>Liverpool</td>\n      <td>Gerard</td>\n      <td>Mid</td>\n      <td>1</td>\n      <td>19</td>\n      <td>NaN</td>\n    </tr>\n    <tr>\n      <th>2</th>\n      <td>2006</td>\n      <td>Chelsea</td>\n      <td>Drogba</td>\n      <td>Attacker</td>\n      <td>2</td>\n      <td>5</td>\n      <td>NaN</td>\n    </tr>\n    <tr>\n      <th>5</th>\n      <td>2007</td>\n      <td>Liverpool</td>\n      <td>Gerard</td>\n      <td>Mid</td>\n      <td>4</td>\n      <td>19</td>\n      <td>NaN</td>\n    </tr>\n    <tr>\n      <th>4</th>\n      <td>2007</td>\n      <td>Liverpool</td>\n      <td>Torres</td>\n      <td>Attacker</td>\n      <td>4</td>\n      <td>12</td>\n      <td>NaN</td>\n    </tr>\n    <tr>\n      <th>7</th>\n      <td>2007</td>\n      <td>Chelsea</td>\n      <td>Lampard</td>\n      <td>Attacker</td>\n      <td>5</td>\n      <td>9</td>\n      <td>NaN</td>\n    </tr>\n    <tr>\n      <th>6</th>\n      <td>2007</td>\n      <td>Chelsea</td>\n      <td>Drogba</td>\n      <td>Attacker</td>\n      <td>5</td>\n      <td>3</td>\n      <td>NaN</td>\n    </tr>\n  </tbody>\n</table>\n</div>"
     },
     "execution_count": 17,
     "metadata": {},
     "output_type": "execute_result"
    }
   ],
   "source": [
    "premier_league.sort_values(by=['year', 'goals'], ascending=[True, False])"
   ],
   "metadata": {
    "collapsed": false,
    "ExecuteTime": {
     "end_time": "2024-09-22T16:05:12.857571Z",
     "start_time": "2024-09-22T16:05:12.842308Z"
    }
   },
   "id": "bdea7ba20e341000",
   "execution_count": 17
  },
  {
   "cell_type": "code",
   "outputs": [
    {
     "data": {
      "text/plain": "-2.571428571428571"
     },
     "execution_count": 18,
     "metadata": {},
     "output_type": "execute_result"
    }
   ],
   "source": [
    "premier_league['year'].cov(premier_league['goals'])"
   ],
   "metadata": {
    "collapsed": false,
    "ExecuteTime": {
     "end_time": "2024-09-22T16:05:12.873303Z",
     "start_time": "2024-09-22T16:05:12.858573Z"
    }
   },
   "id": "5b2c8b197ab170a5",
   "execution_count": 18
  },
  {
   "cell_type": "code",
   "outputs": [
    {
     "name": "stdout",
     "output_type": "stream",
     "text": [
      "     Ohio     Colorado\n",
      "    Green Red    Green\n",
      "a 1     0   1        2\n",
      "  2     3   4        5\n",
      "b 1     6   7        8\n",
      "  2     9  10       11 \n",
      "\n",
      "state      Ohio     Colorado\n",
      "color     Green Red    Green\n",
      "key1 key2                   \n",
      "a    1        0   1        2\n",
      "     2        3   4        5\n",
      "b    1        6   7        8\n",
      "     2        9  10       11 \n",
      "\n",
      "color     Green  Red    Green\n",
      "state      Ohio Ohio Colorado\n",
      "key1 key2                    \n",
      "a    1        0    1        2\n",
      "     2        3    4        5\n",
      "b    1        6    7        8\n",
      "     2        9   10       11\n"
     ]
    }
   ],
   "source": [
    "frame = pd.DataFrame(np.arange(12).reshape((4, 3)),\n",
    "                     index=[['a', 'a', 'b', 'b'], [1, 2, 1, 2]],\n",
    "                     columns=[['Ohio', 'Ohio', 'Colorado'], ['Green', 'Red', 'Green']])\n",
    "print(frame, \"\\n\")\n",
    "frame.index.names = ['key1', 'key2']\n",
    "frame.columns.names = ['state', 'color']\n",
    "print(frame, \"\\n\")\n",
    "frame.columns = frame.columns.swaplevel('state', 'color')\n",
    "print(frame)"
   ],
   "metadata": {
    "collapsed": false,
    "ExecuteTime": {
     "end_time": "2024-09-22T16:05:12.887765Z",
     "start_time": "2024-09-22T16:05:12.874310Z"
    }
   },
   "id": "e4d1a9d3f7711f7f",
   "execution_count": 19
  },
  {
   "cell_type": "code",
   "outputs": [],
   "source": [],
   "metadata": {
    "collapsed": false,
    "ExecuteTime": {
     "end_time": "2024-09-22T16:05:12.892291Z",
     "start_time": "2024-09-22T16:05:12.888774Z"
    }
   },
   "id": "4aa403e2ca18a531",
   "execution_count": 19
  }
 ],
 "metadata": {
  "kernelspec": {
   "display_name": "Python 3",
   "language": "python",
   "name": "python3"
  },
  "language_info": {
   "codemirror_mode": {
    "name": "ipython",
    "version": 2
   },
   "file_extension": ".py",
   "mimetype": "text/x-python",
   "name": "python",
   "nbconvert_exporter": "python",
   "pygments_lexer": "ipython2",
   "version": "2.7.6"
  }
 },
 "nbformat": 4,
 "nbformat_minor": 5
}
