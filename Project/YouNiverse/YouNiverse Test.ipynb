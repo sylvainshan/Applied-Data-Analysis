{
 "cells": [
  {
   "cell_type": "code",
   "execution_count": 6,
   "id": "initial_id",
   "metadata": {
    "collapsed": true,
    "ExecuteTime": {
     "end_time": "2024-09-25T15:33:35.254603Z",
     "start_time": "2024-09-25T15:33:35.250155Z"
    }
   },
   "outputs": [],
   "source": [
    "import pandas as pd\n",
    "import numpy as np\n",
    "import matplotlib.pyplot as plt\n",
    "import seaborn as sns\n",
    "from urllib.parse import unquote\n",
    "import requests\n",
    "import tarfile\n",
    "import os"
   ]
  },
  {
   "cell_type": "markdown",
   "source": [
    "### Datasets\n",
    "\n",
    "Download links at [https://zenodo.org/records/4650046](https://zenodo.org/records/4650046)\n",
    "\n",
    "GitHub Project: [https://github.com/epfl-dlab/YouNiverse](https://github.com/epfl-dlab/YouNiverse)"
   ],
   "metadata": {
    "collapsed": false
   },
   "id": "dc940e9353b39ce7"
  },
  {
   "cell_type": "code",
   "outputs": [],
   "source": [
    "datasets = [(\"https://zenodo.org/records/4650046/files/_raw_df_channels.tsv.gz?download=1\", \"channels.tsv.gz\"),\n",
    "            (\"https://zenodo.org/records/4650046/files/_raw_df_timeseries.tsv.gz?download=1\", \"time_series.tsv.gz\" ),\n",
    "            (\"https://zenodo.org/records/4650046/files/num_comments.tsv.gz?download=1\", \"num_comments.tsv.gz\")]\n",
    "\n",
    "for dataset in datasets:\n",
    "    url = dataset[0]\n",
    "    file_name = dataset[1]\n",
    "    if not os.path.exists(file_name):\n",
    "        response = requests.get(url, stream=True)\n",
    "        with open(file_name, 'wb') as file:\n",
    "            for chunk in response.iter_content(chunk_size=1024):\n",
    "                if chunk:\n",
    "                    file.write(chunk)"
   ],
   "metadata": {
    "collapsed": false,
    "ExecuteTime": {
     "end_time": "2024-09-25T15:41:20.302855Z",
     "start_time": "2024-09-25T15:40:00.814899Z"
    }
   },
   "id": "3b4a320a77965bff",
   "execution_count": 13
  },
  {
   "cell_type": "markdown",
   "source": [
    "### Channels"
   ],
   "metadata": {
    "collapsed": false
   },
   "id": "b8ca4ac651a36b3c"
  },
  {
   "cell_type": "code",
   "outputs": [
    {
     "data": {
      "text/plain": "          category_cc   join_date                   channel  \\\n0  Film and Animation  2017-05-21  UCBJuEqXfXTdcPSbGO9qqn1g   \n1       Entertainment  2011-12-13  UCkNW9Q1VR_aeZ6uht83jJVQ   \n2               Music  2008-03-17  UCXhkGgooXHDNwgJXmoTSN7g   \n3       Entertainment  2014-10-19  UCvZGsuvKlYOGiZTsxwJNS5Q   \n4              Comedy  2017-01-15  UCxJWPpPED-J24znoKyKZYjg   \n\n                   name_cc  subscribers_cc  videos_cc  subscriber_rank_sb  \n0             MagnusNation           65100         28            231223.0  \n1  Mago Dario Animazion...           60200         48            238538.0  \n2             Mago Merlino           14800        838            707828.0  \n3               MAGO TOMÁS           26200         31            424550.0  \n4         Magog of Morskar           29400        158            422966.0  ",
      "text/html": "<div>\n<style scoped>\n    .dataframe tbody tr th:only-of-type {\n        vertical-align: middle;\n    }\n\n    .dataframe tbody tr th {\n        vertical-align: top;\n    }\n\n    .dataframe thead th {\n        text-align: right;\n    }\n</style>\n<table border=\"1\" class=\"dataframe\">\n  <thead>\n    <tr style=\"text-align: right;\">\n      <th></th>\n      <th>category_cc</th>\n      <th>join_date</th>\n      <th>channel</th>\n      <th>name_cc</th>\n      <th>subscribers_cc</th>\n      <th>videos_cc</th>\n      <th>subscriber_rank_sb</th>\n    </tr>\n  </thead>\n  <tbody>\n    <tr>\n      <th>0</th>\n      <td>Film and Animation</td>\n      <td>2017-05-21</td>\n      <td>UCBJuEqXfXTdcPSbGO9qqn1g</td>\n      <td>MagnusNation</td>\n      <td>65100</td>\n      <td>28</td>\n      <td>231223.0</td>\n    </tr>\n    <tr>\n      <th>1</th>\n      <td>Entertainment</td>\n      <td>2011-12-13</td>\n      <td>UCkNW9Q1VR_aeZ6uht83jJVQ</td>\n      <td>Mago Dario Animazion...</td>\n      <td>60200</td>\n      <td>48</td>\n      <td>238538.0</td>\n    </tr>\n    <tr>\n      <th>2</th>\n      <td>Music</td>\n      <td>2008-03-17</td>\n      <td>UCXhkGgooXHDNwgJXmoTSN7g</td>\n      <td>Mago Merlino</td>\n      <td>14800</td>\n      <td>838</td>\n      <td>707828.0</td>\n    </tr>\n    <tr>\n      <th>3</th>\n      <td>Entertainment</td>\n      <td>2014-10-19</td>\n      <td>UCvZGsuvKlYOGiZTsxwJNS5Q</td>\n      <td>MAGO TOMÁS</td>\n      <td>26200</td>\n      <td>31</td>\n      <td>424550.0</td>\n    </tr>\n    <tr>\n      <th>4</th>\n      <td>Comedy</td>\n      <td>2017-01-15</td>\n      <td>UCxJWPpPED-J24znoKyKZYjg</td>\n      <td>Magog of Morskar</td>\n      <td>29400</td>\n      <td>158</td>\n      <td>422966.0</td>\n    </tr>\n  </tbody>\n</table>\n</div>"
     },
     "execution_count": 8,
     "metadata": {},
     "output_type": "execute_result"
    }
   ],
   "source": [
    "channels = pd.read_csv(\"channels.tsv.gz\", sep='\\t', compression='gzip')\n",
    "channels.head()"
   ],
   "metadata": {
    "collapsed": false,
    "ExecuteTime": {
     "end_time": "2024-09-25T15:33:35.737801Z",
     "start_time": "2024-09-25T15:33:35.291955Z"
    }
   },
   "id": "24e7ad47d6ec9924",
   "execution_count": 8
  },
  {
   "cell_type": "code",
   "outputs": [
    {
     "data": {
      "text/plain": "       subscribers_cc      videos_cc  subscriber_rank_sb\ncount    1.569770e+05  156977.000000        1.533300e+05\nmean     2.415465e+05     700.634354        3.573119e+05\nstd      1.110144e+06    4439.410641        2.709194e+05\nmin      1.000000e+04      10.000000        3.000000e+00\n25%      1.880000e+04      69.000000        1.165692e+05\n50%      4.210000e+04     173.000000        3.025270e+05\n75%      1.360000e+05     440.000000        5.707568e+05\nmax      1.121395e+08  461923.000000        1.101245e+06",
      "text/html": "<div>\n<style scoped>\n    .dataframe tbody tr th:only-of-type {\n        vertical-align: middle;\n    }\n\n    .dataframe tbody tr th {\n        vertical-align: top;\n    }\n\n    .dataframe thead th {\n        text-align: right;\n    }\n</style>\n<table border=\"1\" class=\"dataframe\">\n  <thead>\n    <tr style=\"text-align: right;\">\n      <th></th>\n      <th>subscribers_cc</th>\n      <th>videos_cc</th>\n      <th>subscriber_rank_sb</th>\n    </tr>\n  </thead>\n  <tbody>\n    <tr>\n      <th>count</th>\n      <td>1.569770e+05</td>\n      <td>156977.000000</td>\n      <td>1.533300e+05</td>\n    </tr>\n    <tr>\n      <th>mean</th>\n      <td>2.415465e+05</td>\n      <td>700.634354</td>\n      <td>3.573119e+05</td>\n    </tr>\n    <tr>\n      <th>std</th>\n      <td>1.110144e+06</td>\n      <td>4439.410641</td>\n      <td>2.709194e+05</td>\n    </tr>\n    <tr>\n      <th>min</th>\n      <td>1.000000e+04</td>\n      <td>10.000000</td>\n      <td>3.000000e+00</td>\n    </tr>\n    <tr>\n      <th>25%</th>\n      <td>1.880000e+04</td>\n      <td>69.000000</td>\n      <td>1.165692e+05</td>\n    </tr>\n    <tr>\n      <th>50%</th>\n      <td>4.210000e+04</td>\n      <td>173.000000</td>\n      <td>3.025270e+05</td>\n    </tr>\n    <tr>\n      <th>75%</th>\n      <td>1.360000e+05</td>\n      <td>440.000000</td>\n      <td>5.707568e+05</td>\n    </tr>\n    <tr>\n      <th>max</th>\n      <td>1.121395e+08</td>\n      <td>461923.000000</td>\n      <td>1.101245e+06</td>\n    </tr>\n  </tbody>\n</table>\n</div>"
     },
     "execution_count": 12,
     "metadata": {},
     "output_type": "execute_result"
    }
   ],
   "source": [
    "channels.describe()"
   ],
   "metadata": {
    "collapsed": false,
    "ExecuteTime": {
     "end_time": "2024-09-25T15:36:21.896650Z",
     "start_time": "2024-09-25T15:36:21.870907Z"
    }
   },
   "id": "57dabc18a51f9043",
   "execution_count": 12
  },
  {
   "cell_type": "markdown",
   "source": [
    "### Time Series"
   ],
   "metadata": {
    "collapsed": false
   },
   "id": "8386f0628233e66b"
  },
  {
   "cell_type": "code",
   "outputs": [
    {
     "data": {
      "text/plain": "                    channel            category             datetime  \\\n0  UCBJuEqXfXTdcPSbGO9qqn1g  Film and Animation  2017-07-03 00:00:00   \n1  UCBJuEqXfXTdcPSbGO9qqn1g  Film and Animation  2017-07-10 00:00:00   \n2  UCBJuEqXfXTdcPSbGO9qqn1g  Film and Animation  2017-07-17 00:00:00   \n3  UCBJuEqXfXTdcPSbGO9qqn1g  Film and Animation  2017-07-24 00:00:00   \n4  UCBJuEqXfXTdcPSbGO9qqn1g  Film and Animation  2017-07-31 00:00:00   \n\n          views    delta_views         subs  delta_subs  videos  delta_videos  \\\n0  2.024946e+05       0.000000   650.222222    0.000000       5             0   \n1  3.940857e+05  191591.111111  1046.000000  395.777778       6             1   \n2  8.353938e+05  441308.083333  1501.500000  455.500000       6             0   \n3  1.104577e+06  269183.250000  1750.000000  248.500000       6             0   \n4  1.284406e+06  179828.600000  2008.300000  258.300000       6             0   \n\n   activity  \n0         3  \n1         1  \n2         1  \n3         0  \n4         0  ",
      "text/html": "<div>\n<style scoped>\n    .dataframe tbody tr th:only-of-type {\n        vertical-align: middle;\n    }\n\n    .dataframe tbody tr th {\n        vertical-align: top;\n    }\n\n    .dataframe thead th {\n        text-align: right;\n    }\n</style>\n<table border=\"1\" class=\"dataframe\">\n  <thead>\n    <tr style=\"text-align: right;\">\n      <th></th>\n      <th>channel</th>\n      <th>category</th>\n      <th>datetime</th>\n      <th>views</th>\n      <th>delta_views</th>\n      <th>subs</th>\n      <th>delta_subs</th>\n      <th>videos</th>\n      <th>delta_videos</th>\n      <th>activity</th>\n    </tr>\n  </thead>\n  <tbody>\n    <tr>\n      <th>0</th>\n      <td>UCBJuEqXfXTdcPSbGO9qqn1g</td>\n      <td>Film and Animation</td>\n      <td>2017-07-03 00:00:00</td>\n      <td>2.024946e+05</td>\n      <td>0.000000</td>\n      <td>650.222222</td>\n      <td>0.000000</td>\n      <td>5</td>\n      <td>0</td>\n      <td>3</td>\n    </tr>\n    <tr>\n      <th>1</th>\n      <td>UCBJuEqXfXTdcPSbGO9qqn1g</td>\n      <td>Film and Animation</td>\n      <td>2017-07-10 00:00:00</td>\n      <td>3.940857e+05</td>\n      <td>191591.111111</td>\n      <td>1046.000000</td>\n      <td>395.777778</td>\n      <td>6</td>\n      <td>1</td>\n      <td>1</td>\n    </tr>\n    <tr>\n      <th>2</th>\n      <td>UCBJuEqXfXTdcPSbGO9qqn1g</td>\n      <td>Film and Animation</td>\n      <td>2017-07-17 00:00:00</td>\n      <td>8.353938e+05</td>\n      <td>441308.083333</td>\n      <td>1501.500000</td>\n      <td>455.500000</td>\n      <td>6</td>\n      <td>0</td>\n      <td>1</td>\n    </tr>\n    <tr>\n      <th>3</th>\n      <td>UCBJuEqXfXTdcPSbGO9qqn1g</td>\n      <td>Film and Animation</td>\n      <td>2017-07-24 00:00:00</td>\n      <td>1.104577e+06</td>\n      <td>269183.250000</td>\n      <td>1750.000000</td>\n      <td>248.500000</td>\n      <td>6</td>\n      <td>0</td>\n      <td>0</td>\n    </tr>\n    <tr>\n      <th>4</th>\n      <td>UCBJuEqXfXTdcPSbGO9qqn1g</td>\n      <td>Film and Animation</td>\n      <td>2017-07-31 00:00:00</td>\n      <td>1.284406e+06</td>\n      <td>179828.600000</td>\n      <td>2008.300000</td>\n      <td>258.300000</td>\n      <td>6</td>\n      <td>0</td>\n      <td>0</td>\n    </tr>\n  </tbody>\n</table>\n</div>"
     },
     "execution_count": 9,
     "metadata": {},
     "output_type": "execute_result"
    }
   ],
   "source": [
    "time_series = pd.read_csv(\"time_series.tsv.gz\", sep='\\t', compression='gzip')"
   ],
   "metadata": {
    "collapsed": false,
    "ExecuteTime": {
     "end_time": "2024-09-25T15:34:16.388009Z",
     "start_time": "2024-09-25T15:33:35.740812Z"
    }
   },
   "id": "fa8c220f9e2bc52",
   "execution_count": 9
  },
  {
   "cell_type": "code",
   "outputs": [
    {
     "data": {
      "text/plain": "                    channel            category             datetime  \\\n0  UCBJuEqXfXTdcPSbGO9qqn1g  Film and Animation  2017-07-03 00:00:00   \n1  UCBJuEqXfXTdcPSbGO9qqn1g  Film and Animation  2017-07-10 00:00:00   \n2  UCBJuEqXfXTdcPSbGO9qqn1g  Film and Animation  2017-07-17 00:00:00   \n3  UCBJuEqXfXTdcPSbGO9qqn1g  Film and Animation  2017-07-24 00:00:00   \n4  UCBJuEqXfXTdcPSbGO9qqn1g  Film and Animation  2017-07-31 00:00:00   \n\n          views    delta_views         subs  delta_subs  videos  delta_videos  \\\n0  2.024946e+05       0.000000   650.222222    0.000000       5             0   \n1  3.940857e+05  191591.111111  1046.000000  395.777778       6             1   \n2  8.353938e+05  441308.083333  1501.500000  455.500000       6             0   \n3  1.104577e+06  269183.250000  1750.000000  248.500000       6             0   \n4  1.284406e+06  179828.600000  2008.300000  258.300000       6             0   \n\n   activity  \n0         3  \n1         1  \n2         1  \n3         0  \n4         0  ",
      "text/html": "<div>\n<style scoped>\n    .dataframe tbody tr th:only-of-type {\n        vertical-align: middle;\n    }\n\n    .dataframe tbody tr th {\n        vertical-align: top;\n    }\n\n    .dataframe thead th {\n        text-align: right;\n    }\n</style>\n<table border=\"1\" class=\"dataframe\">\n  <thead>\n    <tr style=\"text-align: right;\">\n      <th></th>\n      <th>channel</th>\n      <th>category</th>\n      <th>datetime</th>\n      <th>views</th>\n      <th>delta_views</th>\n      <th>subs</th>\n      <th>delta_subs</th>\n      <th>videos</th>\n      <th>delta_videos</th>\n      <th>activity</th>\n    </tr>\n  </thead>\n  <tbody>\n    <tr>\n      <th>0</th>\n      <td>UCBJuEqXfXTdcPSbGO9qqn1g</td>\n      <td>Film and Animation</td>\n      <td>2017-07-03 00:00:00</td>\n      <td>2.024946e+05</td>\n      <td>0.000000</td>\n      <td>650.222222</td>\n      <td>0.000000</td>\n      <td>5</td>\n      <td>0</td>\n      <td>3</td>\n    </tr>\n    <tr>\n      <th>1</th>\n      <td>UCBJuEqXfXTdcPSbGO9qqn1g</td>\n      <td>Film and Animation</td>\n      <td>2017-07-10 00:00:00</td>\n      <td>3.940857e+05</td>\n      <td>191591.111111</td>\n      <td>1046.000000</td>\n      <td>395.777778</td>\n      <td>6</td>\n      <td>1</td>\n      <td>1</td>\n    </tr>\n    <tr>\n      <th>2</th>\n      <td>UCBJuEqXfXTdcPSbGO9qqn1g</td>\n      <td>Film and Animation</td>\n      <td>2017-07-17 00:00:00</td>\n      <td>8.353938e+05</td>\n      <td>441308.083333</td>\n      <td>1501.500000</td>\n      <td>455.500000</td>\n      <td>6</td>\n      <td>0</td>\n      <td>1</td>\n    </tr>\n    <tr>\n      <th>3</th>\n      <td>UCBJuEqXfXTdcPSbGO9qqn1g</td>\n      <td>Film and Animation</td>\n      <td>2017-07-24 00:00:00</td>\n      <td>1.104577e+06</td>\n      <td>269183.250000</td>\n      <td>1750.000000</td>\n      <td>248.500000</td>\n      <td>6</td>\n      <td>0</td>\n      <td>0</td>\n    </tr>\n    <tr>\n      <th>4</th>\n      <td>UCBJuEqXfXTdcPSbGO9qqn1g</td>\n      <td>Film and Animation</td>\n      <td>2017-07-31 00:00:00</td>\n      <td>1.284406e+06</td>\n      <td>179828.600000</td>\n      <td>2008.300000</td>\n      <td>258.300000</td>\n      <td>6</td>\n      <td>0</td>\n      <td>0</td>\n    </tr>\n  </tbody>\n</table>\n</div>"
     },
     "execution_count": 10,
     "metadata": {},
     "output_type": "execute_result"
    }
   ],
   "source": [
    "time_series.head()"
   ],
   "metadata": {
    "collapsed": false,
    "ExecuteTime": {
     "end_time": "2024-09-25T15:35:49.262530Z",
     "start_time": "2024-09-25T15:35:49.251385Z"
    }
   },
   "id": "f074547fbd074c31",
   "execution_count": 10
  },
  {
   "cell_type": "code",
   "outputs": [
    {
     "data": {
      "text/plain": "              views   delta_views          subs    delta_subs        videos  \\\ncount  2.155365e+07  2.155365e+07  2.155365e+07  2.155365e+07  2.155365e+07   \nmean   4.435084e+07  3.817904e+05  1.484632e+05  1.309480e+03  4.156606e+02   \nstd    3.522652e+08  3.900813e+06  7.789956e+05  1.786347e+04  1.441921e+03   \nmin    1.000000e+00  0.000000e+00  1.000000e+00  0.000000e+00  0.000000e+00   \n25%    1.339945e+06  9.374228e+03  8.930573e+03  3.455556e+01  4.100000e+01   \n50%    4.685746e+06  3.428997e+04  2.065548e+04  1.268555e+02  1.210000e+02   \n75%    1.633154e+07  1.336119e+05  6.960600e+04  5.231333e+02  3.320000e+02   \nmax    8.411483e+10  6.659719e+09  1.125714e+08  2.061360e+07  1.418270e+05   \n\n       delta_videos      activity  \ncount  2.155365e+07  2.155365e+07  \nmean   2.261714e+00  5.033164e+00  \nstd    1.463560e+01  3.010005e+01  \nmin    0.000000e+00  0.000000e+00  \n25%    0.000000e+00  0.000000e+00  \n50%    0.000000e+00  1.000000e+00  \n75%    2.000000e+00  4.000000e+00  \nmax    3.158000e+04  3.159700e+04  ",
      "text/html": "<div>\n<style scoped>\n    .dataframe tbody tr th:only-of-type {\n        vertical-align: middle;\n    }\n\n    .dataframe tbody tr th {\n        vertical-align: top;\n    }\n\n    .dataframe thead th {\n        text-align: right;\n    }\n</style>\n<table border=\"1\" class=\"dataframe\">\n  <thead>\n    <tr style=\"text-align: right;\">\n      <th></th>\n      <th>views</th>\n      <th>delta_views</th>\n      <th>subs</th>\n      <th>delta_subs</th>\n      <th>videos</th>\n      <th>delta_videos</th>\n      <th>activity</th>\n    </tr>\n  </thead>\n  <tbody>\n    <tr>\n      <th>count</th>\n      <td>2.155365e+07</td>\n      <td>2.155365e+07</td>\n      <td>2.155365e+07</td>\n      <td>2.155365e+07</td>\n      <td>2.155365e+07</td>\n      <td>2.155365e+07</td>\n      <td>2.155365e+07</td>\n    </tr>\n    <tr>\n      <th>mean</th>\n      <td>4.435084e+07</td>\n      <td>3.817904e+05</td>\n      <td>1.484632e+05</td>\n      <td>1.309480e+03</td>\n      <td>4.156606e+02</td>\n      <td>2.261714e+00</td>\n      <td>5.033164e+00</td>\n    </tr>\n    <tr>\n      <th>std</th>\n      <td>3.522652e+08</td>\n      <td>3.900813e+06</td>\n      <td>7.789956e+05</td>\n      <td>1.786347e+04</td>\n      <td>1.441921e+03</td>\n      <td>1.463560e+01</td>\n      <td>3.010005e+01</td>\n    </tr>\n    <tr>\n      <th>min</th>\n      <td>1.000000e+00</td>\n      <td>0.000000e+00</td>\n      <td>1.000000e+00</td>\n      <td>0.000000e+00</td>\n      <td>0.000000e+00</td>\n      <td>0.000000e+00</td>\n      <td>0.000000e+00</td>\n    </tr>\n    <tr>\n      <th>25%</th>\n      <td>1.339945e+06</td>\n      <td>9.374228e+03</td>\n      <td>8.930573e+03</td>\n      <td>3.455556e+01</td>\n      <td>4.100000e+01</td>\n      <td>0.000000e+00</td>\n      <td>0.000000e+00</td>\n    </tr>\n    <tr>\n      <th>50%</th>\n      <td>4.685746e+06</td>\n      <td>3.428997e+04</td>\n      <td>2.065548e+04</td>\n      <td>1.268555e+02</td>\n      <td>1.210000e+02</td>\n      <td>0.000000e+00</td>\n      <td>1.000000e+00</td>\n    </tr>\n    <tr>\n      <th>75%</th>\n      <td>1.633154e+07</td>\n      <td>1.336119e+05</td>\n      <td>6.960600e+04</td>\n      <td>5.231333e+02</td>\n      <td>3.320000e+02</td>\n      <td>2.000000e+00</td>\n      <td>4.000000e+00</td>\n    </tr>\n    <tr>\n      <th>max</th>\n      <td>8.411483e+10</td>\n      <td>6.659719e+09</td>\n      <td>1.125714e+08</td>\n      <td>2.061360e+07</td>\n      <td>1.418270e+05</td>\n      <td>3.158000e+04</td>\n      <td>3.159700e+04</td>\n    </tr>\n  </tbody>\n</table>\n</div>"
     },
     "execution_count": 11,
     "metadata": {},
     "output_type": "execute_result"
    }
   ],
   "source": [
    "time_series.describe()"
   ],
   "metadata": {
    "collapsed": false,
    "ExecuteTime": {
     "end_time": "2024-09-25T15:36:14.676083Z",
     "start_time": "2024-09-25T15:36:11.329831Z"
    }
   },
   "id": "33b00fe10534ae99",
   "execution_count": 11
  },
  {
   "cell_type": "markdown",
   "source": [
    "### Num Comments"
   ],
   "metadata": {
    "collapsed": false
   },
   "id": "4bf12d2e2de7b1ee"
  },
  {
   "cell_type": "code",
   "outputs": [],
   "source": [
    "num_comments = pd.read_csv(\"num_comments.tsv.gz\", sep='\\t', compression='gzip')"
   ],
   "metadata": {
    "collapsed": false,
    "ExecuteTime": {
     "end_time": "2024-09-25T15:42:24.025008Z",
     "start_time": "2024-09-25T15:41:20.304859Z"
    }
   },
   "id": "69d18702321807ae",
   "execution_count": 14
  },
  {
   "cell_type": "code",
   "outputs": [
    {
     "data": {
      "text/plain": "    display_id  num_comms\n0  SBqSc91Hn9g        0.0\n1  UuugEl86ESY        0.0\n2  oB4c-yvnbjs       48.0\n3  ZaV-gTCMV8E        6.0\n4  cGvL7AvMfM0        5.0",
      "text/html": "<div>\n<style scoped>\n    .dataframe tbody tr th:only-of-type {\n        vertical-align: middle;\n    }\n\n    .dataframe tbody tr th {\n        vertical-align: top;\n    }\n\n    .dataframe thead th {\n        text-align: right;\n    }\n</style>\n<table border=\"1\" class=\"dataframe\">\n  <thead>\n    <tr style=\"text-align: right;\">\n      <th></th>\n      <th>display_id</th>\n      <th>num_comms</th>\n    </tr>\n  </thead>\n  <tbody>\n    <tr>\n      <th>0</th>\n      <td>SBqSc91Hn9g</td>\n      <td>0.0</td>\n    </tr>\n    <tr>\n      <th>1</th>\n      <td>UuugEl86ESY</td>\n      <td>0.0</td>\n    </tr>\n    <tr>\n      <th>2</th>\n      <td>oB4c-yvnbjs</td>\n      <td>48.0</td>\n    </tr>\n    <tr>\n      <th>3</th>\n      <td>ZaV-gTCMV8E</td>\n      <td>6.0</td>\n    </tr>\n    <tr>\n      <th>4</th>\n      <td>cGvL7AvMfM0</td>\n      <td>5.0</td>\n    </tr>\n  </tbody>\n</table>\n</div>"
     },
     "execution_count": 15,
     "metadata": {},
     "output_type": "execute_result"
    }
   ],
   "source": [
    "num_comments.head()"
   ],
   "metadata": {
    "collapsed": false,
    "ExecuteTime": {
     "end_time": "2024-09-25T15:42:24.098181Z",
     "start_time": "2024-09-25T15:42:24.039012Z"
    }
   },
   "id": "84deb94428e9470c",
   "execution_count": 15
  },
  {
   "cell_type": "code",
   "outputs": [
    {
     "data": {
      "text/plain": "          num_comms\ncount  7.292479e+07\nmean   1.217165e+02\nstd    1.343391e+03\nmin    0.000000e+00\n25%    0.000000e+00\n50%    5.000000e+00\n75%    3.900000e+01\nmax    1.125155e+06",
      "text/html": "<div>\n<style scoped>\n    .dataframe tbody tr th:only-of-type {\n        vertical-align: middle;\n    }\n\n    .dataframe tbody tr th {\n        vertical-align: top;\n    }\n\n    .dataframe thead th {\n        text-align: right;\n    }\n</style>\n<table border=\"1\" class=\"dataframe\">\n  <thead>\n    <tr style=\"text-align: right;\">\n      <th></th>\n      <th>num_comms</th>\n    </tr>\n  </thead>\n  <tbody>\n    <tr>\n      <th>count</th>\n      <td>7.292479e+07</td>\n    </tr>\n    <tr>\n      <th>mean</th>\n      <td>1.217165e+02</td>\n    </tr>\n    <tr>\n      <th>std</th>\n      <td>1.343391e+03</td>\n    </tr>\n    <tr>\n      <th>min</th>\n      <td>0.000000e+00</td>\n    </tr>\n    <tr>\n      <th>25%</th>\n      <td>0.000000e+00</td>\n    </tr>\n    <tr>\n      <th>50%</th>\n      <td>5.000000e+00</td>\n    </tr>\n    <tr>\n      <th>75%</th>\n      <td>3.900000e+01</td>\n    </tr>\n    <tr>\n      <th>max</th>\n      <td>1.125155e+06</td>\n    </tr>\n  </tbody>\n</table>\n</div>"
     },
     "execution_count": 16,
     "metadata": {},
     "output_type": "execute_result"
    }
   ],
   "source": [
    "num_comments.describe()"
   ],
   "metadata": {
    "collapsed": false,
    "ExecuteTime": {
     "end_time": "2024-09-25T15:42:27.113256Z",
     "start_time": "2024-09-25T15:42:24.102181Z"
    }
   },
   "id": "b3fa177c9eca0a3d",
   "execution_count": 16
  },
  {
   "cell_type": "code",
   "outputs": [],
   "source": [],
   "metadata": {
    "collapsed": false
   },
   "id": "4a558cfd0755367"
  }
 ],
 "metadata": {
  "kernelspec": {
   "display_name": "Python 3",
   "language": "python",
   "name": "python3"
  },
  "language_info": {
   "codemirror_mode": {
    "name": "ipython",
    "version": 2
   },
   "file_extension": ".py",
   "mimetype": "text/x-python",
   "name": "python",
   "nbconvert_exporter": "python",
   "pygments_lexer": "ipython2",
   "version": "2.7.6"
  }
 },
 "nbformat": 4,
 "nbformat_minor": 5
}
