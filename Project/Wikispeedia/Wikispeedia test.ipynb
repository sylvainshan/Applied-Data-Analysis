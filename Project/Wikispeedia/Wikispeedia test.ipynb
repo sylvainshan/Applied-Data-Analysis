{
 "cells": [
  {
   "cell_type": "code",
   "execution_count": 1,
   "id": "initial_id",
   "metadata": {
    "collapsed": true,
    "ExecuteTime": {
     "end_time": "2024-09-25T15:09:54.337175Z",
     "start_time": "2024-09-25T15:09:53.791442Z"
    }
   },
   "outputs": [],
   "source": [
    "import pandas as pd \n",
    "import numpy as np\n",
    "import matplotlib.pyplot as plt\n",
    "import seaborn as sns\n",
    "from urllib.parse import unquote\n",
    "import requests\n",
    "import tarfile\n",
    "import os"
   ]
  },
  {
   "cell_type": "code",
   "outputs": [],
   "source": [
    "url = 'https://snap.stanford.edu/data/wikispeedia/wikispeedia_paths-and-graph.tar.gz'\n",
    "file_name = 'wikispeedia_paths-and-graph.tar.gz'\n",
    "\n",
    "if not os.path.exists(\"wikispeedia_paths-and-graph\"):\n",
    "    response = requests.get(url, stream=True)\n",
    "    with open(file_name, 'wb') as file:\n",
    "        for chunk in response.iter_content(chunk_size=1024):\n",
    "            if chunk:\n",
    "                file.write(chunk)\n",
    "    \n",
    "    with tarfile.open(file_name, 'r:gz') as tar:\n",
    "        root_folder = os.path.commonprefix(tar.getnames())\n",
    "        tar.extractall(path='.')"
   ],
   "metadata": {
    "collapsed": false,
    "ExecuteTime": {
     "end_time": "2024-09-25T15:10:09.260327Z",
     "start_time": "2024-09-25T15:09:54.339184Z"
    }
   },
   "id": "1d1927095a3d4142",
   "execution_count": 2
  },
  {
   "cell_type": "markdown",
   "source": [
    "### Articles\n",
    "\n",
    "- The list of all articles.\n",
    "- Article names are URL-encoded; e.g., in Java they can be decoded using java.net.URLDecoder.decode(articleName, \"UTF-8\").\n",
    "- FORMAT:   article"
   ],
   "metadata": {
    "collapsed": false
   },
   "id": "d6c31143eef94532"
  },
  {
   "cell_type": "code",
   "outputs": [],
   "source": [
    "articles = pd.read_csv('wikispeedia_paths-and-graph/articles.tsv',  sep='\\t', comment='#', header=None)"
   ],
   "metadata": {
    "collapsed": false,
    "ExecuteTime": {
     "end_time": "2024-09-25T15:10:09.280794Z",
     "start_time": "2024-09-25T15:10:09.262344Z"
    }
   },
   "id": "4167063662f8b053",
   "execution_count": 3
  },
  {
   "cell_type": "code",
   "outputs": [
    {
     "data": {
      "text/plain": "                   articles\n0         Áedán_mac_Gabráin\n1                     Åland\n2             Édouard_Manet\n3                      Éire\n4     Óengus_I_of_the_Picts\n...                     ...\n4599                Zionism\n4600              Zirconium\n4601              Zoroaster\n4602           Zuid-Gelders\n4603                   Zulu\n\n[4604 rows x 1 columns]",
      "text/html": "<div>\n<style scoped>\n    .dataframe tbody tr th:only-of-type {\n        vertical-align: middle;\n    }\n\n    .dataframe tbody tr th {\n        vertical-align: top;\n    }\n\n    .dataframe thead th {\n        text-align: right;\n    }\n</style>\n<table border=\"1\" class=\"dataframe\">\n  <thead>\n    <tr style=\"text-align: right;\">\n      <th></th>\n      <th>articles</th>\n    </tr>\n  </thead>\n  <tbody>\n    <tr>\n      <th>0</th>\n      <td>Áedán_mac_Gabráin</td>\n    </tr>\n    <tr>\n      <th>1</th>\n      <td>Åland</td>\n    </tr>\n    <tr>\n      <th>2</th>\n      <td>Édouard_Manet</td>\n    </tr>\n    <tr>\n      <th>3</th>\n      <td>Éire</td>\n    </tr>\n    <tr>\n      <th>4</th>\n      <td>Óengus_I_of_the_Picts</td>\n    </tr>\n    <tr>\n      <th>...</th>\n      <td>...</td>\n    </tr>\n    <tr>\n      <th>4599</th>\n      <td>Zionism</td>\n    </tr>\n    <tr>\n      <th>4600</th>\n      <td>Zirconium</td>\n    </tr>\n    <tr>\n      <th>4601</th>\n      <td>Zoroaster</td>\n    </tr>\n    <tr>\n      <th>4602</th>\n      <td>Zuid-Gelders</td>\n    </tr>\n    <tr>\n      <th>4603</th>\n      <td>Zulu</td>\n    </tr>\n  </tbody>\n</table>\n<p>4604 rows × 1 columns</p>\n</div>"
     },
     "execution_count": 4,
     "metadata": {},
     "output_type": "execute_result"
    }
   ],
   "source": [
    "articles['articles'] = articles[0].apply(lambda x: unquote(x))\n",
    "articles = articles.drop(0, axis=1)\n",
    "articles"
   ],
   "metadata": {
    "collapsed": false,
    "ExecuteTime": {
     "end_time": "2024-09-25T15:10:09.303246Z",
     "start_time": "2024-09-25T15:10:09.283791Z"
    }
   },
   "id": "aca7193675d61dc9",
   "execution_count": 4
  },
  {
   "cell_type": "markdown",
   "source": [
    "### Categories\n",
    "\n",
    "- Hierarchical categories of all articles.\n",
    "- Many articles have more than one category. Some articles have no category.\n",
    "- Article names are URL-encoded; e.g., in Java they can be decoded using java.net.URLDecoder.decode(articleName, \"UTF-8\").\n",
    "- FORMAT:   article   category"
   ],
   "metadata": {
    "collapsed": false
   },
   "id": "34cc10ca6136b134"
  },
  {
   "cell_type": "code",
   "outputs": [
    {
     "data": {
      "text/plain": "                article                                           category\n0     Áedán_mac_Gabráin  subject.History.British_History.British_Histor...\n1     Áedán_mac_Gabráin                  subject.People.Historical_figures\n2                 Åland                                  subject.Countries\n3                 Åland  subject.Geography.European_Geography.European_...\n4         Édouard_Manet                             subject.People.Artists\n...                 ...                                                ...\n5199          Zirconium        subject.Science.Chemistry.Chemical_elements\n5200          Zoroaster       subject.People.Religious_figures_and_leaders\n5201       Zuid-Gelders               subject.Geography.European_Geography\n5202       Zuid-Gelders          subject.Language_and_literature.Languages\n5203               Zulu                subject.Geography.African_Geography\n\n[5204 rows x 2 columns]",
      "text/html": "<div>\n<style scoped>\n    .dataframe tbody tr th:only-of-type {\n        vertical-align: middle;\n    }\n\n    .dataframe tbody tr th {\n        vertical-align: top;\n    }\n\n    .dataframe thead th {\n        text-align: right;\n    }\n</style>\n<table border=\"1\" class=\"dataframe\">\n  <thead>\n    <tr style=\"text-align: right;\">\n      <th></th>\n      <th>article</th>\n      <th>category</th>\n    </tr>\n  </thead>\n  <tbody>\n    <tr>\n      <th>0</th>\n      <td>Áedán_mac_Gabráin</td>\n      <td>subject.History.British_History.British_Histor...</td>\n    </tr>\n    <tr>\n      <th>1</th>\n      <td>Áedán_mac_Gabráin</td>\n      <td>subject.People.Historical_figures</td>\n    </tr>\n    <tr>\n      <th>2</th>\n      <td>Åland</td>\n      <td>subject.Countries</td>\n    </tr>\n    <tr>\n      <th>3</th>\n      <td>Åland</td>\n      <td>subject.Geography.European_Geography.European_...</td>\n    </tr>\n    <tr>\n      <th>4</th>\n      <td>Édouard_Manet</td>\n      <td>subject.People.Artists</td>\n    </tr>\n    <tr>\n      <th>...</th>\n      <td>...</td>\n      <td>...</td>\n    </tr>\n    <tr>\n      <th>5199</th>\n      <td>Zirconium</td>\n      <td>subject.Science.Chemistry.Chemical_elements</td>\n    </tr>\n    <tr>\n      <th>5200</th>\n      <td>Zoroaster</td>\n      <td>subject.People.Religious_figures_and_leaders</td>\n    </tr>\n    <tr>\n      <th>5201</th>\n      <td>Zuid-Gelders</td>\n      <td>subject.Geography.European_Geography</td>\n    </tr>\n    <tr>\n      <th>5202</th>\n      <td>Zuid-Gelders</td>\n      <td>subject.Language_and_literature.Languages</td>\n    </tr>\n    <tr>\n      <th>5203</th>\n      <td>Zulu</td>\n      <td>subject.Geography.African_Geography</td>\n    </tr>\n  </tbody>\n</table>\n<p>5204 rows × 2 columns</p>\n</div>"
     },
     "execution_count": 5,
     "metadata": {},
     "output_type": "execute_result"
    }
   ],
   "source": [
    "categories = pd.read_csv('wikispeedia_paths-and-graph/categories.tsv',  sep='\\t', comment='#', header=None)\n",
    "categories.columns = ['article', 'category']\n",
    "\n",
    "for col in categories.columns:\n",
    "    categories[col] = categories[col].apply(lambda x:unquote(x))\n",
    "\n",
    "categories"
   ],
   "metadata": {
    "collapsed": false,
    "ExecuteTime": {
     "end_time": "2024-09-25T15:10:09.339872Z",
     "start_time": "2024-09-25T15:10:09.304253Z"
    }
   },
   "id": "bd0d07d2a456acff",
   "execution_count": 5
  },
  {
   "cell_type": "markdown",
   "source": [
    "### Links\n",
    "\n",
    "- The list of all links between articles.\n",
    "- Article names are URL-encoded; e.g., in Java they can be decoded using java.net.URLDecoder.decode(articleName, \"UTF-8\").\n",
    "- FORMAT:   linkSource   linkTarget"
   ],
   "metadata": {
    "collapsed": false
   },
   "id": "aa8252b846140db3"
  },
  {
   "cell_type": "code",
   "outputs": [
    {
     "data": {
      "text/plain": "               linkSource      linkTarget\n0       Áedán_mac_Gabráin            Bede\n1       Áedán_mac_Gabráin         Columba\n2       Áedán_mac_Gabráin       Dál_Riata\n3       Áedán_mac_Gabráin   Great_Britain\n4       Áedán_mac_Gabráin         Ireland\n...                   ...             ...\n119877               Zulu    South_Africa\n119878               Zulu       Swaziland\n119879               Zulu  United_Kingdom\n119880               Zulu          Zambia\n119881               Zulu        Zimbabwe\n\n[119882 rows x 2 columns]",
      "text/html": "<div>\n<style scoped>\n    .dataframe tbody tr th:only-of-type {\n        vertical-align: middle;\n    }\n\n    .dataframe tbody tr th {\n        vertical-align: top;\n    }\n\n    .dataframe thead th {\n        text-align: right;\n    }\n</style>\n<table border=\"1\" class=\"dataframe\">\n  <thead>\n    <tr style=\"text-align: right;\">\n      <th></th>\n      <th>linkSource</th>\n      <th>linkTarget</th>\n    </tr>\n  </thead>\n  <tbody>\n    <tr>\n      <th>0</th>\n      <td>Áedán_mac_Gabráin</td>\n      <td>Bede</td>\n    </tr>\n    <tr>\n      <th>1</th>\n      <td>Áedán_mac_Gabráin</td>\n      <td>Columba</td>\n    </tr>\n    <tr>\n      <th>2</th>\n      <td>Áedán_mac_Gabráin</td>\n      <td>Dál_Riata</td>\n    </tr>\n    <tr>\n      <th>3</th>\n      <td>Áedán_mac_Gabráin</td>\n      <td>Great_Britain</td>\n    </tr>\n    <tr>\n      <th>4</th>\n      <td>Áedán_mac_Gabráin</td>\n      <td>Ireland</td>\n    </tr>\n    <tr>\n      <th>...</th>\n      <td>...</td>\n      <td>...</td>\n    </tr>\n    <tr>\n      <th>119877</th>\n      <td>Zulu</td>\n      <td>South_Africa</td>\n    </tr>\n    <tr>\n      <th>119878</th>\n      <td>Zulu</td>\n      <td>Swaziland</td>\n    </tr>\n    <tr>\n      <th>119879</th>\n      <td>Zulu</td>\n      <td>United_Kingdom</td>\n    </tr>\n    <tr>\n      <th>119880</th>\n      <td>Zulu</td>\n      <td>Zambia</td>\n    </tr>\n    <tr>\n      <th>119881</th>\n      <td>Zulu</td>\n      <td>Zimbabwe</td>\n    </tr>\n  </tbody>\n</table>\n<p>119882 rows × 2 columns</p>\n</div>"
     },
     "execution_count": 6,
     "metadata": {},
     "output_type": "execute_result"
    }
   ],
   "source": [
    "links = pd.read_csv('wikispeedia_paths-and-graph/links.tsv',  sep='\\t', comment='#', header=None)\n",
    "links.columns = ['linkSource', 'linkTarget']\n",
    "\n",
    "for col in links.columns:\n",
    "    links[col] = links[col].apply(lambda x:unquote(x))\n",
    "\n",
    "links"
   ],
   "metadata": {
    "collapsed": false,
    "ExecuteTime": {
     "end_time": "2024-09-25T15:10:09.597190Z",
     "start_time": "2024-09-25T15:10:09.340880Z"
    }
   },
   "id": "8a512afaa3daa237",
   "execution_count": 6
  },
  {
   "cell_type": "markdown",
   "source": [
    "### Finished \n",
    "\n",
    "- Successful (i.e., finished) Wikispeedia paths.\n",
    "- Article names are URL-encoded; e.g., in Java they can be decoded using java.net.URLDecoder.decode(articleName, \"UTF-8\").\n",
    "- Articles in a path are separated by \";\".\n",
    "- Back clicks are represented as \"<\".\n",
    "- Ratings are optionally given by the user after finishing the game and range from 1 (\"easy\") to 5 (\"brutal\").\n",
    "- Missing ratings are represented as \"NULL\".\n",
    "- FORMAT:   hashedIpAddress   timestamp   durationInSec   path   rating"
   ],
   "metadata": {
    "collapsed": false
   },
   "id": "14556feb75d0db8b"
  },
  {
   "cell_type": "code",
   "outputs": [
    {
     "data": {
      "text/plain": "        hashedIpAddress   timestamp  durationInSec  \\\n0      6a3701d319fc3754  1297740409            166   \n1      3824310e536af032  1344753412             88   \n2      415612e93584d30e  1349298640            138   \n3      64dd5cd342e3780c  1265613925             37   \n4      015245d773376aab  1366730828            175   \n...                 ...         ...            ...   \n51313  15a13a1d66ef5456  1349231015             66   \n51314  2ef7ac844cefda58  1300254138            165   \n51315  12863abb7887f890  1385095372            228   \n51316  19f8284371753362  1298792567             56   \n51317  24b84602179de377  1318122701             30   \n\n                                                    path  rating  \n0      14th_century;15th_century;16th_century;Pacific...     NaN  \n1      14th_century;Europe;Africa;Atlantic_slave_trad...     3.0  \n2      14th_century;Niger;Nigeria;British_Empire;Slav...     NaN  \n3         14th_century;Renaissance;Ancient_Greece;Greece     NaN  \n4      14th_century;Italy;Roman_Catholic_Church;HIV;R...     3.0  \n...                                                  ...     ...  \n51313                   Yagan;Ancient_Egypt;Civilization     NaN  \n51314  Yagan;Folklore;Brothers_Grimm;<;19th_century;C...     3.0  \n51315  Yagan;Australia;England;France;United_States;T...     NaN  \n51316  Yarralumla%2C_Australian_Capital_Territory;Aus...     1.0  \n51317                            Ziad_Jarrah;Germany;Jew     NaN  \n\n[51318 rows x 5 columns]",
      "text/html": "<div>\n<style scoped>\n    .dataframe tbody tr th:only-of-type {\n        vertical-align: middle;\n    }\n\n    .dataframe tbody tr th {\n        vertical-align: top;\n    }\n\n    .dataframe thead th {\n        text-align: right;\n    }\n</style>\n<table border=\"1\" class=\"dataframe\">\n  <thead>\n    <tr style=\"text-align: right;\">\n      <th></th>\n      <th>hashedIpAddress</th>\n      <th>timestamp</th>\n      <th>durationInSec</th>\n      <th>path</th>\n      <th>rating</th>\n    </tr>\n  </thead>\n  <tbody>\n    <tr>\n      <th>0</th>\n      <td>6a3701d319fc3754</td>\n      <td>1297740409</td>\n      <td>166</td>\n      <td>14th_century;15th_century;16th_century;Pacific...</td>\n      <td>NaN</td>\n    </tr>\n    <tr>\n      <th>1</th>\n      <td>3824310e536af032</td>\n      <td>1344753412</td>\n      <td>88</td>\n      <td>14th_century;Europe;Africa;Atlantic_slave_trad...</td>\n      <td>3.0</td>\n    </tr>\n    <tr>\n      <th>2</th>\n      <td>415612e93584d30e</td>\n      <td>1349298640</td>\n      <td>138</td>\n      <td>14th_century;Niger;Nigeria;British_Empire;Slav...</td>\n      <td>NaN</td>\n    </tr>\n    <tr>\n      <th>3</th>\n      <td>64dd5cd342e3780c</td>\n      <td>1265613925</td>\n      <td>37</td>\n      <td>14th_century;Renaissance;Ancient_Greece;Greece</td>\n      <td>NaN</td>\n    </tr>\n    <tr>\n      <th>4</th>\n      <td>015245d773376aab</td>\n      <td>1366730828</td>\n      <td>175</td>\n      <td>14th_century;Italy;Roman_Catholic_Church;HIV;R...</td>\n      <td>3.0</td>\n    </tr>\n    <tr>\n      <th>...</th>\n      <td>...</td>\n      <td>...</td>\n      <td>...</td>\n      <td>...</td>\n      <td>...</td>\n    </tr>\n    <tr>\n      <th>51313</th>\n      <td>15a13a1d66ef5456</td>\n      <td>1349231015</td>\n      <td>66</td>\n      <td>Yagan;Ancient_Egypt;Civilization</td>\n      <td>NaN</td>\n    </tr>\n    <tr>\n      <th>51314</th>\n      <td>2ef7ac844cefda58</td>\n      <td>1300254138</td>\n      <td>165</td>\n      <td>Yagan;Folklore;Brothers_Grimm;&lt;;19th_century;C...</td>\n      <td>3.0</td>\n    </tr>\n    <tr>\n      <th>51315</th>\n      <td>12863abb7887f890</td>\n      <td>1385095372</td>\n      <td>228</td>\n      <td>Yagan;Australia;England;France;United_States;T...</td>\n      <td>NaN</td>\n    </tr>\n    <tr>\n      <th>51316</th>\n      <td>19f8284371753362</td>\n      <td>1298792567</td>\n      <td>56</td>\n      <td>Yarralumla%2C_Australian_Capital_Territory;Aus...</td>\n      <td>1.0</td>\n    </tr>\n    <tr>\n      <th>51317</th>\n      <td>24b84602179de377</td>\n      <td>1318122701</td>\n      <td>30</td>\n      <td>Ziad_Jarrah;Germany;Jew</td>\n      <td>NaN</td>\n    </tr>\n  </tbody>\n</table>\n<p>51318 rows × 5 columns</p>\n</div>"
     },
     "execution_count": 7,
     "metadata": {},
     "output_type": "execute_result"
    }
   ],
   "source": [
    "paths_finished_infos = pd.read_csv('wikispeedia_paths-and-graph/paths_finished.tsv',  sep='\\t', comment='#', header=None)\n",
    "paths_finished_infos.columns = ['hashedIpAddress', 'timestamp', 'durationInSec', 'path', 'rating']\n",
    "paths_finished_infos['path'].apply(lambda x: unquote(x))\n",
    "paths_finished_infos"
   ],
   "metadata": {
    "collapsed": false,
    "ExecuteTime": {
     "end_time": "2024-09-25T15:10:09.803354Z",
     "start_time": "2024-09-25T15:10:09.599200Z"
    }
   },
   "id": "614ae724082df58b",
   "execution_count": 7
  },
  {
   "cell_type": "code",
   "outputs": [
    {
     "data": {
      "text/plain": "0        14th_century;15th_century;16th_century;Pacific...\n1        14th_century;Europe;Africa;Atlantic_slave_trad...\n2        14th_century;Niger;Nigeria;British_Empire;Slav...\n3           14th_century;Renaissance;Ancient_Greece;Greece\n4        14th_century;Italy;Roman_Catholic_Church;HIV;R...\n                               ...                        \n51313                     Yagan;Ancient_Egypt;Civilization\n51314    Yagan;Folklore;Brothers_Grimm;<;19th_century;C...\n51315    Yagan;Australia;England;France;United_States;T...\n51316    Yarralumla%2C_Australian_Capital_Territory;Aus...\n51317                              Ziad_Jarrah;Germany;Jew\nName: path, Length: 51318, dtype: object"
     },
     "execution_count": 8,
     "metadata": {},
     "output_type": "execute_result"
    }
   ],
   "source": [
    "paths_finished = paths_finished_infos['path']\n",
    "paths_finished"
   ],
   "metadata": {
    "collapsed": false,
    "ExecuteTime": {
     "end_time": "2024-09-25T15:10:09.813013Z",
     "start_time": "2024-09-25T15:10:09.805364Z"
    }
   },
   "id": "b5766fe31ddb687f",
   "execution_count": 8
  },
  {
   "cell_type": "markdown",
   "source": [
    "### Unfinished Paths\n",
    "\n",
    "- Unsuccessful (i.e., unfinished) Wikispeedia paths.\n",
    "- Article names are URL-encoded; e.g., in Java they can be decoded using java.net.URLDecoder.decode(articleName, \"UTF-8\").\n",
    "- Articles in a path are separated by \";\".\n",
    "- Back clicks are represented as \"<\".\n",
    "- There are two types of quitting:\n",
    "- (1) \"**timeout**\" means that no click was made for 30 minutes;\n",
    "- (2) \"**restart**\" means that the user started a new game without finishing the current one.\n",
    "- FORMAT:   hashedIpAddress   timestamp   durationInSec   path   target   type"
   ],
   "metadata": {
    "collapsed": false
   },
   "id": "d8b827b720e0470c"
  },
  {
   "cell_type": "code",
   "outputs": [
    {
     "data": {
      "text/plain": "        hashedIpAddress   timestamp  durationInSec  \\\n0      2426091a53125110  1297054935           1804   \n1      26141fd878806294  1297055651           1805   \n2      2b015fb8181c48f2  1297090819           1818   \n3      53a53bc244e08a6a  1297094761             49   \n4      53a53bc244e08a6a  1297099105           1808   \n...                 ...         ...            ...   \n24870  109ed71f571d86e9  1389787605            180   \n24871  232f992e57d43e8d  1389787697              6   \n24872  2e09a7224600a7cd  1389798400           1900   \n24873  60af9e2138051b96  1389799481           1903   \n24874  1cf0cbb3281049ab  1389822841            352   \n\n                                                    path            target  \\\n0                                         Obi-Wan_Kenobi         Microsoft   \n1                                          Julius_Caesar           Caracas   \n2                   Malawi;Democracy;Alexander_the_Great     First_Crusade   \n3                                               Paraguay  Mount_St._Helens   \n4                                       Paraguay;Bolivia  Mount_St._Helens   \n...                                                  ...               ...   \n24870  Franz_Kafka;Tuberculosis;World_Health_Organiza...           Cholera   \n24871                                     Modern_history         Hollandic   \n24872  Computer_programming;Linguistics;Culture;Popul...       The_Beatles   \n24873  Jamaica;United_Kingdom;World_War_II;Battle_of_...       Alan_Turing   \n24874          Mark_Antony;Rome;Tennis;Hawk-Eye;Computer           Feather   \n\n          type  \n0      timeout  \n1      timeout  \n2      timeout  \n3      restart  \n4      timeout  \n...        ...  \n24870  restart  \n24871  restart  \n24872  timeout  \n24873  timeout  \n24874  restart  \n\n[24875 rows x 6 columns]",
      "text/html": "<div>\n<style scoped>\n    .dataframe tbody tr th:only-of-type {\n        vertical-align: middle;\n    }\n\n    .dataframe tbody tr th {\n        vertical-align: top;\n    }\n\n    .dataframe thead th {\n        text-align: right;\n    }\n</style>\n<table border=\"1\" class=\"dataframe\">\n  <thead>\n    <tr style=\"text-align: right;\">\n      <th></th>\n      <th>hashedIpAddress</th>\n      <th>timestamp</th>\n      <th>durationInSec</th>\n      <th>path</th>\n      <th>target</th>\n      <th>type</th>\n    </tr>\n  </thead>\n  <tbody>\n    <tr>\n      <th>0</th>\n      <td>2426091a53125110</td>\n      <td>1297054935</td>\n      <td>1804</td>\n      <td>Obi-Wan_Kenobi</td>\n      <td>Microsoft</td>\n      <td>timeout</td>\n    </tr>\n    <tr>\n      <th>1</th>\n      <td>26141fd878806294</td>\n      <td>1297055651</td>\n      <td>1805</td>\n      <td>Julius_Caesar</td>\n      <td>Caracas</td>\n      <td>timeout</td>\n    </tr>\n    <tr>\n      <th>2</th>\n      <td>2b015fb8181c48f2</td>\n      <td>1297090819</td>\n      <td>1818</td>\n      <td>Malawi;Democracy;Alexander_the_Great</td>\n      <td>First_Crusade</td>\n      <td>timeout</td>\n    </tr>\n    <tr>\n      <th>3</th>\n      <td>53a53bc244e08a6a</td>\n      <td>1297094761</td>\n      <td>49</td>\n      <td>Paraguay</td>\n      <td>Mount_St._Helens</td>\n      <td>restart</td>\n    </tr>\n    <tr>\n      <th>4</th>\n      <td>53a53bc244e08a6a</td>\n      <td>1297099105</td>\n      <td>1808</td>\n      <td>Paraguay;Bolivia</td>\n      <td>Mount_St._Helens</td>\n      <td>timeout</td>\n    </tr>\n    <tr>\n      <th>...</th>\n      <td>...</td>\n      <td>...</td>\n      <td>...</td>\n      <td>...</td>\n      <td>...</td>\n      <td>...</td>\n    </tr>\n    <tr>\n      <th>24870</th>\n      <td>109ed71f571d86e9</td>\n      <td>1389787605</td>\n      <td>180</td>\n      <td>Franz_Kafka;Tuberculosis;World_Health_Organiza...</td>\n      <td>Cholera</td>\n      <td>restart</td>\n    </tr>\n    <tr>\n      <th>24871</th>\n      <td>232f992e57d43e8d</td>\n      <td>1389787697</td>\n      <td>6</td>\n      <td>Modern_history</td>\n      <td>Hollandic</td>\n      <td>restart</td>\n    </tr>\n    <tr>\n      <th>24872</th>\n      <td>2e09a7224600a7cd</td>\n      <td>1389798400</td>\n      <td>1900</td>\n      <td>Computer_programming;Linguistics;Culture;Popul...</td>\n      <td>The_Beatles</td>\n      <td>timeout</td>\n    </tr>\n    <tr>\n      <th>24873</th>\n      <td>60af9e2138051b96</td>\n      <td>1389799481</td>\n      <td>1903</td>\n      <td>Jamaica;United_Kingdom;World_War_II;Battle_of_...</td>\n      <td>Alan_Turing</td>\n      <td>timeout</td>\n    </tr>\n    <tr>\n      <th>24874</th>\n      <td>1cf0cbb3281049ab</td>\n      <td>1389822841</td>\n      <td>352</td>\n      <td>Mark_Antony;Rome;Tennis;Hawk-Eye;Computer</td>\n      <td>Feather</td>\n      <td>restart</td>\n    </tr>\n  </tbody>\n</table>\n<p>24875 rows × 6 columns</p>\n</div>"
     },
     "execution_count": 9,
     "metadata": {},
     "output_type": "execute_result"
    }
   ],
   "source": [
    "paths_unfinished_infos = pd.read_csv('wikispeedia_paths-and-graph/paths_unfinished.tsv',  sep='\\t', comment='#', header=None)\n",
    "paths_unfinished_infos.columns = ['hashedIpAddress', 'timestamp', 'durationInSec', 'path', 'target', 'type']\n",
    "paths_unfinished_infos['path'].apply(lambda x: unquote(x))\n",
    "paths_unfinished_infos"
   ],
   "metadata": {
    "collapsed": false,
    "ExecuteTime": {
     "end_time": "2024-09-25T15:10:09.968681Z",
     "start_time": "2024-09-25T15:10:09.814022Z"
    }
   },
   "id": "a6803d25fe25218b",
   "execution_count": 9
  },
  {
   "cell_type": "code",
   "outputs": [
    {
     "data": {
      "text/plain": "0                                           Obi-Wan_Kenobi\n1                                            Julius_Caesar\n2                     Malawi;Democracy;Alexander_the_Great\n3                                                 Paraguay\n4                                         Paraguay;Bolivia\n                               ...                        \n24870    Franz_Kafka;Tuberculosis;World_Health_Organiza...\n24871                                       Modern_history\n24872    Computer_programming;Linguistics;Culture;Popul...\n24873    Jamaica;United_Kingdom;World_War_II;Battle_of_...\n24874            Mark_Antony;Rome;Tennis;Hawk-Eye;Computer\nName: path, Length: 24875, dtype: object"
     },
     "execution_count": 10,
     "metadata": {},
     "output_type": "execute_result"
    }
   ],
   "source": [
    "paths_unfinished = paths_unfinished_infos['path']\n",
    "paths_unfinished"
   ],
   "metadata": {
    "collapsed": false,
    "ExecuteTime": {
     "end_time": "2024-09-25T15:10:09.980626Z",
     "start_time": "2024-09-25T15:10:09.970691Z"
    }
   },
   "id": "8174465700eae87",
   "execution_count": 10
  },
  {
   "cell_type": "markdown",
   "source": [
    "### Shortest Path Distance Matrix\n",
    "\n",
    "- The shortest-path distances between all pairs of articles, computed using the Floyd-Warshall algorithm.\n",
    "- FORMAT: One row per article (the \"source\" of the shortest paths), in the same order as in articles.tsv. \n",
    "- Each row contains the distances from the source to all articles (the \"targets\" of the shortest paths),\n",
    "- again in the order of articles.tsv.\n",
    "- The shortest-path distance is represented as a single digit, with no separators between values. This\n",
    "- is possible because the longest shortest path happens to be of length 9.\n",
    "- An underscore (\"_\") is used to indicate that the target cannot be reached from the source."
   ],
   "metadata": {
    "collapsed": false
   },
   "id": "f4a55b37f3788e56"
  },
  {
   "cell_type": "code",
   "outputs": [],
   "source": [
    "spdm = pd.read_csv('wikispeedia_paths-and-graph/shortest-path-distance-matrix.txt', comment='#', header=None)\n",
    "spdm.columns = ['distance']\n",
    "spdm = spdm['distance'].apply(lambda x: pd.Series(list(x)))"
   ],
   "metadata": {
    "collapsed": false,
    "ExecuteTime": {
     "end_time": "2024-09-25T15:10:13.845388Z",
     "start_time": "2024-09-25T15:10:09.985617Z"
    }
   },
   "id": "aa089625c528d46e",
   "execution_count": 11
  },
  {
   "cell_type": "markdown",
   "source": [],
   "metadata": {
    "collapsed": false
   },
   "id": "c6944d998499a1c0"
  },
  {
   "cell_type": "code",
   "outputs": [
    {
     "name": "stdout",
     "output_type": "stream",
     "text": [
      "[['0' '_' '_' ... '4' '4' '2']\n",
      " ['_' '0' '_' ... '3' '3' '3']\n",
      " ['_' '_' '0' ... '3' '3' '3']\n",
      " ...\n",
      " ['_' '_' '_' ... '0' '3' '3']\n",
      " ['_' '_' '_' ... '4' '0' '3']\n",
      " ['_' '_' '_' ... '3' '3' '0']]\n"
     ]
    }
   ],
   "source": [
    "spdm_np = spdm.to_numpy()\n",
    "print(spdm_np)"
   ],
   "metadata": {
    "collapsed": false,
    "ExecuteTime": {
     "end_time": "2024-09-25T15:10:13.853802Z",
     "start_time": "2024-09-25T15:10:13.847396Z"
    }
   },
   "id": "19b61234635becbd",
   "execution_count": 12
  },
  {
   "cell_type": "code",
   "outputs": [],
   "source": [],
   "metadata": {
    "collapsed": false,
    "ExecuteTime": {
     "end_time": "2024-09-25T15:10:13.860599Z",
     "start_time": "2024-09-25T15:10:13.857812Z"
    }
   },
   "id": "7a2e0fb9fa4da5d1",
   "execution_count": 12
  }
 ],
 "metadata": {
  "kernelspec": {
   "display_name": "Python 3",
   "language": "python",
   "name": "python3"
  },
  "language_info": {
   "codemirror_mode": {
    "name": "ipython",
    "version": 2
   },
   "file_extension": ".py",
   "mimetype": "text/x-python",
   "name": "python",
   "nbconvert_exporter": "python",
   "pygments_lexer": "ipython2",
   "version": "2.7.6"
  }
 },
 "nbformat": 4,
 "nbformat_minor": 5
}
