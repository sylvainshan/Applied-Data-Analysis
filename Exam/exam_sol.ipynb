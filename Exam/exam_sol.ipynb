{
 "cells": [
  {
   "cell_type": "markdown",
   "metadata": {},
   "source": [
    "# ADA final exam (Fall 2024)"
   ]
  },
  {
   "cell_type": "markdown",
   "metadata": {},
   "source": [
    "This exam consists of 2 tasks. The two tasks are independent of each other. You can solve them in any order."
   ]
  },
  {
   "cell_type": "markdown",
   "metadata": {},
   "source": [
    "## Task 1: Natural Language Processing (50 pts)\n",
    "This part of the exam will analyze a real-world negotiation dataset:\n",
    "\n",
    "Two participants take the role of campsite neighbors and negotiate for Food, Water, and Firewood packages, based on their individual preferences and requirements. This design keeps the task tractable, while still facilitating linguistically rich and personal conversations.\n",
    "\n",
    "At the end of each negotiation, both negotiators receive an outcome score (`outcome`) reflecting their success in achieving their goals. The dataset is divided into two data frames:\n",
    "\n",
    "1. `df_negotiations`, with columns:\n",
    "    - `negotiation_id`: the negotiation identifier\n",
    "    - `agent`: the agent active in that turn, either `mt_agent_1` or `mt_agent_2` (first and second to interact)\n",
    "    - `message`: the message sent to the other agent\n",
    "    - `turn`: the negotiation turn\n",
    "2. `df_meta`, meta information for each negotiation with the outcome and agent background:\n",
    "    - `gender`: (male, female, other)\n",
    "    - `age`: integer\n",
    "    - `outcome`: integer\n",
    "\n",
    "We are interested in finding out: what makes a good (/bad) negotiator?"
   ]
  },
  {
   "cell_type": "markdown",
   "metadata": {},
   "source": [
    "### Part 1: Coding Questions (29 pt)"
   ]
  },
  {
   "cell_type": "code",
   "execution_count": null,
   "metadata": {},
   "outputs": [],
   "source": [
    "import pandas as pd\n",
    "\n",
    "df_negotiations = pd.read_csv('negotiations.csv')\n",
    "df_negotiations.head()"
   ]
  },
  {
   "cell_type": "code",
   "execution_count": null,
   "metadata": {},
   "outputs": [],
   "source": [
    "df_meta = pd.read_csv('negotiations_meta.csv')\n",
    "df_meta.head()"
   ]
  },
  {
   "cell_type": "markdown",
   "metadata": {},
   "source": [
    "**1.1 (2 pt)**\n",
    "/Discussion:/ We are interested in analyzing negotiation outcomes by analyzing language usage. In order to use TF-IDF to accomplish this, we will treat all turns from one negotiator in a single negotiation as a \"document\". Why would this definition of \"document\" be preferred over the following two alternatives? Give at least one argument per alternative.\n",
    "\n",
    "- A) Each individual turn is a document\n",
    "- B) The entire negotiation dialogue of both negotiators is a document"
   ]
  },
  {
   "cell_type": "markdown",
   "metadata": {},
   "source": [
    "**Grading instruction**: [2 pt]\n",
    "1. [A] Provides sufficient text length for meaningful TF-IDF statistics\n",
    "2. [A, B] Controls for individual negotiator\n",
    "3. [B] Allows for analyses based on meta information like, gender, age, and starting position.\n",
    "4. Other reasonable answers."
   ]
  },
  {
   "cell_type": "markdown",
   "metadata": {},
   "source": [
    "**1.2 (3 pt)**\n",
    "\n",
    "[A, 1 pt] Use the negotiation dataset to create a new dataframe called `df_document` with the following columns:\n",
    "- `negotiation_id`\n",
    "- `agent`\n",
    "- `document`\n",
    "\n",
    "Here, document is defined as described in question 1.1. That is: concatonate messages into a single string and split by the special character `\"\\n\"`."
   ]
  },
  {
   "cell_type": "code",
   "execution_count": null,
   "metadata": {},
   "outputs": [],
   "source": [
    "df_document = (\n",
    "    df_negotiations\n",
    "    .groupby(['negotiation_id', 'agent'])['message']\n",
    "    .apply(lambda messages: '\\n'.join(messages))\n",
    "    .reset_index()\n",
    "    .rename(columns={'message': 'document'})\n",
    ")\n",
    "\n",
    "df_document.head()"
   ]
  },
  {
   "cell_type": "markdown",
   "metadata": {},
   "source": [
    "**Grading Instruction.** [1pt]\n",
    "- [1 pt] created `df_document` correctly"
   ]
  },
  {
   "cell_type": "markdown",
   "metadata": {},
   "source": [
    "[B, 2pt] Next, merge this new dataframe with the `df_meta` dataframe. Print the the size and first five rows of the final dataframe"
   ]
  },
  {
   "cell_type": "code",
   "execution_count": null,
   "metadata": {},
   "outputs": [
    {
     "name": "stdout",
     "output_type": "stream",
     "text": [
      "size: 12336\n"
     ]
    },
    {
     "data": {
      "text/html": [
       "<div>\n",
       "<style scoped>\n",
       "    .dataframe tbody tr th:only-of-type {\n",
       "        vertical-align: middle;\n",
       "    }\n",
       "\n",
       "    .dataframe tbody tr th {\n",
       "        vertical-align: top;\n",
       "    }\n",
       "\n",
       "    .dataframe thead th {\n",
       "        text-align: right;\n",
       "    }\n",
       "</style>\n",
       "<table border=\"1\" class=\"dataframe\">\n",
       "  <thead>\n",
       "    <tr style=\"text-align: right;\">\n",
       "      <th></th>\n",
       "      <th>negotiation_id</th>\n",
       "      <th>agent</th>\n",
       "      <th>document</th>\n",
       "      <th>age</th>\n",
       "      <th>gender</th>\n",
       "      <th>outcome</th>\n",
       "    </tr>\n",
       "  </thead>\n",
       "  <tbody>\n",
       "    <tr>\n",
       "      <th>0</th>\n",
       "      <td>0</td>\n",
       "      <td>mturk_agent_1</td>\n",
       "      <td>Hello! 🙂 Let's work together on a deal for the...</td>\n",
       "      <td>43</td>\n",
       "      <td>male</td>\n",
       "      <td>19</td>\n",
       "    </tr>\n",
       "    <tr>\n",
       "      <th>1</th>\n",
       "      <td>0</td>\n",
       "      <td>mturk_agent_2</td>\n",
       "      <td>Hey! I'd like some more firewood to keep my do...</td>\n",
       "      <td>22</td>\n",
       "      <td>female</td>\n",
       "      <td>18</td>\n",
       "    </tr>\n",
       "    <tr>\n",
       "      <th>2</th>\n",
       "      <td>1</td>\n",
       "      <td>mturk_agent_1</td>\n",
       "      <td>I am good. I am pretty excited for the trip th...</td>\n",
       "      <td>24</td>\n",
       "      <td>female</td>\n",
       "      <td>19</td>\n",
       "    </tr>\n",
       "    <tr>\n",
       "      <th>3</th>\n",
       "      <td>1</td>\n",
       "      <td>mturk_agent_2</td>\n",
       "      <td>Hello. How are you?\\nVery excited. It will be ...</td>\n",
       "      <td>43</td>\n",
       "      <td>female</td>\n",
       "      <td>17</td>\n",
       "    </tr>\n",
       "    <tr>\n",
       "      <th>4</th>\n",
       "      <td>2</td>\n",
       "      <td>mturk_agent_1</td>\n",
       "      <td>Hi! How are you?! You excited for your camping...</td>\n",
       "      <td>30</td>\n",
       "      <td>female</td>\n",
       "      <td>14</td>\n",
       "    </tr>\n",
       "  </tbody>\n",
       "</table>\n",
       "</div>"
      ],
      "text/plain": [
       "   negotiation_id          agent  \\\n",
       "0               0  mturk_agent_1   \n",
       "1               0  mturk_agent_2   \n",
       "2               1  mturk_agent_1   \n",
       "3               1  mturk_agent_2   \n",
       "4               2  mturk_agent_1   \n",
       "\n",
       "                                            document  age  gender  outcome  \n",
       "0  Hello! 🙂 Let's work together on a deal for the...   43    male       19  \n",
       "1  Hey! I'd like some more firewood to keep my do...   22  female       18  \n",
       "2  I am good. I am pretty excited for the trip th...   24  female       19  \n",
       "3  Hello. How are you?\\nVery excited. It will be ...   43  female       17  \n",
       "4  Hi! How are you?! You excited for your camping...   30  female       14  "
      ]
     },
     "metadata": {},
     "output_type": "display_data"
    }
   ],
   "source": [
    "df_document_m = pd.merge(df_document, df_meta, on=[\"negotiation_id\", \"agent\"], how=\"inner\")\n",
    "print(f\"size: {df_document_m.size}\")\n",
    "df_document_m.head()"
   ]
  },
  {
   "cell_type": "markdown",
   "metadata": {},
   "source": [
    "**Grading Instruction.** [2 pt]\n",
    "- [1 pt] correct size\n",
    "- [1 pt] correct merge"
   ]
  },
  {
   "cell_type": "markdown",
   "metadata": {},
   "source": [
    "**1.3 (7 pt)**\n",
    "We would like to analyze the difference between \"best\" and \"worst\" performers based on `outcome`, top and bottom 10% respectively.\n",
    "\n",
    "[A, 2 pt] Find the top and bottom 10% thresholds for the `outcome` columns and print them."
   ]
  },
  {
   "cell_type": "code",
   "execution_count": null,
   "metadata": {},
   "outputs": [
    {
     "name": "stdout",
     "output_type": "stream",
     "text": [
      "best 10% threshold:  23.00\n",
      "worst 10% threshold:  15.50\n"
     ]
    }
   ],
   "source": [
    "top_10_threshold = df_document_m['outcome'].quantile(0.9)\n",
    "bottom_10_threshold = df_document_m['outcome'].quantile(0.1)\n",
    "\n",
    "print(f\"best 10% threshold: {top_10_threshold: .2f}\")\n",
    "print(f\"worst 10% threshold: {bottom_10_threshold: .2f}\")"
   ]
  },
  {
   "cell_type": "markdown",
   "metadata": {},
   "source": [
    "**Grading Instruction.** [2pt]\n",
    "- [1 pt] correct threshold bottom 10%\n",
    "- [1 pt] correct threshold top 10%"
   ]
  },
  {
   "cell_type": "markdown",
   "metadata": {},
   "source": [
    "[B, 1pt] Create a TF-IDF matrix using the `TfidfVectorizer` form `sklearn`, setting `max_features=100` and `stop_words=\"english\"`. Print the resulting TF-IDF matrix shape."
   ]
  },
  {
   "cell_type": "code",
   "execution_count": null,
   "metadata": {},
   "outputs": [
    {
     "name": "stdout",
     "output_type": "stream",
     "text": [
      "(2056, 100)\n"
     ]
    }
   ],
   "source": [
    "from sklearn.feature_extraction.text import TfidfVectorizer\n",
    "\n",
    "vectorizer = TfidfVectorizer(max_features=100, stop_words=\"english\")\n",
    "tfidf_matrix = vectorizer.fit_transform(df_document_m['document'])\n",
    "\n",
    "print(tfidf_matrix.shape)"
   ]
  },
  {
   "cell_type": "markdown",
   "metadata": {},
   "source": [
    "**Grading Instruction.** [1pt]\n",
    "- [1 pt] correct tfidf matrix and size"
   ]
  },
  {
   "cell_type": "markdown",
   "metadata": {},
   "source": [
    "[C, 4pt] Use your thresholds and the TF-IDF matrix to print the top 10 terms for each type of negotiatior (i.e., the best and worst performing negotiators from question 1.3.A)."
   ]
  },
  {
   "cell_type": "code",
   "execution_count": null,
   "metadata": {},
   "outputs": [
    {
     "name": "stdout",
     "output_type": "stream",
     "text": [
      "best 10% negotiatiors top 10 terms: ['firewood', 'food', 'water', 'deal', 'need', 'extra', 'okay', 'want', 'submit', 'packages']\n",
      "worst 10% negotiatiors top 10 terms: ['food', 'water', 'firewood', 'need', 'deal', 'extra', 'packages', 'like', 'package', 'submit']\n"
     ]
    }
   ],
   "source": [
    "top_negotiators = df_document_m[df_document_m['outcome'] > top_10_threshold].index\n",
    "bottom_negotiators = df_document_m[df_document_m['outcome'] < bottom_10_threshold].index\n",
    "\n",
    "# scores for each term\n",
    "top_tfidf_scores = tfidf_matrix[top_negotiators].mean(axis=0).A1.argsort()\n",
    "bottom_tfidf_scores = tfidf_matrix[bottom_negotiators].mean(axis=0).A1.argsort()\n",
    "\n",
    "all_terms = vectorizer.get_feature_names_out() \n",
    "top_10_terms = [all_terms[i] for i in top_tfidf_scores[-10:][::-1]]\n",
    "bottom_10_terms = [all_terms[i] for i in bottom_tfidf_scores[-10:][::-1]]\n",
    "\n",
    "\n",
    "print(f\"best 10% negotiatiors top 10 terms: {top_10_terms}\")\n",
    "print(f\"worst 10% negotiatiors top 10 terms: {bottom_10_terms}\")"
   ]
  },
  {
   "cell_type": "markdown",
   "metadata": {},
   "source": [
    "**Grading Instruction.** [4pt]\n",
    "- [2 pt] correct top terms for worst negotiators\n",
    "- [2 pt] correct top terms for best negotiators"
   ]
  },
  {
   "cell_type": "markdown",
   "metadata": {},
   "source": [
    "**1.4 (8 pt)**\n",
    "You never get a second chance at a first impression! Let's investigate if the same goes for negotiations...\n",
    "\n",
    "[A, 1pt] Create a new df_document that only takes into account the first three (3) turns of each negotiator in a negotiation. Again, merge on the df_meta dataframe and print the resulting size."
   ]
  },
  {
   "cell_type": "code",
   "execution_count": null,
   "metadata": {},
   "outputs": [
    {
     "name": "stdout",
     "output_type": "stream",
     "text": [
      "size: 12336\n"
     ]
    }
   ],
   "source": [
    "df_document3 = (\n",
    "    df_negotiations[df_negotiations['turn'] < 3]\n",
    "    .groupby(['negotiation_id', 'agent'])['message']\n",
    "    .apply(lambda messages: '\\n'.join(messages))\n",
    "    .reset_index()\n",
    "    .rename(columns={'message': 'document'})\n",
    ")\n",
    "\n",
    "df_document3_m = pd.merge(df_document3, df_meta, on=[\"negotiation_id\", \"agent\"], how=\"inner\")\n",
    "print(f'size: {df_document3_m.size}')"
   ]
  },
  {
   "cell_type": "markdown",
   "metadata": {},
   "source": [
    "**Grading Instruction.** [1pt]\n",
    "- [1 pt] correctly created the dataframe."
   ]
  },
  {
   "cell_type": "markdown",
   "metadata": {},
   "source": [
    "[B, 1pt] Calculate the median negotiation outcome. Then, add a column called success to the df_document dataframe that is 1 if the outcome column is more than the median and 0 otherwise. Print the median outcome."
   ]
  },
  {
   "cell_type": "code",
   "execution_count": null,
   "metadata": {},
   "outputs": [
    {
     "name": "stdout",
     "output_type": "stream",
     "text": [
      "median outcome: 19.0\n"
     ]
    }
   ],
   "source": [
    "median_outcome = df_document3_m['outcome'].median()\n",
    "\n",
    "df_document3_m['success'] = (df_document3_m['outcome'] > median_outcome).astype(int)\n",
    "\n",
    "print(f\"median outcome: {median_outcome}\")"
   ]
  },
  {
   "cell_type": "markdown",
   "metadata": {},
   "source": [
    "**Grading Instruction.** [1pt]\n",
    "- [1 pt] correct median outcome"
   ]
  },
  {
   "cell_type": "markdown",
   "metadata": {},
   "source": [
    "[C, 2pt] Create a TF-IDF matrix called `X` based on `df_document` using the following settings:\n",
    "\n",
    "`max_features=100, stop_words=\"english, ngram_range=(1, 2)`\n",
    "\n",
    "Additionally, create a variable `y` that corresponds to the success column. Finally, use `sklearn.model_selection.train_test_split` to split your data into a train and test set using parameters `test_size=0.2` and `random_state=99`.\n",
    "\n",
    "Print the shape of the TF-IDF and the shape of your train and test sets."
   ]
  },
  {
   "cell_type": "code",
   "execution_count": null,
   "metadata": {},
   "outputs": [
    {
     "name": "stdout",
     "output_type": "stream",
     "text": [
      "TF-IDF matrix shape: (2056, 100)\n",
      "TF-IDF train matrix shape: (1644, 100)\n",
      "y train shape: (1644,)\n"
     ]
    }
   ],
   "source": [
    "from sklearn.model_selection import train_test_split\n",
    "\n",
    "vectorizer = TfidfVectorizer(max_features=100, stop_words='english', ngram_range=(1, 2))\n",
    "X = vectorizer.fit_transform(df_document3_m['document'])\n",
    "y = df_document3_m['success']\n",
    "\n",
    "X_train, X_test, y_train, y_test = train_test_split(X, y, test_size=0.2, random_state=99)\n",
    "\n",
    "\n",
    "print(f\"TF-IDF matrix shape: {X.shape}\")\n",
    "print(f\"TF-IDF train matrix shape: {X_train.shape}\")\n",
    "print(f\"y train shape: {y_train.shape}\")"
   ]
  },
  {
   "cell_type": "markdown",
   "metadata": {},
   "source": [
    "**Grading Instruction.** [2pt]\n",
    "- [1 pt] correct tfidf matrix\n",
    "- [1 pt] correct train shapes"
   ]
  },
  {
   "cell_type": "markdown",
   "metadata": {},
   "source": [
    "[D, 2pt] Use your prepared data to train a logistic regression model (`sklearn.linear_model.LogisticRegression`). Then, with the trained model predict on the test set and print a classification report (`sklearn.metrics.classification_report`)."
   ]
  },
  {
   "cell_type": "code",
   "execution_count": null,
   "metadata": {},
   "outputs": [
    {
     "name": "stdout",
     "output_type": "stream",
     "text": [
      "              precision    recall  f1-score   support\n",
      "\n",
      " success = 0       0.64      0.94      0.76       264\n",
      " success = 1       0.27      0.04      0.07       148\n",
      "\n",
      "    accuracy                           0.62       412\n",
      "   macro avg       0.45      0.49      0.41       412\n",
      "weighted avg       0.51      0.62      0.51       412\n",
      "\n"
     ]
    }
   ],
   "source": [
    "from sklearn.linear_model import LogisticRegression\n",
    "from sklearn.metrics import classification_report\n",
    "\n",
    "logistic_model = LogisticRegression(random_state=99)\n",
    "logistic_model.fit(X_train, y_train)\n",
    "\n",
    "y_pred = logistic_model.predict(X_test)\n",
    "\n",
    "report = classification_report(y_test, y_pred, target_names=[\"success = 0\", \"success = 1\"])\n",
    "print(report)"
   ]
  },
  {
   "cell_type": "markdown",
   "metadata": {},
   "source": [
    "**Grading Instruction.** [2 pt]\n",
    "- [1 pt] successfully trained logistic regression model\n",
    "- [1 pt] printed the classification report"
   ]
  },
  {
   "cell_type": "markdown",
   "metadata": {},
   "source": [
    "[E, 2pt] Use the weights of your trained model to show which terms mostly strongly correlate with high and low outcomes. Print the best five terms for each."
   ]
  },
  {
   "cell_type": "code",
   "execution_count": null,
   "metadata": {},
   "outputs": [
    {
     "name": "stdout",
     "output_type": "stream",
     "text": [
      "Top 5 terms for high outcomes: ['water', 'items', 'nice', 'night', 'stay']\n",
      "Top 5 terms for low outcomes: ['know', 'extra firewood', 'food water', 'today', 'sure']\n"
     ]
    }
   ],
   "source": [
    "weights = logistic_model.coef_[0]\n",
    "\n",
    "top_positive_indices = weights.argsort()[-5:][::-1]\n",
    "top_negative_indices = weights.argsort()[:5]\n",
    "\n",
    "all_terms = vectorizer.get_feature_names_out() \n",
    "top_positive_terms = [all_terms[i] for i in top_positive_indices]\n",
    "top_negative_terms = [all_terms[i] for i in top_negative_indices]\n",
    "\n",
    "print(f\"Top 5 terms for high outcomes: {top_positive_terms}\")\n",
    "print(f\"Top 5 terms for low outcomes: {top_negative_terms}\")"
   ]
  },
  {
   "cell_type": "markdown",
   "metadata": {},
   "source": [
    "**Grading Instruction.** [2pt]\n",
    "- [1 pt] correct top 5 terms for high outcomes\n",
    "- [1 pt] correct top 5 terms for low outcomes"
   ]
  },
  {
   "cell_type": "markdown",
   "metadata": {},
   "source": [
    "**1.5 (9 pt)**\n",
    "You are concerned about potential “confounding” factors for your results in the previous question. Specifically, you would like to investigate the effect of “gender” on the outcomes.\n",
    "\n",
    "[A, 3pt] Visualize the outcomes stratified by gender using a bar plot with standard deviation around the mean. Make sure you use clear x- and y-axis labels, a title, and a legend."
   ]
  },
  {
   "cell_type": "code",
   "execution_count": null,
   "metadata": {},
   "outputs": [
    {
     "data": {
      "image/png": "[encoded data removed]",
      "text/plain": [
       "<Figure size 640x480 with 1 Axes>"
      ]
     },
     "metadata": {},
     "output_type": "display_data"
    }
   ],
   "source": [
    "df_meta_gp_gender = df_meta.groupby('gender')['outcome'].aggregate(['mean', 'std'])\n",
    "df_meta_gp_gender.plot.bar(y='mean', yerr='std', \n",
    "                           title=\"Mean Negotiation Outcomes Stratified by Gender\",\n",
    "                           ylabel=\"negotiation outcome\",\n",
    "                           label=\"mean\",\n",
    "                          );"
   ]
  },
  {
   "cell_type": "markdown",
   "metadata": {},
   "source": [
    "**Grading Instruction.** [3pt]\n",
    "- [1 pt] has x- an y-axis labels and title\n",
    "- [1 pt] has clear legend OR x-ticks (like plot above)\n",
    "- [1 pt] has standard deviation around the mean"
   ]
  },
  {
   "cell_type": "markdown",
   "metadata": {},
   "source": [
    "[B, 2pt] Perform a T-Test with a confidence interval of 0.95 to check if the outcomes based on gender are statistically significantly different. Print the resulting t-statistic, the p-value, and your interpretation of the result."
   ]
  },
  {
   "cell_type": "code",
   "execution_count": null,
   "metadata": {},
   "outputs": [
    {
     "name": "stdout",
     "output_type": "stream",
     "text": [
      "t_stat: -0.15192015475218326\n",
      "p_value: 0.8792650642656046\n",
      "\n",
      ">There is NOT a statistically significant difference in negotiation outcomes between genders\n"
     ]
    }
   ],
   "source": [
    "from scipy.stats import ttest_ind\n",
    "\n",
    "male_outcomes = df_document3_m[df_document3_m['gender'] == 'male']['outcome']\n",
    "female_outcomes = df_document3_m[df_document3_m['gender'] == 'female']['outcome']\n",
    "\n",
    "t_stat, p_value = ttest_ind(male_outcomes, female_outcomes, equal_var=False)\n",
    "\n",
    "print(f\"t_stat: {t_stat}\\np_value: {p_value}\\n\")\n",
    "\n",
    "if p_value < 0.05:\n",
    "    print(f'>There IS a statistically significant difference in negotiation outcomes between genders')\n",
    "else:\n",
    "    print(f'>There is NOT a statistically significant difference in negotiation outcomes between genders')"
   ]
  },
  {
   "cell_type": "markdown",
   "metadata": {},
   "source": [
    "**Grading Instruction.** [2pt]\n",
    "- [1 pt] correct t_statistic and p_value\n",
    "- [1 pt] correct interpretation"
   ]
  },
  {
   "cell_type": "markdown",
   "metadata": {},
   "source": [
    "[C, 2pt] Finally, we would like to test if the gender distribution between high and low negotiation performers is significantly different. Please perform a chi-square test on the gender distribution of those negotiators scoring above the median outcome. Use a confidence interval of 0.95 and print the resulting chi-square statistic, p-value, and your interpretation of the result."
   ]
  },
  {
   "cell_type": "code",
   "execution_count": null,
   "metadata": {},
   "outputs": [
    {
     "name": "stdout",
     "output_type": "stream",
     "text": [
      "chi2_stat: 0.022622042552371116\n",
      "p_value: 0.8804441039860444\n",
      "\n",
      ">There is NOT a statistically significant difference in gender distribution between high and low negotiation performers\n"
     ]
    }
   ],
   "source": [
    "from scipy.stats import chi2_contingency\n",
    "\n",
    "contingency_table = pd.crosstab(\n",
    "    df_document3_m['gender'],\n",
    "    df_document3_m['success']\n",
    ")\n",
    "\n",
    "chi2_stat, p_value, _, _ = chi2_contingency(contingency_table)\n",
    "\n",
    "print(f\"chi2_stat: {chi2_stat}\\np_value: {p_value}\\n\")\n",
    "\n",
    "if p_value < 0.05:\n",
    "    print(f'>There IS a statistically significant difference in gender distribution between high and low negotiation performers')\n",
    "else:\n",
    "    print(f'>There is NOT a statistically significant difference in gender distribution between high and low negotiation performers')"
   ]
  },
  {
   "cell_type": "markdown",
   "metadata": {},
   "source": [
    "**Grading Instruction.** [2pt]\n",
    "- [1 pt] correct chi2_stat and p_value\n",
    "- [1 pt] correct interpretation"
   ]
  },
  {
   "cell_type": "markdown",
   "metadata": {},
   "source": [
    "[D, 2pt] /Discuss:/ In addition to the gender attribute, could you think of other measurable factors in this dataset that could be tested as confounders? List at least two more and explain why."
   ]
  },
  {
   "cell_type": "markdown",
   "metadata": {},
   "source": [
    "**Grading Instruction.** [2pt]\n",
    "- Age of negotiator/counter-negotiator\n",
    "- Order, i.e., who starts the negotiation\n",
    "- Average sentence length\n",
    "- Other reasonable factors\n",
    "\n",
    "for each correct factor 1pt up to 2pt in total. If more than 2 factors are give, subtract 1pt for each *incorrect* factor."
   ]
  },
  {
   "cell_type": "markdown",
   "metadata": {},
   "source": [
    "### Part 2: Insight Questions (15 pt)"
   ]
  },
  {
   "cell_type": "markdown",
   "metadata": {},
   "source": [
    "**2.1 (3pt)**\n",
    "In the context of analyzing negotiation turns, why would TF-IDF be more suitable than simple word frequency counts when trying to identify distinctive communication patterns between successful and unsuccessful negotiations?"
   ]
  },
  {
   "cell_type": "markdown",
   "metadata": {},
   "source": [
    "**Grading Instruction**. [3 pt]\n",
    "\n",
    "[3 pt] \n",
    "TF-IDF would be more suitable because it reduces the impact of commonly used words in negotiations (like \"I\", \"agree\", \"think\") while highlighting terms that are uniquely associated with specific negotiation outcomes. The IDF component helps identify words that are truly distinctive to successful or unsuccessful negotiations, rather than just counting frequent but uninformative terms. This allows for better identification of meaningful negotiation strategies and patterns."
   ]
  },
  {
   "cell_type": "markdown",
   "metadata": {},
   "source": [
    "**2.2 (2pt)**\n",
    "How would you modify the standard TF-IDF implementation to account for the temporal nature of negotiation turns? Consider that early turns might be more important for setting the tone of the negotiation than later turns."
   ]
  },
  {
   "cell_type": "markdown",
   "metadata": {},
   "source": [
    "**Grading Instruction.** [2 pt]\n",
    "\n",
    "A modified TF-IDF implementation could incorporate turn position weights by:\n",
    "\n",
    "1. Multiplying the TF-IDF scores by a decay function based on turn position\n",
    "2. Creating separate TF-IDF matrices for different phases of the negotiation (opening, middle, closing)\n",
    "3. Using a weighted average where earlier turns receive higher weights in the final TF-IDF calculation\n",
    "This would help capture the varying importance of terms based on when they appear in the negotiation sequence.\n",
    "4. Another reasonable proposal\n",
    "\n",
    "Full points if one of [1-4] is named. Partial point of up to 1pt."
   ]
  },
  {
   "cell_type": "markdown",
   "metadata": {},
   "source": [
    "**2.3 (3 pt)**\n",
    "In our negotiation dataset, successful negotiators might simply write longer messages. How could this create a misleading interpretation of our TF-IDF results, and what would be a simple way to test for this potential bias?"
   ]
  },
  {
   "cell_type": "markdown",
   "metadata": {},
   "source": [
    "**Grading instruction**. [3 pt]  \n",
    "The TF-IDF scores could be artificially higher for successful negotiators simply because they write more, not because their word choices are more effective. To test this, we should calculate the correlation between message length and outcome_points, and potentially normalize our TF-IDF scores by document length if a strong correlation exists."
   ]
  },
  {
   "cell_type": "markdown",
   "metadata": {},
   "source": [
    "**2.4 (3pt)**\n",
    "In our negotiation dataset, consider these two opening messages from different agents:\n",
    "\n",
    "Agent A: \"I propose we split the resources fairly\" Agent B: \"I suggest we divide the assets equitably\"\n",
    "\n",
    "These messages are semantically very similar but use different vocabulary. Explain:\n",
    "\n",
    "- a) How TF-IDF would process these messages differently\n",
    "- b) How word embeddings (like Word2Vec) would handle them\n",
    "- c) Why this distinction matters for negotiation analysis"
   ]
  },
  {
   "cell_type": "markdown",
   "metadata": {},
   "source": [
    "**Grading instruction**. [3 pt]\n",
    "\n",
    "a) [1pt] TF-IDF would treat these messages as completely different because it uses bag-of-words representation.\n",
    "\n",
    "b) [1 pt] Word embeddings would capture semantic similarity because: Words like \"split\"/\"divide\" and \"fairly\"/\"equitably\" would have similar vector representations due to their usage in similar contexts\n",
    "\n",
    "c) [1 pt] One of:\n",
    "\n",
    "Pro word embeddings: Negotiators often express the same strategy using different words. We want to identify negotiation patterns based on meaning, not just vocabulary. TF-IDF features could lead to classifying similar negotiation strategies as different, while word embeddings could capture these.\n",
    "\n",
    "Pro TF-IDF: Although different negotiators might attempt the same semantic strategy, specific word choices could matter. Thus, word embeddings might miss the significance of vocabulary choices."
   ]
  },
  {
   "cell_type": "markdown",
   "metadata": {},
   "source": [
    "**2.5 (4pt)**\n",
    "Staying in the context of negotiations, explain why N-gram models such as bigrams might be more informative than unigrams for predicting negotiation outcomes. Provide two examples of bigrams that would be particularly meaningful in negotiation contexts but would lose their significance if split into unigrams."
   ]
  },
  {
   "cell_type": "markdown",
   "metadata": {},
   "source": [
    "**Grading Instruction.** [4 pt]\n",
    "\n",
    "[2 pt] for correct explanation:  \n",
    "Bigrams capture phrase-level meaning that's lost in unigrams, particularly crucial for negotiations where intent and tone matter\n",
    "\n",
    "[2 pt] for two correct examples. Examples could include:\n",
    "- \"strongly disagree\" vs \"strongly\" and \"disagree\" separately\n",
    "- \"fair offer\" vs \"fair\" and \"offer\" separately\n",
    "- “absolutely not” vs. “absolutely” and “not” separately\n",
    "- “completely understand” vs. “completely” and “understand” separately"
   ]
  },
  {
   "cell_type": "markdown",
   "metadata": {},
   "source": [
    "## Task 2: Analysis of Co-Author Network (50 pts)"
   ]
  },
  {
   "cell_type": "markdown",
   "metadata": {},
   "source": [
    "\n",
    "In this part, you will analyze a reserach publication dataset derived from \n",
    "[social influence analysis in large-scale networks](https://keg.cs.tsinghua.edu.cn/jietang/publications/KDD09-Tang-et-al-Social-Influence-Analysis.pdf) (the paper itself is irrelevant to this exam, don't waste time reading it).\n",
    "\n",
    "The citation data is extracted from DBLP, ACM, MAG (Microsoft Academic Graph), and other sources. Each paper is associated with abstract, authors, year, venue, and title.\n",
    "\n",
    "Dataset: [citation dataset](https://cn.aminer.org/citation)\n",
    "\n",
    "Paper: [social influence analysis in large-scale networks](https://keg.cs.tsinghua.edu.cn/jietang/publications/KDD09-Tang-et-al-Social-Influence-Analysis.pdf)\n"
   ]
  },
  {
   "cell_type": "markdown",
   "metadata": {},
   "source": [
    "### Download data from the web\n",
    "\n",
    "```bash\n",
    "# For MacOS\n",
    "curl https://lfs.aminer.cn/lab-datasets/citation/citation-network1.zip -o citation-network1.zip\n",
    "# For Linux\n",
    "wget https://lfs.aminer.cn/lab-datasets/citation/citation-network1.zip\n",
    "unzip citation-network1.zip\n",
    "ls -l outputacm.txt\n",
    "```\n",
    "\n",
    "For windows we recommend using WSL (Windows Subsystem for Linux) with above commands \n",
    "\n",
    "You can also directly downloading the file from the browser at https://lfs.aminer.cn/lab-datasets/citation/citation-network1.zip\n",
    "\n"
   ]
  },
  {
   "cell_type": "code",
   "execution_count": 1,
   "metadata": {},
   "outputs": [
    {
     "name": "stdout",
     "output_type": "stream",
     "text": [
      "Dataset loaded with 629814 entries.\n",
      "colums: Index(['title', 'authors', 'year', 'venue', 'references', 'abstract'], dtype='object')\n"
     ]
    }
   ],
   "source": [
    "import numpy as np\n",
    "import pandas as pd\n",
    "import scipy as sp\n",
    "import networkx as nx\n",
    "import matplotlib.pyplot as plt\n",
    "\n",
    "from helper import load_data_as_df\n",
    "\n",
    "\n",
    "# Define the file path\n",
    "file_path = \"outputacm.txt\"\n",
    "\n",
    "# Load the data into a DataFrame\n",
    "df = load_data_as_df(file_path)\n",
    "\n",
    "# check if the index column is the same as the index \n",
    "\n",
    "print(f\"Dataset loaded with {len(df)} entries.\")\n",
    "print(f\"colums: {df.columns}\")"
   ]
  },
  {
   "cell_type": "markdown",
   "metadata": {},
   "source": [
    "**3.1 (6 pts)**: Analyze Papers Published Per Year\n",
    "\n",
    "**Objective:**  \n",
    "Analyze and visualize publication trends to understand how the research field has evolved over time.\n",
    "\n",
    "#### Instructions:\n",
    "1. Group the data by the year of publication and count the number of papers for each year (2 pts).\n",
    "2. Plot a bar chart showing the number of papers published per year from **1990 to 2010**. (2 pts)\n",
    "3. Focus on the pattern between **1996 and 2004**:\n",
    "   - **Discuss:** Describe any notable trends or changes in the number of publications during this period. (2 pts)\n",
    "   - **Bonus:** Hypothesize potential reasons for the observed pattern.  (2 pts)\n",
    "     *Hint: Consider events or trends related to the dataset's focus on computer science.* \n"
   ]
  },
  {
   "cell_type": "code",
   "execution_count": 2,
   "metadata": {},
   "outputs": [
    {
     "name": "stdout",
     "output_type": "stream",
     "text": [
      "year\n",
      "2007.0    38312\n",
      "2008.0    45378\n",
      "2009.0    42842\n",
      "2010.0      380\n",
      "2018.0        1\n",
      "dtype: int64\n"
     ]
    },
    {
     "data": {
      "text/plain": [
       "<AxesSubplot: title={'center': 'Number of papers per year'}, xlabel='year'>"
      ]
     },
     "execution_count": 2,
     "metadata": {},
     "output_type": "execute_result"
    },
    {
     "data": {
      "image/png": "[encoded data removed]",
      "text/plain": [
       "<Figure size 640x480 with 1 Axes>"
      ]
     },
     "metadata": {},
     "output_type": "display_data"
    }
   ],
   "source": [
    "# Solution\n",
    "\n",
    "def papers_per_year(data):\n",
    "    return data.groupby(\"year\").size()\n",
    "\n",
    "year_distribution = papers_per_year(df)\n",
    "print(year_distribution.tail())\n",
    "\n",
    "# Plot the number of papers per year from 2000 to 2010\n",
    "year_distribution.loc[1980:2010].plot(kind=\"bar\", title=\"Number of papers per year\")\n",
    "\n",
    "# A reason might be the internet bubble in the late 90s which drove the interest in computer science research up and peaker in 2000 and then declined again."
   ]
  },
  {
   "cell_type": "markdown",
   "metadata": {},
   "source": [
    "**3.2 (4 pts)**: Authors Per Paper Analysis\n",
    "\n",
    "With the rise of interdisciplinary research, multi-authored papers are becoming more common. This task will help us understand collaboration dynamics in the academic world.\n",
    "\n",
    "#### Instructions:\n",
    "- Get the number of authors for each paper and calculate the percentage of papers with four or more authors. (2 pts)\n",
    "- Plot a histogram to show the frequency distribution of the number of authors per paper (2 pts)(choose `bins=range(0, 30)` and set y-axis to log scale)."
   ]
  },
  {
   "cell_type": "code",
   "execution_count": 3,
   "metadata": {},
   "outputs": [
    {
     "name": "stdout",
     "output_type": "stream",
     "text": [
      "Percentage of papers with 4 or more authors: 13.17%\n"
     ]
    }
   ],
   "source": [
    "# Solution\n",
    "\n",
    "df[\"Author_Count\"] = df[\"authors\"].apply(lambda x: len(x))\n",
    "print(f\"Percentage of papers with 4 or more authors: {len(df[df['Author_Count'] >= 4]) / len(df) * 100:.2f}%\")\n",
    "\n"
   ]
  },
  {
   "cell_type": "code",
   "execution_count": 4,
   "metadata": {},
   "outputs": [
    {
     "data": {
      "image/png": "[encoded data removed]",
      "text/plain": [
       "<Figure size 640x480 with 1 Axes>"
      ]
     },
     "metadata": {},
     "output_type": "display_data"
    }
   ],
   "source": [
    "plt.hist(df[\"Author_Count\"], bins=range(0, 30), rwidth=0.8)\n",
    "plt.yscale(\"log\")\n",
    "plt.title(\"Number of Authors per Paper\")\n",
    "plt.xlabel(\"Number of Authors\")\n",
    "plt.ylabel(\"Number of Papers\")\n",
    "plt.show()"
   ]
  },
  {
   "cell_type": "markdown",
   "metadata": {},
   "source": [
    "**3.3 (4 pts)**: Temporal Collaboration Trends\n",
    "\n",
    "Collaboration dynamics can change over time. This task will help us understand how collaboration trends have evolved in the academic world.\n",
    "\n",
    "#### Instructions:\n",
    "- Group the data by publication year, calculate the average number of authors per paper for each year, and create a line plot to visualize how it has changed from 1990 to 2010 (1 pt).\n",
    "- **Discuss:** There has been a hypothesis that the number of authors per paper has increased over time. Based on the plot, do you agree with this hypothesis ? (1 pt)\n",
    "- Compute the P-value of the hypothesis that the average number of authors per paper after 2000 is significantly higher than before 2000. (2 pts)"
   ]
  },
  {
   "cell_type": "code",
   "execution_count": 5,
   "metadata": {},
   "outputs": [
    {
     "data": {
      "text/plain": [
       "<AxesSubplot: title={'center': 'Average number of authors per paper'}, xlabel='year'>"
      ]
     },
     "execution_count": 5,
     "metadata": {},
     "output_type": "execute_result"
    },
    {
     "data": {
      "image/png": "[encoded data removed]",
      "text/plain": [
       "<Figure size 640x480 with 1 Axes>"
      ]
     },
     "metadata": {},
     "output_type": "display_data"
    }
   ],
   "source": [
    "\n",
    "# Solution\n",
    "def average_authors_per_paper(data):\n",
    "    return data.groupby(\"year\")[\"Author_Count\"].mean()\n",
    "\n",
    "average_authors = average_authors_per_paper(df)\n",
    "average_authors.loc[1990:2010].plot(kind=\"line\", title=\"Average number of authors per paper\")"
   ]
  },
  {
   "cell_type": "markdown",
   "metadata": {},
   "source": [
    "**Discuss:** Yes, the average number of authors per paper has steadily increased over time. This indicates that collaboration has increased over time.\n",
    "\n",
    "\n"
   ]
  },
  {
   "cell_type": "code",
   "execution_count": 6,
   "metadata": {},
   "outputs": [
    {
     "name": "stdout",
     "output_type": "stream",
     "text": [
      "P-value: 0.00\n"
     ]
    }
   ],
   "source": [
    "\n",
    "before_2000 = df[df[\"year\"] < 2000][\"Author_Count\"]\n",
    "after_2000 = df[df[\"year\"] >= 2000][\"Author_Count\"]\n",
    "\n",
    "t_stat, p_value = sp.stats.ttest_ind(before_2000, after_2000)\n",
    "print(f\"P-value: {p_value:.2f}\")"
   ]
  },
  {
   "cell_type": "markdown",
   "metadata": {},
   "source": [
    "**3.4 (6 pts)**: Build a Co-Author Network\n",
    "\n",
    "Co-author networks help us visualize and quantify collaborations in academia. Such networks are critical for identifying influential researchers and their role in fostering connections within their communities. Construct a network where nodes represent authors and edges represent collaborations.\n",
    "\n",
    "#### Instructions:\n",
    "- Create a graph where: (5 pts)\n",
    "  - Nodes: Each node represents a unique author, identified by their name in the authors field of the dataset.\n",
    "  - Edges: There is an edge between two nodes if the corresponding authors have co-authored at least one paper. The weight of the edge represents the number of papers the two authors have co-authored together.\n",
    "- After constructing the network, print the following information: (1 pt)\n",
    "  - The total number of nodes (authors) in the network.\n",
    "  - The total number of edges (collaborations) in the network.\n",
    "\n",
    "Example:\n",
    "\n",
    "For a paper authored by [\"Alice\", \"Bob\", \"Charlie\"], the graph should include:\n",
    "- Nodes: Alice, Bob, Charlie.\n",
    "- Edges: Alice-Bob, Alice-Charlie, Bob-Charlie, each with a weight of 1 (assuming no other collaborations between these pairs).\n"
   ]
  },
  {
   "cell_type": "code",
   "execution_count": 11,
   "metadata": {},
   "outputs": [
    {
     "name": "stdout",
     "output_type": "stream",
     "text": [
      "Nodes: 505027, Edges: 1137185\n"
     ]
    }
   ],
   "source": [
    "# Solution 1\n",
    "\n",
    "def create_coauthor_network(data):\n",
    "    G = nx.Graph()\n",
    "    for author_list in data[\"authors\"]:\n",
    "        for i, author1 in enumerate(author_list):\n",
    "            for author2 in author_list[i + 1:]:\n",
    "                if G.has_edge(author1, author2):\n",
    "                    G[author1][author2][\"weight\"] += 1\n",
    "                else:\n",
    "                    G.add_edge(author1, author2, weight=1)\n",
    "    return G\n",
    "\n",
    "\n",
    "G = create_coauthor_network(df)\n",
    "print(f\"Nodes: {G.number_of_nodes()}, Edges: {G.number_of_edges()}\")"
   ]
  },
  {
   "cell_type": "code",
   "execution_count": 12,
   "metadata": {},
   "outputs": [
    {
     "name": "stdout",
     "output_type": "stream",
     "text": [
      "Nodes: 595775, Edges: 1137185\n"
     ]
    }
   ],
   "source": [
    "# Solution 2\n",
    "# One thing to note is that the above method doesn't take into account the single author papers.\n",
    "# In the above method, all authors that have never did co-authorship are not included in the network.\n",
    "# One may think it is better to include them in the network as well. The following code does that.\n",
    "\n",
    "# clone the original graph to G2\n",
    "G2 = G.copy()\n",
    "nodes = df['authors'].values.tolist()\n",
    "nodes = [x for xs in nodes for x in xs]\n",
    "G2.add_nodes_from(nodes)\n",
    "print(f\"Nodes: {G2.number_of_nodes()}, Edges: {G2.number_of_edges()}\")"
   ]
  },
  {
   "cell_type": "code",
   "execution_count": null,
   "metadata": {},
   "outputs": [],
   "source": [
    "# We consider both the solutions as CORRECT, as it depends on whether we consider \"single author papers\" as \"co-authorship\" or not."
   ]
  },
  {
   "cell_type": "markdown",
   "metadata": {},
   "source": [
    "**3.5 (4 pts)**: Analyze the Co-Author Network\n",
    "\n",
    "Connected components in a co-author network can reveal isolated research communities or dominant research hubs. Analyzing the largest component helps us understand the core of academic collaboration\n",
    "\n",
    "#### Instructions:\n",
    "- The degree of a node is the number of edges connected to it. In the context of the co-author network, this represents the number of distinct co-authors an author has collaborated with. Compute the average degree of the network (1 pt).\n",
    "- Connectivity of the Network:\n",
    "  - A network is fully connected if there is a path between every pair of nodes. Determine if the co-author network is fully connected (1 pt). (Hint: A single answer is not enough here. You need to use a method to verify the connectivity of the network.)\n",
    "  - Can you tell how many authors are part of the largest connected component? How much does this account for the total number of authors in the network? (2 pt)\n",
    "<!-- - Compute the average clustering coefficient of the network. -->"
   ]
  },
  {
   "cell_type": "code",
   "execution_count": 14,
   "metadata": {},
   "outputs": [
    {
     "name": "stdout",
     "output_type": "stream",
     "text": [
      "Average Degree: 4.50\n",
      "Average Degree (including single author papers): 3.82\n"
     ]
    }
   ],
   "source": [
    "#  Compute the average degree of the network (1 pt).\n",
    "average_degree = np.mean([d for n, d in G.degree()])\n",
    "print(f\"Average Degree: {average_degree:.2f}\")\n",
    "\n",
    "# For G2 (including single author papers)\n",
    "average_degree = np.mean([d for n, d in G2.degree()])\n",
    "print(f\"Average Degree (including single author papers): {average_degree:.2f}\")\n"
   ]
  },
  {
   "cell_type": "code",
   "execution_count": 10,
   "metadata": {},
   "outputs": [
    {
     "name": "stdout",
     "output_type": "stream",
     "text": [
      "Is the network fully connected: False\n"
     ]
    }
   ],
   "source": [
    "# Determine if the co-author network is fully connected\n",
    "is_connected = nx.is_connected(G)\n",
    "print(f\"Is the network fully connected: {is_connected}\")"
   ]
  },
  {
   "cell_type": "code",
   "execution_count": null,
   "metadata": {},
   "outputs": [],
   "source": [
    "# get the author to node mapping\n",
    "author2node_mapping = {author: i for i, author in enumerate(G.nodes())}\n",
    "node2author_mapping = {i: author for author, i in author2node_mapping.items()}"
   ]
  },
  {
   "cell_type": "code",
   "execution_count": 11,
   "metadata": {},
   "outputs": [
    {
     "name": "stdout",
     "output_type": "stream",
     "text": [
      "Authors in the largest component: 342738\n",
      "Percentage of authors in the largest component: 67.87%\n"
     ]
    }
   ],
   "source": [
    "# How many authors are part of the largest connected component?\n",
    "components = nx.connected_components(G)\n",
    "largest_component = max(components, key=len)\n",
    "component_stats = {\n",
    "    \"largest_component_size\": len(largest_component)\n",
    "}\n",
    "\n",
    "largest = component_stats[\"largest_component_size\"]\n",
    "print(f\"Authors in the largest component: {largest}\")\n",
    "\n",
    "# Compute the percentage of authors in the largest component\n",
    "total = len(G.nodes())\n",
    "print(f\"Percentage of authors in the largest component: {largest / total * 100:.2f}%\")\n"
   ]
  },
  {
   "cell_type": "code",
   "execution_count": 15,
   "metadata": {},
   "outputs": [
    {
     "name": "stdout",
     "output_type": "stream",
     "text": [
      "For G2(including single author papers):\n",
      "Authors in the largest component: 342738\n",
      "Percentage of authors in the largest component: 57.53%\n"
     ]
    }
   ],
   "source": [
    "# For G2 (including single author papers)\n",
    "print(\"For G2(including single author papers):\")\n",
    "# How many authors are part of the largest connected component?\n",
    "components = nx.connected_components(G2)\n",
    "largest_component = max(components, key=len)\n",
    "component_stats = {\n",
    "    \"largest_component_size\": len(largest_component)\n",
    "}\n",
    "\n",
    "largest = component_stats[\"largest_component_size\"]\n",
    "print(f\"Authors in the largest component: {largest}\")\n",
    "\n",
    "# Compute the percentage of authors in the largest component\n",
    "total = len(G2.nodes())\n",
    "print(f\"Percentage of authors in the largest component: {largest / total * 100:.2f}%\")\n"
   ]
  },
  {
   "cell_type": "markdown",
   "metadata": {},
   "source": [
    "**3.6 (4 pts)**: Top Authors by Collaborations\n",
    "\n",
    "#### Instructions:\n",
    "- Get the degree for all nodes in the network and print the top 10 authors by degree (1 pt) (Note: some entries (e.g., \"II,\" \"III,\" \"Jr.\") may not represent real authors due to data quality issues. Please keep them in the list and don't do any cleaning.)\n",
    "- A high degree  indicates that an author has collaborated with many other authors. However, it does not consider if the collaborations happen multiple times between the same authors. A weighted degree would be a better measure to consider the number of collaborations between authors. Get the top 10 authors by weighted degree. P.S. The weighted degree is the sum of the weights of the edges connected to the node. (1 pt)\n",
    "- Which two authors have the highest number of collaborations? How many papers have they co-authored together? (2 pt)"
   ]
  },
  {
   "cell_type": "code",
   "execution_count": 14,
   "metadata": {},
   "outputs": [
    {
     "name": "stdout",
     "output_type": "stream",
     "text": [
      " Jr.: 6343\n",
      " III: 1340\n",
      " II: 785\n",
      "Wei Wang: 316\n",
      "Ming Li: 242\n",
      "Wei Li: 228\n",
      "Lei Zhang: 203\n",
      "Elisa Bertino: 197\n",
      "Hector Garcia-Molina: 193\n",
      "Yan Zhang: 189\n"
     ]
    }
   ],
   "source": [
    "# top 10 authors by degree\n",
    "top_degree_authors = sorted(G.degree, key=lambda x: x[1], reverse=True)[:10]\n",
    "print(\"Top 10 authors by degree:\")\n",
    "for node, centrality in top_degree_authors:\n",
    "    print(f\"{node}: {centrality}\")\n",
    "\n"
   ]
  },
  {
   "cell_type": "code",
   "execution_count": null,
   "metadata": {},
   "outputs": [
    {
     "name": "stdout",
     "output_type": "stream",
     "text": [
      "Top 10 nodes by weighted degree centrality:\n",
      " Jr.: 9083\n",
      " III: 1836\n",
      " II: 1059\n",
      "Philip S. Yu: 476\n",
      "Wei Wang: 471\n",
      "Elisa Bertino: 416\n",
      "Ming Li: 382\n",
      "Ron Kikinis: 359\n",
      "Thomas J. Cashman: 338\n",
      "Hector Garcia-Molina: 334\n"
     ]
    }
   ],
   "source": [
    "# Compute the weighted degree centrality\n",
    "weighted_degree_centrality = dict(G.degree(weight=\"weight\"))\n",
    "\n",
    "# Print the top 10 nodes by weighted degree centrality\n",
    "top_weighted_degree = sorted(weighted_degree_centrality.items(), key=lambda x: x[1], reverse=True)[:10]\n",
    "print(\"Top 10 nodes by weighted degree centrality:\")\n",
    "for node, centrality in top_weighted_degree:\n",
    "    print(f\"{node}: {centrality}\")\n"
   ]
  },
  {
   "cell_type": "code",
   "execution_count": 21,
   "metadata": {},
   "outputs": [
    {
     "name": "stdout",
     "output_type": "stream",
     "text": [
      "        researcher_A          researcher_B  num_paper\n",
      "0     Gary B. Shelly     Thomas J. Cashman        156\n",
      "1      Didier Dubois           Henri Prade         77\n",
      "2     Irith Pomeranz     Sudhakar M. Reddy         73\n",
      "3                Jr.                   Jr.         67\n",
      "4  Divyakant Agrawal         Amr El Abbadi         67\n",
      "5                Jr.      Paul F. Reynolds         51\n",
      "6                Jr.         E. G. Coffman         49\n",
      "7    Makoto Takizawa        Tomoya Enokido         47\n",
      "8  Jock D. Mackinlay        Stuart K. Card         43\n",
      "9                Jr.  Earl E. Swartzlander         40\n"
     ]
    }
   ],
   "source": [
    "# - Which two authors have the highest number of collaborations? How many papers have they co-authored together?\n",
    "\n",
    "# Solution\n",
    "def top_collaborations(G):\n",
    "    edge_weights = nx.get_edge_attributes(G, \"weight\")\n",
    "    sorted_edges = sorted(edge_weights.items(), key=lambda x: x[1], reverse=True)\n",
    "    return sorted_edges[:10]\n",
    "\n",
    "colab = top_collaborations(G)\n",
    "dict_colab = []\n",
    "for (p1, p2), n in colab:\n",
    "    dict_colab.append({\"researcher_A\": p1, \"researcher_B\": p2, \"num_paper\": n})\n",
    "\n",
    "print(pd.DataFrame(dict_colab))\n",
    "\n",
    "    "
   ]
  },
  {
   "cell_type": "markdown",
   "metadata": {},
   "source": [
    "**3.7 (4 pts)**: Analyze the reference/citation information \n",
    "\n",
    "Understanding the citation patterns of papers helps reveal their academic impact and how knowledge propagates through the research community. In this task, you will analyze the reference and citation relationships within the dataset.\n",
    "\n",
    "First, let's create a citation network where:\n",
    "- Nodes: Each node represents a unique paper, identified by its id in the dataset.\n",
    "- Edges: There is an edge from paper A to paper B if paper A cites paper B. \n",
    "\n",
    "\n",
    "#### Instructions:\n",
    "- **Discuss:** Is it reasonable that the citation network contains cycles?  What would a cycle( not self loop) in the citation network represent? (2 pt)\n",
    "- Which paper has the highest number of citations? How many papers cite this paper? (1 pt)\n",
    "- Which paper has the highest number of references? How many papers does this paper cite? (1 pt)\n"
   ]
  },
  {
   "cell_type": "markdown",
   "metadata": {},
   "source": [
    "**Discuss:** No, it's technically not possible to have a cycle in a citation network. A citation is a temporal relationship where a paper published at time t1 can cite a paper published at time t2 where t2 < t1. Therefore, a cycle in a citation network would imply a paper citing a paper published after it which is not possible."
   ]
  },
  {
   "cell_type": "code",
   "execution_count": 24,
   "metadata": {},
   "outputs": [
    {
     "name": "stdout",
     "output_type": "stream",
     "text": [
      "Paper with highest in-degree(Citations):\n",
      "No.453387: Introduction to algorithms; it has 816 citations\n",
      "\n",
      "Paper with highest out-degree(References):\n",
      "216749: Query evaluation techniques for large databases; it has 195 references\n"
     ]
    }
   ],
   "source": [
    "# Which paper has the highest number of citations? How many papers cite this paper?\n",
    "df_with_references = df[df[\"references\"].apply(lambda x: len(x) > 0)]\n",
    "len(df_with_references)\n",
    "\n",
    "# create a dictionary with the paper id as key and all the references as values\n",
    "references_dict = dict(zip(df_with_references.index, df_with_references[\"references\"]))\n",
    "\n",
    "# create a directed graph from the references dictionary using networkx\n",
    "G = nx.DiGraph(references_dict)\n",
    "\n",
    "\n",
    "# compute the in-degree and out-degree of the graph and print the top 10 papers with the highest in-degree and out-degree respectively\n",
    "in_degree = dict(G.in_degree())\n",
    "out_degree = dict(G.out_degree())\n",
    "\n",
    "sorted_in_degree = sorted(in_degree.items(), key=lambda x: x[1], reverse=True)\n",
    "sorted_out_degree = sorted(out_degree.items(), key=lambda x: x[1], reverse=True)\n",
    "\n",
    "print(\"Paper with highest in-degree(Citations):\")\n",
    "for paper_id, degree in sorted_in_degree[:1]:\n",
    "    print(f\"No.{paper_id}: {df.loc[paper_id]['title']}; it has {degree} citations\")\n",
    "\n",
    "print(\"\\nPaper with highest out-degree(References):\")\n",
    "for paper_id, degree in sorted_out_degree[:1]:\n",
    "    print(f\"{paper_id}: {df.loc[paper_id]['title']}; it has {degree} references\")\n",
    "    \n"
   ]
  },
  {
   "cell_type": "markdown",
   "metadata": {},
   "source": [
    "**3.8 (3 pts)**: Analyze the Citation Distribution \n",
    "\n",
    "The citation distribution of papers can provide insights into the impact of research publications. In this task, you will analyze the citation distribution in the dataset.\n",
    "\n",
    "<!-- - Plot the number of papers having a certain level of citation x (x-axis) against x (y-axis) in a log-log scale. -->\n",
    "- Create a frequency distribution where the x-axis represents the number of citations and the y-axis represents the number of papers that have that number of citations. Plot two scatters plot of the frequency distribution first in a normal scale and second in a log-log scale. (2 pts)\n",
    "- **Discuss**: What does the plot suggest about the citation distribution in the dataset? (1 pt)"
   ]
  },
  {
   "cell_type": "code",
   "execution_count": null,
   "metadata": {},
   "outputs": [
    {
     "data": {
      "image/png": "[encoded data removed]",
      "text/plain": [
       "<Figure size 800x600 with 1 Axes>"
      ]
     },
     "metadata": {},
     "output_type": "display_data"
    },
    {
     "data": {
      "image/png": "[encoded data removed]",
      "text/plain": [
       "<Figure size 800x600 with 1 Axes>"
      ]
     },
     "metadata": {},
     "output_type": "display_data"
    }
   ],
   "source": [
    "# Plot the in-degree distribution\n",
    "in_degree_values = list(in_degree.values())\n",
    "in_degree_distribution = pd.Series(in_degree_values).value_counts().sort_index()\n",
    "\n",
    "\n",
    "# Plotting in log-log scale\n",
    "plt.figure(figsize=(8, 6))\n",
    "plt.loglog(in_degree_distribution.index, in_degree_distribution, marker='o', linestyle='None', markersize=5)\n",
    "plt.title(\"Log-Log Plot of Citation Distribution\")\n",
    "plt.xlabel(\"Citation Count (x)\")\n",
    "plt.ylabel(\"Number of Papers with Citation Count x\")\n",
    "plt.grid(True, which=\"both\", linestyle=\"--\", linewidth=0.5)\n",
    "plt.show()\n",
    "\n",
    "# Plotting in log-log scale\n",
    "plt.figure(figsize=(8, 6))\n",
    "plt.plot(in_degree_distribution.index, in_degree_distribution, marker='o', linestyle='None', markersize=5)\n",
    "plt.title(\"Log-Log Plot of Citation Distribution\")\n",
    "plt.xlabel(\"Citation Count (x)\")\n",
    "plt.ylabel(\"Number of Papers with Citation Count x\")\n",
    "plt.grid(True, which=\"both\", linestyle=\"--\", linewidth=0.5)\n",
    "plt.show()\n"
   ]
  },
  {
   "cell_type": "markdown",
   "metadata": {},
   "source": [
    "**Discuss**: The plot suggests that the citation distribution follows a power-law distribution. A few papers have a high number of citations, while the majority have a low number of citations. This indicates that a small number of papers have a significant impact, while most papers have minimal impact in terms of citations."
   ]
  },
  {
   "cell_type": "markdown",
   "metadata": {},
   "source": [
    "**3.9 (3 pts)**: Central Tendency of Citation Distribution\n",
    "\n",
    "**Discuss**: There are different ways to describe the typical value of the citation distribution, such as mean. Determine the measure you think best represents the dataset and explain your reasoning. (Hint: Consider the distribution of the citation data above)\n"
   ]
  },
  {
   "cell_type": "markdown",
   "metadata": {},
   "source": [
    "Geometric mean is the best because the distribution is skewed and follows a power-law distribution. (This answer gives to 3 pts)\n",
    "\n",
    "Median is the second best because it is less sensitive to outliers compared to the mean. (This leads to 2 pts)"
   ]
  },
  {
   "cell_type": "markdown",
   "metadata": {},
   "source": [
    "**3.10 (2pts)**: Network Centrality Measures\n",
    "\n",
    "PageRank, is a measure of influence based on link structure. Applying it to citations allows us to rank papers by their academic importance\n",
    "\n",
    "#### Instructions:\n",
    "- You are tasked with curating the 'Top 10 Influential Papers' from this dataset. Use PageRank to justify your selection and display the top 10 papers titles by page rank. (2 pts)\n",
    "- **bonus**: Identify patterns among the top-ranked papers. (2 pts)\n"
   ]
  },
  {
   "cell_type": "code",
   "execution_count": 27,
   "metadata": {},
   "outputs": [
    {
     "name": "stdout",
     "output_type": "stream",
     "text": [
      "Top 10 papers by page rank:\n",
      "The art of computer programming, volume 1 (3rd ed.): fundamental algorithms\n",
      "The art of computer programming, volume 2 (3rd ed.): seminumerical algorithms\n",
      "A relational model of data for large shared data banks\n",
      "A method for obtaining digital signatures and public-key cryptosystems\n",
      "Introduction to algorithms\n",
      "Simulation Modeling and Analysis, 2nd edition\n",
      "Compilers: principles, techniques, and tools\n",
      "C4.5: programs for machine learning\n",
      "Smalltalk-80: the language and its implementation\n",
      "The nature of statistical learning theory\n"
     ]
    }
   ],
   "source": [
    "\n",
    "def compute_page_rank(G):\n",
    "    page_rank = nx.pagerank(G)\n",
    "    sorted_page_rank = sorted(page_rank.items(), key=lambda x: x[1], reverse=True)\n",
    "    return sorted_page_rank[:10]\n",
    "\n",
    "top_page_rank = compute_page_rank(G)\n",
    "\n",
    "# find the paper title of the top 10 papers by page rank\n",
    "top_page_rank_titles = [df.loc[paper_id][\"title\"] for paper_id, _ in top_page_rank]\n",
    "\n",
    "print(\"Top 10 papers by page rank:\")\n",
    "print(\"\\n\".join(top_page_rank_titles))\n"
   ]
  },
  {
   "cell_type": "markdown",
   "metadata": {},
   "source": [
    "**Discuss**: The top-ranked papers are mostly classical textbooks in Computer Science, including papers on Algorithm, Compiler, Database, and Machine Learning. (Other reasonable answers are also accepted)"
   ]
  },
  {
   "cell_type": "markdown",
   "metadata": {},
   "source": [
    "**3.11 (5 pts)**: Bridge Papers\n",
    "\n",
    "Bridge papers are those that connect different research communities. They are essential for fostering interdisciplinary research and knowledge transfer. \n",
    "\n",
    "#### Instructions: \n",
    "- Build a small citation network that only includes papers published in 2005. (2 pts)\n",
    "- Which measurement can help us identify bridge papers in a citation network?  (2 pt)\n",
    "- Try to find top10 bridge papers in the dataset. By looking at their titles, can you identify the research communities they connect? (Pick 2 papers) (1 pt)\n",
    "\n"
   ]
  },
  {
   "cell_type": "code",
   "execution_count": 29,
   "metadata": {},
   "outputs": [
    {
     "name": "stdout",
     "output_type": "stream",
     "text": [
      "Nodes: 9370, Edges: 692\n"
     ]
    }
   ],
   "source": [
    "#Build a small citation network that only includes papers published between 2000 and 2005.\n",
    "\n",
    "sub_G = G.copy()\n",
    "nodes_to_remove = [node for node in sub_G.nodes() if df.loc[node][\"year\"] != 2005]\n",
    "\n",
    "sub_G.remove_nodes_from(nodes_to_remove)\n",
    "\n",
    "print(f\"Nodes: {sub_G.number_of_nodes()}, Edges: {sub_G.number_of_edges()}\")\n"
   ]
  },
  {
   "cell_type": "code",
   "execution_count": 31,
   "metadata": {},
   "outputs": [],
   "source": [
    "# Which measurement can help us identify bridge papers in a citation network?\n",
    "# Answer：We can use betweenness centrality to identify bridge papers in a citation network. \n"
   ]
  },
  {
   "cell_type": "code",
   "execution_count": 32,
   "metadata": {},
   "outputs": [
    {
     "name": "stdout",
     "output_type": "stream",
     "text": [
      "The Globus Striped GridFTP Framework and Server\n",
      "An integrated and adaptive decision-support framework for high-tech manufacturing and service networks\n",
      "Detailed Exploration of Face-related Processing in Congenital Prosopagnosia: 1. Behavioral Findings\n",
      "Using Discussion Prompts to Scaffold Parent-Child Collaboration Around a Computer-Based Activity\n",
      "Efficient constraint processing for location-aware computing\n",
      "Performance measures for service systems with a random arrival rate\n",
      "Generation of problems, answers, grade, and feedback---case study of a fully automated tutor\n",
      "A java library for simulating contact centers\n",
      "Stability of persistence diagrams\n",
      "Nonlinear operator integration factor splitting for the shallow water equations\n"
     ]
    }
   ],
   "source": [
    "# find the paper title of the top 10 papers by betweenness centrality\n",
    "def compute_betweenness_centrality(G):\n",
    "    betweenness_centrality = nx.betweenness_centrality(G)\n",
    "    sorted_betweenness = sorted(betweenness_centrality.items(), key=lambda x: x[1], reverse=True)\n",
    "    return sorted_betweenness[:10]\n",
    "\n",
    "top_betweenness = compute_betweenness_centrality(sub_G)\n",
    "\n",
    "top_betweenness_titles = [df.loc[paper_id][\"title\"] for paper_id, _ in top_betweenness]\n",
    "\n",
    "print(\"\\n\".join(top_betweenness_titles))"
   ]
  },
  {
   "cell_type": "markdown",
   "metadata": {},
   "source": [
    "**3.12 (5 pts)**: Author-Citation Network\n",
    "\n",
    "In the previous tasks, we analyzed the co-author network and paper-citation network. In this task, we will analyze the author-citation network, where:\n",
    "- Nodes: Each node represents a unique author, identified by their name in the authors field of the dataset.\n",
    "- Edges: There is an edge from author A to author B if author A cites a paper authored by author B. \n",
    "- The weight of the edge represents the total number of citations from author A to author B.\n",
    "\n",
    "#### Instructions:\n",
    "- Given that we have a Author-Paper Matrix $A$ where each row represents an paper and each column represents an author. The value in the matrix is 1 if the author has contributed to the paper, 0 otherwise. And we also have a Paper-Paper citation matrix $P$ (square matrix) where the value at coordinates (i, j) is 1 if paper j cites paper i, 0 otherwise.\n",
    "- How can you get a Author-Author citation matrix from the above two matrices by matrix multiplication? (You don't need to implement this, just give the formula) (2 pts)\n",
    "- Author A may have never cited author B, but author A might have cited a few papers which cited works by author B. This can be seen as a 2nd degree citation.  More formally, a 2nd degree citation matrix $C_2$ has at each cell (i, j) the number 2nd degree citations from author i to author j. How can you get a 2nd degree citation matrix from the Author-Paper Matrix $A$ and Paper-Paper citation matrix $P$? (You don't need to implement this, just give the formula) (2 pts)\n",
    "- Can you generalize this to nth degree citation matrix? (1 pt)"
   ]
  },
  {
   "cell_type": "markdown",
   "metadata": {},
   "source": [
    "- $A^T P A $\n",
    "- $A^T P^2 A $\n",
    "- $A^T P^n A $"
   ]
  },
  {
   "cell_type": "markdown",
   "metadata": {},
   "source": []
  }
 ],
 "metadata": {
  "kernelspec": {
   "display_name": "ada_exam_2024",
   "language": "python",
   "name": "python3"
  },
  "language_info": {
   "codemirror_mode": {
    "name": "ipython",
    "version": 3
   },
   "file_extension": ".py",
   "mimetype": "text/x-python",
   "name": "python",
   "nbconvert_exporter": "python",
   "pygments_lexer": "ipython3",
   "version": "3.10.16"
  }
 },
 "nbformat": 4,
 "nbformat_minor": 4
}
